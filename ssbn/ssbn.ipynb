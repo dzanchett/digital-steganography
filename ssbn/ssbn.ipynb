{
 "cells": [
  {
   "cell_type": "markdown",
   "metadata": {},
   "source": [
    "<h1>Esteganografia SSB-N</h1>"
   ]
  },
  {
   "cell_type": "markdown",
   "metadata": {},
   "source": [
    "<h3>Importação das Bibliotecas</h3>"
   ]
  },
  {
   "cell_type": "code",
   "execution_count": 57,
   "metadata": {},
   "outputs": [],
   "source": [
    "import numpy as np\n",
    "import pandas as pd\n",
    "from skimage.transform import rescale\n",
    "import skimage\n",
    "import bitarray\n",
    "import math\n",
    "import cv2\n",
    "import random\n",
    "from scipy import fftpack\n",
    "from skimage.io import imread, imshow, imsave"
   ]
  },
  {
   "cell_type": "markdown",
   "metadata": {},
   "source": [
    "<h3>Declaração das Funções</h3>"
   ]
  },
  {
   "cell_type": "code",
   "execution_count": 58,
   "metadata": {},
   "outputs": [],
   "source": [
    "def __messageToBits(message):\n",
    "    tag = \"{:<10}\".format(str(len(message)*8))\n",
    "    message = tag+message\n",
    "    code = bitarray.bitarray()\n",
    "    code.frombytes(message.encode('utf-8'))\n",
    "    code = \"\".join(['1' if x == True else '0' for x in code.tolist()])\n",
    "    return code"
   ]
  },
  {
   "cell_type": "code",
   "execution_count": 59,
   "metadata": {},
   "outputs": [],
   "source": [
    "def __hideMessage(img, message):\n",
    "    vetNormalize1 = [225, 227, 229, 231, 233, 235, 237, 239, 241, 243, 245, 247, 249, 251, 253, 255]\n",
    "    vetNormalize2 = [226, 227, 230, 231, 234, 235, 238, 239, 242, 243, 246, 247, 250, 251, 254, 255]\n",
    "    vetNormalize3 = [228, 229, 230, 231, 236, 237, 238, 239, 244, 245, 246, 247, 252, 253, 254, 255]\n",
    "    vetNormalize4 = [232, 233, 234, 235, 236, 237, 238, 239, 248, 249, 250, 251, 252, 253, 254, 255]\n",
    "\n",
    "    shape = img.shape\n",
    "    img = img.flatten()\n",
    "    code = list(message)\n",
    "    code_len = len(code)\n",
    "    password = [random.randint(0, 3) for i in range(code_len)]\n",
    "\n",
    "    for i,x in enumerate(img):\n",
    "        if i <code_len:\n",
    "            valorPixel = x\n",
    "            tempDiff = 256\n",
    "            zListTemp = list('{0:08b}'.format(x))\n",
    "\n",
    "            if password[i] == 0:\n",
    "                zbits = zListTemp[:7]+[code[i]]\n",
    "                img[i] = int(\"\".join(zbits), 2)\n",
    "\n",
    "                for j in vetNormalize1:\n",
    "                    if abs((img[i] & j)-img[i]) < tempDiff:\n",
    "                        valorPixel = (img[i] & j)\n",
    "                        tempDiff = abs((img[i] & j)-img[i])\n",
    "            elif password[i] == 1:\n",
    "                zbits = zListTemp[:6]+[code[i]]+zListTemp[7:]\n",
    "                img[i] = int(\"\".join(zbits), 2)\n",
    "\n",
    "                for j in vetNormalize2:\n",
    "                    if abs((img[i] & j)-img[i]) < tempDiff:\n",
    "                        valorPixel = (img[i] & j)\n",
    "                        tempDiff = abs((img[i] & j)-img[i])\n",
    "            elif password[i] == 2:\n",
    "                zbits = zListTemp[:5]+[code[i]]+zListTemp[6:]\n",
    "                img[i] = int(\"\".join(zbits), 2)\n",
    "\n",
    "                for j in vetNormalize3:\n",
    "                    if abs((img[i] & j)-img[i]) < tempDiff:\n",
    "                        valorPixel = (img[i] & j)\n",
    "                        tempDiff = abs((img[i] & j)-img[i])\n",
    "            elif password[i] == 3:\n",
    "                zbits = zListTemp[:4]+[code[i]]+zListTemp[5:]\n",
    "                img[i] = int(\"\".join(zbits), 2)\n",
    "\n",
    "                for j in vetNormalize4:\n",
    "                    if abs((img[i] & j)-img[i]) < tempDiff:\n",
    "                        valorPixel = (img[i] & j)\n",
    "                        tempDiff = abs((img[i] & j)-img[i])\n",
    "\n",
    "            img[i] = valorPixel\n",
    "        else:\n",
    "            return img.reshape(shape), password\n",
    "    return img.reshape(shape), password"
   ]
  },
  {
   "cell_type": "code",
   "execution_count": 60,
   "metadata": {},
   "outputs": [],
   "source": [
    "def __toGrayscale(imageA):\n",
    "    r = imageA[:,:,0]\n",
    "    g = imageA[:,:,1]\n",
    "    b = imageA[:,:,2]\n",
    "\n",
    "    shapeImage = imageA.shape;\n",
    "    retImage = np.zeros((shapeImage[0], shapeImage[1]))\n",
    "\n",
    "    for i in range(shapeImage[0]):\n",
    "        for j in range(shapeImage[1]):\n",
    "            retImage[i][j] = int(0.2126*r[i][j] + 0.7152*g[i][j] + 0.0722*b[i][j])\n",
    "\n",
    "    return retImage.astype(\"uint8\")"
   ]
  },
  {
   "cell_type": "code",
   "execution_count": 61,
   "metadata": {},
   "outputs": [],
   "source": [
    "def encode(cover_image, secret_message):\n",
    "    cover_image = __toGrayscale(cover_image)\n",
    "\n",
    "    image_height  = cover_image.shape[0]\n",
    "    image_width   = cover_image.shape[1]\n",
    "\n",
    "    image_size_bytes = image_height * image_width\n",
    "    image_size_bits  = image_size_bytes * 8\n",
    "    image_size_kbytes = image_size_bytes / 1024\n",
    "\n",
    "    hide_size_bits  = image_size_bytes\n",
    "    hide_size_kbytes = (hide_size_bits / 8) / 1024\n",
    "\n",
    "    message_size_kbytes = len(secret_message)/8000\n",
    "\n",
    "    if message_size_kbytes > hide_size_kbytes:\n",
    "        raise Exception('Mensagem muito grande!')\n",
    "\n",
    "    secret_message_bits = __messageToBits(secret_message)\n",
    "\n",
    "    image_with_message, password = __hideMessage(cover_image, secret_message_bits)\n",
    "\n",
    "    return image_with_message, password"
   ]
  },
  {
   "cell_type": "code",
   "execution_count": 62,
   "metadata": {},
   "outputs": [],
   "source": [
    "def decode(cover_image, password):\n",
    "    bit_message = \"\"\n",
    "    bit_count = 0\n",
    "    bit_length = 200\n",
    "    password_counter = 0\n",
    "    for i,x in enumerate(cover_image):\n",
    "        for j,y in enumerate(x):\n",
    "            zbits = '{0:08b}'.format(y)\n",
    "\n",
    "            if password[password_counter] == 0:\n",
    "                bit_message += zbits[7]\n",
    "            elif password[password_counter] == 1:\n",
    "                bit_message += zbits[6]\n",
    "            elif password[password_counter] == 2:\n",
    "                bit_message += zbits[5]\n",
    "            elif password[password_counter] == 3:\n",
    "                bit_message += zbits[4]\n",
    "\n",
    "            password_counter += 1\n",
    "            bit_count += 1\n",
    "            if bit_count == 80:\n",
    "                try:\n",
    "                    decoded_tag = bitarray.bitarray(bit_message).tobytes().decode('utf-8')\n",
    "                    bit_length = int(decoded_tag)+80\n",
    "                    bit_message = \"\"\n",
    "                except:\n",
    "                    print(\"Ocorreu um erro ao obter a mensagem!\")\n",
    "                    return\n",
    "            elif bit_count >= bit_length:\n",
    "                return bitarray.bitarray(bit_message).tobytes().decode('utf-8')"
   ]
  },
  {
   "cell_type": "markdown",
   "metadata": {},
   "source": [
    "<h3>Leitura da Imagem de Capa</h3>"
   ]
  },
  {
   "cell_type": "code",
   "execution_count": 63,
   "metadata": {},
   "outputs": [],
   "source": [
    "imgCapa = imread('../imagem.jpg')"
   ]
  },
  {
   "cell_type": "code",
   "execution_count": 64,
   "metadata": {},
   "outputs": [
    {
     "data": {
      "text/plain": [
       "<matplotlib.image.AxesImage at 0x7f9c071dfe80>"
      ]
     },
     "execution_count": 64,
     "metadata": {},
     "output_type": "execute_result"
    },
    {
     "data": {
      "image/png": "[encoded data removed]",
      "text/plain": [
       "<Figure size 432x288 with 1 Axes>"
      ]
     },
     "metadata": {
      "needs_background": "light"
     },
     "output_type": "display_data"
    }
   ],
   "source": [
    "imshow(imgCapa)"
   ]
  },
  {
   "cell_type": "markdown",
   "metadata": {},
   "source": [
    "<h3>Armazena a string <code><em>Hello World!</em></code> na imagem de capa</h3>\n",
    "<p>Utilizando a técnica SSB-N</p>"
   ]
  },
  {
   "cell_type": "code",
   "execution_count": 65,
   "metadata": {},
   "outputs": [],
   "source": [
    "imgEstg, idxOrder = encode(imgCapa, 'Hello World!')"
   ]
  },
  {
   "cell_type": "code",
   "execution_count": 66,
   "metadata": {},
   "outputs": [
    {
     "data": {
      "text/plain": [
       "<matplotlib.image.AxesImage at 0x7f9c06ef8fa0>"
      ]
     },
     "execution_count": 66,
     "metadata": {},
     "output_type": "execute_result"
    },
    {
     "data": {
      "image/png": "[encoded data removed]",
      "text/plain": [
       "<Figure size 432x288 with 1 Axes>"
      ]
     },
     "metadata": {
      "needs_background": "light"
     },
     "output_type": "display_data"
    }
   ],
   "source": [
    "imshow(imgEstg)"
   ]
  },
  {
   "cell_type": "markdown",
   "metadata": {},
   "source": [
    "<h3>Lê a string contida na imagem de capa</h3>"
   ]
  },
  {
   "cell_type": "code",
   "execution_count": 67,
   "metadata": {},
   "outputs": [
    {
     "data": {
      "text/plain": [
       "'Hello World!'"
      ]
     },
     "execution_count": 67,
     "metadata": {},
     "output_type": "execute_result"
    }
   ],
   "source": [
    "decode(imgEstg, idxOrder)"
   ]
  },
  {
   "cell_type": "code",
   "execution_count": 68,
   "metadata": {},
   "outputs": [
    {
     "name": "stdout",
     "output_type": "stream",
     "text": [
      "Ocorreu um erro ao obter a mensagem!\n"
     ]
    }
   ],
   "source": [
    "decode(imgEstg, idxOrder[::-1])"
   ]
  },
  {
   "cell_type": "markdown",
   "metadata": {},
   "source": [
    "<h3>Salva a imagem de capa no formato bitmap, lê o arquivo salvo e decodifica novamente a mensagem secreta</h3>"
   ]
  },
  {
   "cell_type": "code",
   "execution_count": 69,
   "metadata": {},
   "outputs": [],
   "source": [
    "imsave('lsb.bmp', imgEstg)"
   ]
  },
  {
   "cell_type": "code",
   "execution_count": 70,
   "metadata": {},
   "outputs": [],
   "source": [
    "password = \"\"\n",
    "\n",
    "for idx in idxOrder:\n",
    "    password += str(idx)\n",
    "    \n",
    "passwordFile = open(\"password.txt\", \"w\")\n",
    "passwordFile.write(password)\n",
    "passwordFile.close()"
   ]
  },
  {
   "cell_type": "code",
   "execution_count": 71,
   "metadata": {},
   "outputs": [],
   "source": [
    "imgSaved = imread('lsb.bmp')"
   ]
  },
  {
   "cell_type": "code",
   "execution_count": 72,
   "metadata": {},
   "outputs": [
    {
     "data": {
      "text/plain": [
       "<matplotlib.image.AxesImage at 0x7f9c073ef280>"
      ]
     },
     "execution_count": 72,
     "metadata": {},
     "output_type": "execute_result"
    },
    {
     "data": {
      "image/png": "[encoded data removed]",
      "text/plain": [
       "<Figure size 432x288 with 1 Axes>"
      ]
     },
     "metadata": {
      "needs_background": "light"
     },
     "output_type": "display_data"
    }
   ],
   "source": [
    "imshow(imgSaved)"
   ]
  },
  {
   "cell_type": "code",
   "execution_count": 73,
   "metadata": {},
   "outputs": [],
   "source": [
    "passwordFile = open(\"password.txt\", \"r\")\n",
    "passwordSaved = passwordFile.read()\n",
    "passwordFile.close()\n",
    "\n",
    "idxOrderSaved = []\n",
    "for i in passwordSaved:\n",
    "    idxOrderSaved.append(int(i))"
   ]
  },
  {
   "cell_type": "code",
   "execution_count": 74,
   "metadata": {},
   "outputs": [
    {
     "data": {
      "text/plain": [
       "'Hello World!'"
      ]
     },
     "execution_count": 74,
     "metadata": {},
     "output_type": "execute_result"
    }
   ],
   "source": [
    "decode(imgSaved, idxOrderSaved)"
   ]
  },
  {
   "cell_type": "code",
   "execution_count": null,
   "metadata": {},
   "outputs": [],
   "source": []
  }
 ],
 "metadata": {
  "kernelspec": {
   "display_name": "Python 3",
   "language": "python",
   "name": "python3"
  },
  "language_info": {
   "codemirror_mode": {
    "name": "ipython",
    "version": 3
   },
   "file_extension": ".py",
   "mimetype": "text/x-python",
   "name": "python",
   "nbconvert_exporter": "python",
   "pygments_lexer": "ipython3",
   "version": "3.8.10"
  }
 },
 "nbformat": 4,
 "nbformat_minor": 4
}

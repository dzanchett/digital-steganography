{
  "nbformat": 4,
  "nbformat_minor": 0,
  "metadata": {
    "colab": {
      "name": "DCT - JPEG - Tiny.ipynb",
      "provenance": [],
      "collapsed_sections": [],
      "machine_shape": "hm"
    },
    "kernelspec": {
      "name": "python3",
      "display_name": "Python 3"
    },
    "language_info": {
      "name": "python"
    },
    "widgets": {
      "application/vnd.jupyter.widget-state+json": {
        "89deabf16b7c439b8957aa6cbe0a461a": {
          "model_module": "@jupyter-widgets/controls",
          "model_name": "HBoxModel",
          "model_module_version": "1.5.0",
          "state": {
            "_dom_classes": [],
            "_model_module": "@jupyter-widgets/controls",
            "_model_module_version": "1.5.0",
            "_model_name": "HBoxModel",
            "_view_count": null,
            "_view_module": "@jupyter-widgets/controls",
            "_view_module_version": "1.5.0",
            "_view_name": "HBoxView",
            "box_style": "",
            "children": [
              "IPY_MODEL_58d414bae807485291e967bef3e9973a",
              "IPY_MODEL_8454736216c840f68fe5bb687043b60c",
              "IPY_MODEL_c119acd707e04796b557cc1f78fe9034"
            ],
            "layout": "IPY_MODEL_c828e3908f7645c39a93b44dd4c5c724"
          }
        },
        "58d414bae807485291e967bef3e9973a": {
          "model_module": "@jupyter-widgets/controls",
          "model_name": "HTMLModel",
          "model_module_version": "1.5.0",
          "state": {
            "_dom_classes": [],
            "_model_module": "@jupyter-widgets/controls",
            "_model_module_version": "1.5.0",
            "_model_name": "HTMLModel",
            "_view_count": null,
            "_view_module": "@jupyter-widgets/controls",
            "_view_module_version": "1.5.0",
            "_view_name": "HTMLView",
            "description": "",
            "description_tooltip": null,
            "layout": "IPY_MODEL_43037a6b154540d48005a74bb4ec7e87",
            "placeholder": "​",
            "style": "IPY_MODEL_1b76ffa1785b46cf9eddabbcaff7d93f",
            "value": "100%"
          }
        },
        "8454736216c840f68fe5bb687043b60c": {
          "model_module": "@jupyter-widgets/controls",
          "model_name": "FloatProgressModel",
          "model_module_version": "1.5.0",
          "state": {
            "_dom_classes": [],
            "_model_module": "@jupyter-widgets/controls",
            "_model_module_version": "1.5.0",
            "_model_name": "FloatProgressModel",
            "_view_count": null,
            "_view_module": "@jupyter-widgets/controls",
            "_view_module_version": "1.5.0",
            "_view_name": "ProgressView",
            "bar_style": "success",
            "description": "",
            "description_tooltip": null,
            "layout": "IPY_MODEL_fcf3115f2d344f0aa320d6ae899d6058",
            "max": 244408911,
            "min": 0,
            "orientation": "horizontal",
            "style": "IPY_MODEL_b141162fa1ba444d954a0cae9dd1d165",
            "value": 244408911
          }
        },
        "c119acd707e04796b557cc1f78fe9034": {
          "model_module": "@jupyter-widgets/controls",
          "model_name": "HTMLModel",
          "model_module_version": "1.5.0",
          "state": {
            "_dom_classes": [],
            "_model_module": "@jupyter-widgets/controls",
            "_model_module_version": "1.5.0",
            "_model_name": "HTMLModel",
            "_view_count": null,
            "_view_module": "@jupyter-widgets/controls",
            "_view_module_version": "1.5.0",
            "_view_name": "HTMLView",
            "description": "",
            "description_tooltip": null,
            "layout": "IPY_MODEL_90d93eee32144044a82b93fc5d511a8d",
            "placeholder": "​",
            "style": "IPY_MODEL_998106a69d774164b6303283c357b92c",
            "value": " 233M/233M [00:03&lt;00:00, 80.7MB/s]"
          }
        },
        "c828e3908f7645c39a93b44dd4c5c724": {
          "model_module": "@jupyter-widgets/base",
          "model_name": "LayoutModel",
          "model_module_version": "1.2.0",
          "state": {
            "_model_module": "@jupyter-widgets/base",
            "_model_module_version": "1.2.0",
            "_model_name": "LayoutModel",
            "_view_count": null,
            "_view_module": "@jupyter-widgets/base",
            "_view_module_version": "1.2.0",
            "_view_name": "LayoutView",
            "align_content": null,
            "align_items": null,
            "align_self": null,
            "border": null,
            "bottom": null,
            "display": null,
            "flex": null,
            "flex_flow": null,
            "grid_area": null,
            "grid_auto_columns": null,
            "grid_auto_flow": null,
            "grid_auto_rows": null,
            "grid_column": null,
            "grid_gap": null,
            "grid_row": null,
            "grid_template_areas": null,
            "grid_template_columns": null,
            "grid_template_rows": null,
            "height": null,
            "justify_content": null,
            "justify_items": null,
            "left": null,
            "margin": null,
            "max_height": null,
            "max_width": null,
            "min_height": null,
            "min_width": null,
            "object_fit": null,
            "object_position": null,
            "order": null,
            "overflow": null,
            "overflow_x": null,
            "overflow_y": null,
            "padding": null,
            "right": null,
            "top": null,
            "visibility": null,
            "width": null
          }
        },
        "43037a6b154540d48005a74bb4ec7e87": {
          "model_module": "@jupyter-widgets/base",
          "model_name": "LayoutModel",
          "model_module_version": "1.2.0",
          "state": {
            "_model_module": "@jupyter-widgets/base",
            "_model_module_version": "1.2.0",
            "_model_name": "LayoutModel",
            "_view_count": null,
            "_view_module": "@jupyter-widgets/base",
            "_view_module_version": "1.2.0",
            "_view_name": "LayoutView",
            "align_content": null,
            "align_items": null,
            "align_self": null,
            "border": null,
            "bottom": null,
            "display": null,
            "flex": null,
            "flex_flow": null,
            "grid_area": null,
            "grid_auto_columns": null,
            "grid_auto_flow": null,
            "grid_auto_rows": null,
            "grid_column": null,
            "grid_gap": null,
            "grid_row": null,
            "grid_template_areas": null,
            "grid_template_columns": null,
            "grid_template_rows": null,
            "height": null,
            "justify_content": null,
            "justify_items": null,
            "left": null,
            "margin": null,
            "max_height": null,
            "max_width": null,
            "min_height": null,
            "min_width": null,
            "object_fit": null,
            "object_position": null,
            "order": null,
            "overflow": null,
            "overflow_x": null,
            "overflow_y": null,
            "padding": null,
            "right": null,
            "top": null,
            "visibility": null,
            "width": null
          }
        },
        "1b76ffa1785b46cf9eddabbcaff7d93f": {
          "model_module": "@jupyter-widgets/controls",
          "model_name": "DescriptionStyleModel",
          "model_module_version": "1.5.0",
          "state": {
            "_model_module": "@jupyter-widgets/controls",
            "_model_module_version": "1.5.0",
            "_model_name": "DescriptionStyleModel",
            "_view_count": null,
            "_view_module": "@jupyter-widgets/base",
            "_view_module_version": "1.2.0",
            "_view_name": "StyleView",
            "description_width": ""
          }
        },
        "fcf3115f2d344f0aa320d6ae899d6058": {
          "model_module": "@jupyter-widgets/base",
          "model_name": "LayoutModel",
          "model_module_version": "1.2.0",
          "state": {
            "_model_module": "@jupyter-widgets/base",
            "_model_module_version": "1.2.0",
            "_model_name": "LayoutModel",
            "_view_count": null,
            "_view_module": "@jupyter-widgets/base",
            "_view_module_version": "1.2.0",
            "_view_name": "LayoutView",
            "align_content": null,
            "align_items": null,
            "align_self": null,
            "border": null,
            "bottom": null,
            "display": null,
            "flex": null,
            "flex_flow": null,
            "grid_area": null,
            "grid_auto_columns": null,
            "grid_auto_flow": null,
            "grid_auto_rows": null,
            "grid_column": null,
            "grid_gap": null,
            "grid_row": null,
            "grid_template_areas": null,
            "grid_template_columns": null,
            "grid_template_rows": null,
            "height": null,
            "justify_content": null,
            "justify_items": null,
            "left": null,
            "margin": null,
            "max_height": null,
            "max_width": null,
            "min_height": null,
            "min_width": null,
            "object_fit": null,
            "object_position": null,
            "order": null,
            "overflow": null,
            "overflow_x": null,
            "overflow_y": null,
            "padding": null,
            "right": null,
            "top": null,
            "visibility": null,
            "width": null
          }
        },
        "b141162fa1ba444d954a0cae9dd1d165": {
          "model_module": "@jupyter-widgets/controls",
          "model_name": "ProgressStyleModel",
          "model_module_version": "1.5.0",
          "state": {
            "_model_module": "@jupyter-widgets/controls",
            "_model_module_version": "1.5.0",
            "_model_name": "ProgressStyleModel",
            "_view_count": null,
            "_view_module": "@jupyter-widgets/base",
            "_view_module_version": "1.2.0",
            "_view_name": "StyleView",
            "bar_color": null,
            "description_width": ""
          }
        },
        "90d93eee32144044a82b93fc5d511a8d": {
          "model_module": "@jupyter-widgets/base",
          "model_name": "LayoutModel",
          "model_module_version": "1.2.0",
          "state": {
            "_model_module": "@jupyter-widgets/base",
            "_model_module_version": "1.2.0",
            "_model_name": "LayoutModel",
            "_view_count": null,
            "_view_module": "@jupyter-widgets/base",
            "_view_module_version": "1.2.0",
            "_view_name": "LayoutView",
            "align_content": null,
            "align_items": null,
            "align_self": null,
            "border": null,
            "bottom": null,
            "display": null,
            "flex": null,
            "flex_flow": null,
            "grid_area": null,
            "grid_auto_columns": null,
            "grid_auto_flow": null,
            "grid_auto_rows": null,
            "grid_column": null,
            "grid_gap": null,
            "grid_row": null,
            "grid_template_areas": null,
            "grid_template_columns": null,
            "grid_template_rows": null,
            "height": null,
            "justify_content": null,
            "justify_items": null,
            "left": null,
            "margin": null,
            "max_height": null,
            "max_width": null,
            "min_height": null,
            "min_width": null,
            "object_fit": null,
            "object_position": null,
            "order": null,
            "overflow": null,
            "overflow_x": null,
            "overflow_y": null,
            "padding": null,
            "right": null,
            "top": null,
            "visibility": null,
            "width": null
          }
        },
        "998106a69d774164b6303283c357b92c": {
          "model_module": "@jupyter-widgets/controls",
          "model_name": "DescriptionStyleModel",
          "model_module_version": "1.5.0",
          "state": {
            "_model_module": "@jupyter-widgets/controls",
            "_model_module_version": "1.5.0",
            "_model_name": "DescriptionStyleModel",
            "_view_count": null,
            "_view_module": "@jupyter-widgets/base",
            "_view_module_version": "1.2.0",
            "_view_name": "StyleView",
            "description_width": ""
          }
        },
        "2f0c2e4d6f3a47bba823cc9d7f7699fa": {
          "model_module": "@jupyter-widgets/controls",
          "model_name": "HBoxModel",
          "model_module_version": "1.5.0",
          "state": {
            "_dom_classes": [],
            "_model_module": "@jupyter-widgets/controls",
            "_model_module_version": "1.5.0",
            "_model_name": "HBoxModel",
            "_view_count": null,
            "_view_module": "@jupyter-widgets/controls",
            "_view_module_version": "1.5.0",
            "_view_name": "HBoxView",
            "box_style": "",
            "children": [
              "IPY_MODEL_f1861ef8e1dd40a49a671ee102b27326",
              "IPY_MODEL_4144bd0599f74b5b93f1851232dd9939",
              "IPY_MODEL_6a8f1dfcde1f47258376ec43a46b0b93"
            ],
            "layout": "IPY_MODEL_ca3486ba1d9841dba1a96c40ec4af027"
          }
        },
        "f1861ef8e1dd40a49a671ee102b27326": {
          "model_module": "@jupyter-widgets/controls",
          "model_name": "HTMLModel",
          "model_module_version": "1.5.0",
          "state": {
            "_dom_classes": [],
            "_model_module": "@jupyter-widgets/controls",
            "_model_module_version": "1.5.0",
            "_model_name": "HTMLModel",
            "_view_count": null,
            "_view_module": "@jupyter-widgets/controls",
            "_view_module_version": "1.5.0",
            "_view_name": "HTMLView",
            "description": "",
            "description_tooltip": null,
            "layout": "IPY_MODEL_f729443ac3804f3495420f4fe26d99f8",
            "placeholder": "​",
            "style": "IPY_MODEL_4a500f7354f24bca909dfed093183273",
            "value": "100%"
          }
        },
        "4144bd0599f74b5b93f1851232dd9939": {
          "model_module": "@jupyter-widgets/controls",
          "model_name": "FloatProgressModel",
          "model_module_version": "1.5.0",
          "state": {
            "_dom_classes": [],
            "_model_module": "@jupyter-widgets/controls",
            "_model_module_version": "1.5.0",
            "_model_name": "FloatProgressModel",
            "_view_count": null,
            "_view_module": "@jupyter-widgets/controls",
            "_view_module_version": "1.5.0",
            "_view_name": "ProgressView",
            "bar_style": "success",
            "description": "",
            "description_tooltip": null,
            "layout": "IPY_MODEL_812a79d3bf204fd4a4850fda8f9dbf8c",
            "max": 553433881,
            "min": 0,
            "orientation": "horizontal",
            "style": "IPY_MODEL_c91dac66c0424bc182874853a3ba59e5",
            "value": 553433881
          }
        },
        "6a8f1dfcde1f47258376ec43a46b0b93": {
          "model_module": "@jupyter-widgets/controls",
          "model_name": "HTMLModel",
          "model_module_version": "1.5.0",
          "state": {
            "_dom_classes": [],
            "_model_module": "@jupyter-widgets/controls",
            "_model_module_version": "1.5.0",
            "_model_name": "HTMLModel",
            "_view_count": null,
            "_view_module": "@jupyter-widgets/controls",
            "_view_module_version": "1.5.0",
            "_view_name": "HTMLView",
            "description": "",
            "description_tooltip": null,
            "layout": "IPY_MODEL_d8dcac46615847519602460032018f57",
            "placeholder": "​",
            "style": "IPY_MODEL_e8275d305435423687d2699c16fdc1cd",
            "value": " 528M/528M [00:02&lt;00:00, 208MB/s]"
          }
        },
        "ca3486ba1d9841dba1a96c40ec4af027": {
          "model_module": "@jupyter-widgets/base",
          "model_name": "LayoutModel",
          "model_module_version": "1.2.0",
          "state": {
            "_model_module": "@jupyter-widgets/base",
            "_model_module_version": "1.2.0",
            "_model_name": "LayoutModel",
            "_view_count": null,
            "_view_module": "@jupyter-widgets/base",
            "_view_module_version": "1.2.0",
            "_view_name": "LayoutView",
            "align_content": null,
            "align_items": null,
            "align_self": null,
            "border": null,
            "bottom": null,
            "display": null,
            "flex": null,
            "flex_flow": null,
            "grid_area": null,
            "grid_auto_columns": null,
            "grid_auto_flow": null,
            "grid_auto_rows": null,
            "grid_column": null,
            "grid_gap": null,
            "grid_row": null,
            "grid_template_areas": null,
            "grid_template_columns": null,
            "grid_template_rows": null,
            "height": null,
            "justify_content": null,
            "justify_items": null,
            "left": null,
            "margin": null,
            "max_height": null,
            "max_width": null,
            "min_height": null,
            "min_width": null,
            "object_fit": null,
            "object_position": null,
            "order": null,
            "overflow": null,
            "overflow_x": null,
            "overflow_y": null,
            "padding": null,
            "right": null,
            "top": null,
            "visibility": null,
            "width": null
          }
        },
        "f729443ac3804f3495420f4fe26d99f8": {
          "model_module": "@jupyter-widgets/base",
          "model_name": "LayoutModel",
          "model_module_version": "1.2.0",
          "state": {
            "_model_module": "@jupyter-widgets/base",
            "_model_module_version": "1.2.0",
            "_model_name": "LayoutModel",
            "_view_count": null,
            "_view_module": "@jupyter-widgets/base",
            "_view_module_version": "1.2.0",
            "_view_name": "LayoutView",
            "align_content": null,
            "align_items": null,
            "align_self": null,
            "border": null,
            "bottom": null,
            "display": null,
            "flex": null,
            "flex_flow": null,
            "grid_area": null,
            "grid_auto_columns": null,
            "grid_auto_flow": null,
            "grid_auto_rows": null,
            "grid_column": null,
            "grid_gap": null,
            "grid_row": null,
            "grid_template_areas": null,
            "grid_template_columns": null,
            "grid_template_rows": null,
            "height": null,
            "justify_content": null,
            "justify_items": null,
            "left": null,
            "margin": null,
            "max_height": null,
            "max_width": null,
            "min_height": null,
            "min_width": null,
            "object_fit": null,
            "object_position": null,
            "order": null,
            "overflow": null,
            "overflow_x": null,
            "overflow_y": null,
            "padding": null,
            "right": null,
            "top": null,
            "visibility": null,
            "width": null
          }
        },
        "4a500f7354f24bca909dfed093183273": {
          "model_module": "@jupyter-widgets/controls",
          "model_name": "DescriptionStyleModel",
          "model_module_version": "1.5.0",
          "state": {
            "_model_module": "@jupyter-widgets/controls",
            "_model_module_version": "1.5.0",
            "_model_name": "DescriptionStyleModel",
            "_view_count": null,
            "_view_module": "@jupyter-widgets/base",
            "_view_module_version": "1.2.0",
            "_view_name": "StyleView",
            "description_width": ""
          }
        },
        "812a79d3bf204fd4a4850fda8f9dbf8c": {
          "model_module": "@jupyter-widgets/base",
          "model_name": "LayoutModel",
          "model_module_version": "1.2.0",
          "state": {
            "_model_module": "@jupyter-widgets/base",
            "_model_module_version": "1.2.0",
            "_model_name": "LayoutModel",
            "_view_count": null,
            "_view_module": "@jupyter-widgets/base",
            "_view_module_version": "1.2.0",
            "_view_name": "LayoutView",
            "align_content": null,
            "align_items": null,
            "align_self": null,
            "border": null,
            "bottom": null,
            "display": null,
            "flex": null,
            "flex_flow": null,
            "grid_area": null,
            "grid_auto_columns": null,
            "grid_auto_flow": null,
            "grid_auto_rows": null,
            "grid_column": null,
            "grid_gap": null,
            "grid_row": null,
            "grid_template_areas": null,
            "grid_template_columns": null,
            "grid_template_rows": null,
            "height": null,
            "justify_content": null,
            "justify_items": null,
            "left": null,
            "margin": null,
            "max_height": null,
            "max_width": null,
            "min_height": null,
            "min_width": null,
            "object_fit": null,
            "object_position": null,
            "order": null,
            "overflow": null,
            "overflow_x": null,
            "overflow_y": null,
            "padding": null,
            "right": null,
            "top": null,
            "visibility": null,
            "width": null
          }
        },
        "c91dac66c0424bc182874853a3ba59e5": {
          "model_module": "@jupyter-widgets/controls",
          "model_name": "ProgressStyleModel",
          "model_module_version": "1.5.0",
          "state": {
            "_model_module": "@jupyter-widgets/controls",
            "_model_module_version": "1.5.0",
            "_model_name": "ProgressStyleModel",
            "_view_count": null,
            "_view_module": "@jupyter-widgets/base",
            "_view_module_version": "1.2.0",
            "_view_name": "StyleView",
            "bar_color": null,
            "description_width": ""
          }
        },
        "d8dcac46615847519602460032018f57": {
          "model_module": "@jupyter-widgets/base",
          "model_name": "LayoutModel",
          "model_module_version": "1.2.0",
          "state": {
            "_model_module": "@jupyter-widgets/base",
            "_model_module_version": "1.2.0",
            "_model_name": "LayoutModel",
            "_view_count": null,
            "_view_module": "@jupyter-widgets/base",
            "_view_module_version": "1.2.0",
            "_view_name": "LayoutView",
            "align_content": null,
            "align_items": null,
            "align_self": null,
            "border": null,
            "bottom": null,
            "display": null,
            "flex": null,
            "flex_flow": null,
            "grid_area": null,
            "grid_auto_columns": null,
            "grid_auto_flow": null,
            "grid_auto_rows": null,
            "grid_column": null,
            "grid_gap": null,
            "grid_row": null,
            "grid_template_areas": null,
            "grid_template_columns": null,
            "grid_template_rows": null,
            "height": null,
            "justify_content": null,
            "justify_items": null,
            "left": null,
            "margin": null,
            "max_height": null,
            "max_width": null,
            "min_height": null,
            "min_width": null,
            "object_fit": null,
            "object_position": null,
            "order": null,
            "overflow": null,
            "overflow_x": null,
            "overflow_y": null,
            "padding": null,
            "right": null,
            "top": null,
            "visibility": null,
            "width": null
          }
        },
        "e8275d305435423687d2699c16fdc1cd": {
          "model_module": "@jupyter-widgets/controls",
          "model_name": "DescriptionStyleModel",
          "model_module_version": "1.5.0",
          "state": {
            "_model_module": "@jupyter-widgets/controls",
            "_model_module_version": "1.5.0",
            "_model_name": "DescriptionStyleModel",
            "_view_count": null,
            "_view_module": "@jupyter-widgets/base",
            "_view_module_version": "1.2.0",
            "_view_name": "StyleView",
            "description_width": ""
          }
        }
      }
    }
  },
  "cells": [
    {
      "cell_type": "code",
      "source": [
        "!pip3 install bitarray"
      ],
      "metadata": {
        "colab": {
          "base_uri": "https://localhost:8080/"
        },
        "id": "o2kGEYKDnFAN",
        "outputId": "15f4de89-406c-4ed8-b344-3cefdb2286db"
      },
      "execution_count": 1,
      "outputs": [
        {
          "output_type": "stream",
          "name": "stdout",
          "text": [
            "Looking in indexes: https://pypi.org/simple, https://us-python.pkg.dev/colab-wheels/public/simple/\n",
            "Requirement already satisfied: bitarray in /usr/local/lib/python3.7/dist-packages (2.5.1)\n"
          ]
        }
      ]
    },
    {
      "cell_type": "code",
      "source": [
        "!pip install lpips"
      ],
      "metadata": {
        "colab": {
          "base_uri": "https://localhost:8080/"
        },
        "id": "mOFnESOeoCGU",
        "outputId": "c46d84d4-2463-45ac-eda7-6e0972bb90a2"
      },
      "execution_count": 2,
      "outputs": [
        {
          "output_type": "stream",
          "name": "stdout",
          "text": [
            "Looking in indexes: https://pypi.org/simple, https://us-python.pkg.dev/colab-wheels/public/simple/\n",
            "Requirement already satisfied: lpips in /usr/local/lib/python3.7/dist-packages (0.1.4)\n",
            "Requirement already satisfied: scipy>=1.0.1 in /usr/local/lib/python3.7/dist-packages (from lpips) (1.4.1)\n",
            "Requirement already satisfied: torchvision>=0.2.1 in /usr/local/lib/python3.7/dist-packages (from lpips) (0.12.0+cu113)\n",
            "Requirement already satisfied: torch>=0.4.0 in /usr/local/lib/python3.7/dist-packages (from lpips) (1.11.0+cu113)\n",
            "Requirement already satisfied: tqdm>=4.28.1 in /usr/local/lib/python3.7/dist-packages (from lpips) (4.64.0)\n",
            "Requirement already satisfied: numpy>=1.14.3 in /usr/local/lib/python3.7/dist-packages (from lpips) (1.21.6)\n",
            "Requirement already satisfied: typing-extensions in /usr/local/lib/python3.7/dist-packages (from torch>=0.4.0->lpips) (4.2.0)\n",
            "Requirement already satisfied: requests in /usr/local/lib/python3.7/dist-packages (from torchvision>=0.2.1->lpips) (2.23.0)\n",
            "Requirement already satisfied: pillow!=8.3.*,>=5.3.0 in /usr/local/lib/python3.7/dist-packages (from torchvision>=0.2.1->lpips) (7.1.2)\n",
            "Requirement already satisfied: chardet<4,>=3.0.2 in /usr/local/lib/python3.7/dist-packages (from requests->torchvision>=0.2.1->lpips) (3.0.4)\n",
            "Requirement already satisfied: certifi>=2017.4.17 in /usr/local/lib/python3.7/dist-packages (from requests->torchvision>=0.2.1->lpips) (2022.5.18.1)\n",
            "Requirement already satisfied: urllib3!=1.25.0,!=1.25.1,<1.26,>=1.21.1 in /usr/local/lib/python3.7/dist-packages (from requests->torchvision>=0.2.1->lpips) (1.24.3)\n",
            "Requirement already satisfied: idna<3,>=2.5 in /usr/local/lib/python3.7/dist-packages (from requests->torchvision>=0.2.1->lpips) (2.10)\n"
          ]
        }
      ]
    },
    {
      "cell_type": "code",
      "execution_count": 3,
      "metadata": {
        "id": "tRLv7VDPTHBl"
      },
      "outputs": [],
      "source": [
        "from struct import unpack\n",
        "from tkinter import *\n",
        "from bitarray import bitarray\n",
        "from bitarray.util import int2ba\n",
        "from PIL import Image\n",
        "from scipy.fftpack import dct\n",
        "from tqdm import tqdm\n",
        "from skimage.metrics import structural_similarity\n",
        "import matplotlib.pyplot as plt\n",
        "import numpy as np\n",
        "import math\n",
        "import time\n",
        "import string\n",
        "import random\n",
        "import lpips\n",
        "import torch\n",
        "import os"
      ]
    },
    {
      "cell_type": "code",
      "source": [
        "os.environ['PYTHONHASHSEED']=str(456)\n",
        "np.random.seed(456)\n",
        "random.seed(456)"
      ],
      "metadata": {
        "id": "Yng4_rAKlQVt"
      },
      "execution_count": 4,
      "outputs": []
    },
    {
      "cell_type": "code",
      "source": [
        "images = []\n",
        "\n",
        "for fileName in tqdm(os.listdir('dataset/')):\n",
        "  img = Image.open('dataset/' + fileName)\n",
        "  images.append(img)"
      ],
      "metadata": {
        "id": "NBdQcTvQX62M",
        "colab": {
          "base_uri": "https://localhost:8080/"
        },
        "outputId": "4fbd2e0f-9b99-41c6-de73-170272fe7ab2"
      },
      "execution_count": 5,
      "outputs": [
        {
          "output_type": "stream",
          "name": "stderr",
          "text": [
            "100%|██████████| 10000/10000 [00:01<00:00, 9770.23it/s]\n"
          ]
        }
      ]
    },
    {
      "cell_type": "code",
      "source": [
        "images = images[:4881]"
      ],
      "metadata": {
        "id": "uUREnmmXj0Po"
      },
      "execution_count": 6,
      "outputs": []
    },
    {
      "cell_type": "code",
      "source": [
        "len(images)"
      ],
      "metadata": {
        "colab": {
          "base_uri": "https://localhost:8080/"
        },
        "id": "pD5554oINODi",
        "outputId": "581929ed-1322-4f01-932c-65dbd7be333e"
      },
      "execution_count": 7,
      "outputs": [
        {
          "output_type": "execute_result",
          "data": {
            "text/plain": [
              "4881"
            ]
          },
          "metadata": {},
          "execution_count": 7
        }
      ]
    },
    {
      "cell_type": "code",
      "source": [
        "imagesYCbCr = []\n",
        "\n",
        "for img in tqdm(images):\n",
        "  imgYCbCr = img.convert('YCbCr')\n",
        "  imagesYCbCr.append(imgYCbCr)"
      ],
      "metadata": {
        "id": "2Tu1tw6sX_oN",
        "colab": {
          "base_uri": "https://localhost:8080/"
        },
        "outputId": "48604e25-bf0d-47af-ee29-9cd130284411"
      },
      "execution_count": 8,
      "outputs": [
        {
          "output_type": "stream",
          "name": "stderr",
          "text": [
            "100%|██████████| 4881/4881 [00:00<00:00, 6282.28it/s]\n"
          ]
        }
      ]
    },
    {
      "cell_type": "code",
      "source": [
        "imagesArray = []\n",
        "\n",
        "for imgYCbCr in tqdm(imagesYCbCr):\n",
        "  imgArray = np.asarray(imgYCbCr, dtype='int32')\n",
        "\n",
        "  if imgArray.shape[2] != 3:\n",
        "    continue\n",
        "\n",
        "  imagesArray.append(imgArray)"
      ],
      "metadata": {
        "id": "620wYzKYYCXa",
        "colab": {
          "base_uri": "https://localhost:8080/"
        },
        "outputId": "dfc309de-6efa-43be-97a8-5263123c371d"
      },
      "execution_count": 9,
      "outputs": [
        {
          "output_type": "stream",
          "name": "stderr",
          "text": [
            "100%|██████████| 4881/4881 [00:00<00:00, 20797.84it/s]\n"
          ]
        }
      ]
    },
    {
      "cell_type": "code",
      "source": [
        "imagesArrayPad = []\n",
        "\n",
        "for imgArray in tqdm(imagesArray):\n",
        "  dimX = imgArray.shape[0]\n",
        "  dimY = imgArray.shape[1]\n",
        "  nCanais = imgArray.shape[2]\n",
        "\n",
        "  padX = (8 - (dimX % 8)) % 8\n",
        "  padY = (8 - (dimY % 8)) % 8\n",
        "\n",
        "  imgArrayPad = np.pad(imgArray, ((0, padX), (0, padY), (0, 0)), 'edge')\n",
        "  imagesArrayPad.append(imgArrayPad)"
      ],
      "metadata": {
        "id": "fsPVbs83YEhg",
        "colab": {
          "base_uri": "https://localhost:8080/"
        },
        "outputId": "805fb060-8ff8-4f17-f253-2b0796af5baf"
      },
      "execution_count": 10,
      "outputs": [
        {
          "output_type": "stream",
          "name": "stderr",
          "text": [
            "100%|██████████| 4881/4881 [00:00<00:00, 9228.00it/s]\n"
          ]
        }
      ]
    },
    {
      "cell_type": "code",
      "source": [
        "bytes_por_imagem = []\n",
        "espaco_bits_mensagem_secreta = []\n",
        "espaco_bytes_mensagem_secreta = []\n",
        "\n",
        "for imgArrayPad in tqdm(imagesArrayPad):\n",
        "  x1 = imgArrayPad.shape[0] * imgArrayPad.shape[1]\n",
        "  x2 = x1 // 64\n",
        "\n",
        "  bytes_por_imagem.append(x1)\n",
        "  espaco_bits_mensagem_secreta.append(x2)\n",
        "  espaco_bytes_mensagem_secreta.append(x2 // 8)"
      ],
      "metadata": {
        "id": "t8yLgSEZ0yK_",
        "colab": {
          "base_uri": "https://localhost:8080/"
        },
        "outputId": "93c8c45a-15fa-4f43-9b62-f96d692c7f26"
      },
      "execution_count": 11,
      "outputs": [
        {
          "output_type": "stream",
          "name": "stderr",
          "text": [
            "100%|██████████| 4881/4881 [00:00<00:00, 532400.54it/s]\n"
          ]
        }
      ]
    },
    {
      "cell_type": "code",
      "source": [
        "mensagens_secreta = []\n",
        "\n",
        "for tamanho in tqdm(espaco_bytes_mensagem_secreta):\n",
        "  mensagem = ''.join(random.choice(string.ascii_uppercase + string.ascii_lowercase + string.digits) for _ in range(tamanho))\n",
        "  mensagens_secreta.append(mensagem)"
      ],
      "metadata": {
        "id": "7op3AP9y00e3",
        "colab": {
          "base_uri": "https://localhost:8080/"
        },
        "outputId": "9feaa2ea-2ebe-4d65-c8db-233904fddeea"
      },
      "execution_count": 12,
      "outputs": [
        {
          "output_type": "stream",
          "name": "stderr",
          "text": [
            "100%|██████████| 4881/4881 [00:00<00:00, 77174.24it/s]\n"
          ]
        }
      ]
    },
    {
      "cell_type": "code",
      "source": [
        "lista_bitarray_mensagem = []\n",
        "\n",
        "for mensagem in tqdm(mensagens_secreta):\n",
        "  bitarray_mensagem = bitarray()\n",
        "  \n",
        "  for caracter in mensagem:\n",
        "    bitarray_mensagem += int2ba(ord(caracter), length=8)\n",
        "\n",
        "  lista_bitarray_mensagem.append(bitarray_mensagem)"
      ],
      "metadata": {
        "id": "Xtx-mvvc00mc",
        "colab": {
          "base_uri": "https://localhost:8080/"
        },
        "outputId": "cb8e63f6-6813-4039-cc9d-ed4781218197"
      },
      "execution_count": 13,
      "outputs": [
        {
          "output_type": "stream",
          "name": "stderr",
          "text": [
            "100%|██████████| 4881/4881 [00:00<00:00, 33416.52it/s]\n"
          ]
        }
      ]
    },
    {
      "cell_type": "code",
      "source": [
        "for i in tqdm(range(len(imagesArrayPad))):\n",
        "  imagesArrayPad[i] -= 128"
      ],
      "metadata": {
        "id": "aIowbrLuYL0V",
        "colab": {
          "base_uri": "https://localhost:8080/"
        },
        "outputId": "bd43063c-665d-40ed-fd3a-93bbfe47ba29"
      },
      "execution_count": 14,
      "outputs": [
        {
          "output_type": "stream",
          "name": "stderr",
          "text": [
            "100%|██████████| 4881/4881 [00:00<00:00, 94503.55it/s]\n"
          ]
        }
      ]
    },
    {
      "cell_type": "code",
      "source": [
        "comprimentoX = []\n",
        "comprimentoY = []\n",
        "\n",
        "for imgArrayPad in tqdm(imagesArrayPad):\n",
        "  comprimentoX.append(imgArrayPad.shape[0])\n",
        "  comprimentoY.append(imgArrayPad.shape[1])"
      ],
      "metadata": {
        "id": "z-GKjzspYN9A",
        "colab": {
          "base_uri": "https://localhost:8080/"
        },
        "outputId": "6dc7b551-8d00-42ff-9c76-691374333254"
      },
      "execution_count": 15,
      "outputs": [
        {
          "output_type": "stream",
          "name": "stderr",
          "text": [
            "100%|██████████| 4881/4881 [00:00<00:00, 1173068.86it/s]\n"
          ]
        }
      ]
    },
    {
      "cell_type": "code",
      "source": [
        "listaMatY = []\n",
        "listaMatCb = []\n",
        "listaMatCr = []\n",
        "\n",
        "for imgArrayPad in tqdm(imagesArrayPad):\n",
        "  matY, matCb, matCr  = imgArrayPad[:,:,0], imgArrayPad[:,:,1], imgArrayPad[:,:,2]\n",
        "\n",
        "  listaMatY.append(matY)\n",
        "  listaMatCb.append(matCb)\n",
        "  listaMatCr.append(matCr)"
      ],
      "metadata": {
        "id": "OcteHr_VYQjB",
        "colab": {
          "base_uri": "https://localhost:8080/"
        },
        "outputId": "c0bab609-1a9b-4d21-afe9-5638d7fc7e6f"
      },
      "execution_count": 16,
      "outputs": [
        {
          "output_type": "stream",
          "name": "stderr",
          "text": [
            "100%|██████████| 4881/4881 [00:00<00:00, 370594.80it/s]\n"
          ]
        }
      ]
    },
    {
      "cell_type": "code",
      "source": [
        "listaBlocosY = []\n",
        "listaBlocosCb = []\n",
        "listaBlocosCr = []\n",
        "\n",
        "for z in tqdm(range(len(listaMatY))):\n",
        "  blocosY = []\n",
        "  blocosCb = []\n",
        "  blocosCr = []\n",
        "\n",
        "  for i in range(0, comprimentoX[z], 8):\n",
        "      for j in range(0, comprimentoY[z], 8):\n",
        "          blocosY.append(listaMatY[z][i:i+8, j:j+8])\n",
        "          blocosCb.append(listaMatCb[z][i:i+8, j:j+8])\n",
        "          blocosCr.append(listaMatCr[z][i:i+8, j:j+8])\n",
        "          \n",
        "  blocosY = np.array(blocosY)\n",
        "  blocosCb = np.array(blocosCb)\n",
        "  blocosCr = np.array(blocosCr)\n",
        "\n",
        "  listaBlocosY.append(blocosY)\n",
        "  listaBlocosCb.append(blocosCb)\n",
        "  listaBlocosCr.append(blocosCr)"
      ],
      "metadata": {
        "id": "uZWoH8KcYSyW",
        "colab": {
          "base_uri": "https://localhost:8080/"
        },
        "outputId": "bfdbf419-a3e3-46ab-cc79-09a43842ac40"
      },
      "execution_count": 17,
      "outputs": [
        {
          "output_type": "stream",
          "name": "stderr",
          "text": [
            "100%|██████████| 4881/4881 [00:01<00:00, 4028.18it/s]\n"
          ]
        }
      ]
    },
    {
      "cell_type": "code",
      "source": [
        "def dct2(x):\n",
        "    m0 = 2.0 * math.cos(1.0 / 16.0 * 2.0 * math.pi)\n",
        "    m1 = 2.0 * math.cos(2.0 / 16.0 * 2.0 * math.pi)\n",
        "    m3 = 2.0 * math.cos(2.0 / 16.0 * 2.0 * math.pi)\n",
        "    m5 = 2.0 * math.cos(3.0 / 16.0 * 2.0 * math.pi)\n",
        "    m2 = m0 - m5\n",
        "    m4 = m0 + m5\n",
        "    \n",
        "    s0 = math.cos(0.0 / 16.0 * math.pi) / math.sqrt(8)\n",
        "    s1 = math.cos(1.0 / 16.0 * math.pi) / 2.0\n",
        "    s2 = math.cos(2.0 / 16.0 * math.pi) / 2.0\n",
        "    s3 = math.cos(3.0 / 16.0 * math.pi) / 2.0\n",
        "    s4 = math.cos(4.0 / 16.0 * math.pi) / 2.0\n",
        "    s5 = math.cos(5.0 / 16.0 * math.pi) / 2.0\n",
        "    s6 = math.cos(6.0 / 16.0 * math.pi) / 2.0\n",
        "    s7 = math.cos(7.0 / 16.0 * math.pi) / 2.0\n",
        "    \n",
        "    for i in range(8):\n",
        "        a0 = x[0][i]\n",
        "        a1 = x[1][i]\n",
        "        a2 = x[2][i]\n",
        "        a3 = x[3][i]\n",
        "        a4 = x[4][i]\n",
        "        a5 = x[5][i]\n",
        "        a6 = x[6][i]\n",
        "        a7 = x[7][i]\n",
        "\n",
        "        b0 = a0 + a7\n",
        "        b1 = a1 + a6\n",
        "        b2 = a2 + a5\n",
        "        b3 = a3 + a4\n",
        "        b4 = a3 - a4\n",
        "        b5 = a2 - a5\n",
        "        b6 = a1 - a6\n",
        "        b7 = a0 - a7\n",
        "\n",
        "        c0 = b0 + b3\n",
        "        c1 = b1 + b2\n",
        "        c2 = b1 - b2\n",
        "        c3 = b0 - b3\n",
        "        c4 = b4\n",
        "        c5 = b5 - b4\n",
        "        c6 = b6 - c5\n",
        "        c7 = b7 - b6\n",
        "\n",
        "        d0 = c0 + c1\n",
        "        d1 = c0 - c1\n",
        "        d2 = c2\n",
        "        d3 = c3 - c2\n",
        "        d4 = c4\n",
        "        d5 = c5\n",
        "        d6 = c6\n",
        "        d7 = c5 + c7\n",
        "        d8 = c4 - c6\n",
        "\n",
        "        e0 = d0\n",
        "        e1 = d1\n",
        "        e2 = d2 * m1\n",
        "        e3 = d3\n",
        "        e4 = d4 * m2\n",
        "        e5 = d5 * m3\n",
        "        e6 = d6 * m4\n",
        "        e7 = d7\n",
        "        e8 = d8 * m5\n",
        "\n",
        "        f0 = e0\n",
        "        f1 = e1\n",
        "        f2 = e2 + e3\n",
        "        f3 = e3 - e2\n",
        "        f4 = e4 + e8\n",
        "        f5 = e5 + e7\n",
        "        f6 = e6 + e8\n",
        "        f7 = e7 - e5\n",
        "\n",
        "        g0 = f0\n",
        "        g1 = f1\n",
        "        g2 = f2\n",
        "        g3 = f3\n",
        "        g4 = f4 + f7\n",
        "        g5 = f5 + f6\n",
        "        g6 = f5 - f6\n",
        "        g7 = f7 - f4\n",
        "\n",
        "        x[0][i] = g0 * s0\n",
        "        x[4][i] = g1 * s4\n",
        "        x[2][i] = g2 * s2\n",
        "        x[6][i] = g3 * s6\n",
        "        x[5][i] = g4 * s5\n",
        "        x[1][i] = g5 * s1\n",
        "        x[7][i] = g6 * s7\n",
        "        x[3][i] = g7 * s3\n",
        "        \n",
        "    for i in range(8):\n",
        "        a0 = x[i][0]\n",
        "        a1 = x[i][1]\n",
        "        a2 = x[i][2]\n",
        "        a3 = x[i][3]\n",
        "        a4 = x[i][4]\n",
        "        a5 = x[i][5]\n",
        "        a6 = x[i][6]\n",
        "        a7 = x[i][7]\n",
        "\n",
        "        b0 = a0 + a7\n",
        "        b1 = a1 + a6\n",
        "        b2 = a2 + a5\n",
        "        b3 = a3 + a4\n",
        "        b4 = a3 - a4\n",
        "        b5 = a2 - a5\n",
        "        b6 = a1 - a6\n",
        "        b7 = a0 - a7\n",
        "\n",
        "        c0 = b0 + b3\n",
        "        c1 = b1 + b2\n",
        "        c2 = b1 - b2\n",
        "        c3 = b0 - b3\n",
        "        c4 = b4\n",
        "        c5 = b5 - b4\n",
        "        c6 = b6 - c5\n",
        "        c7 = b7 - b6\n",
        "\n",
        "        d0 = c0 + c1\n",
        "        d1 = c0 - c1\n",
        "        d2 = c2\n",
        "        d3 = c3 - c2\n",
        "        d4 = c4\n",
        "        d5 = c5\n",
        "        d6 = c6\n",
        "        d7 = c5 + c7\n",
        "        d8 = c4 - c6\n",
        "\n",
        "        e0 = d0\n",
        "        e1 = d1\n",
        "        e2 = d2 * m1\n",
        "        e3 = d3\n",
        "        e4 = d4 * m2\n",
        "        e5 = d5 * m3\n",
        "        e6 = d6 * m4\n",
        "        e7 = d7\n",
        "        e8 = d8 * m5\n",
        "\n",
        "        f0 = e0\n",
        "        f1 = e1\n",
        "        f2 = e2 + e3\n",
        "        f3 = e3 - e2\n",
        "        f4 = e4 + e8\n",
        "        f5 = e5 + e7\n",
        "        f6 = e6 + e8\n",
        "        f7 = e7 - e5\n",
        "\n",
        "        g0 = f0\n",
        "        g1 = f1\n",
        "        g2 = f2\n",
        "        g3 = f3\n",
        "        g4 = f4 + f7\n",
        "        g5 = f5 + f6\n",
        "        g6 = f5 - f6\n",
        "        g7 = f7 - f4\n",
        "\n",
        "        x[i][0] = g0 * s0\n",
        "        x[i][4] = g1 * s4\n",
        "        x[i][2] = g2 * s2\n",
        "        x[i][6] = g3 * s6\n",
        "        x[i][5] = g4 * s5\n",
        "        x[i][1] = g5 * s1\n",
        "        x[i][7] = g6 * s7\n",
        "        x[i][3] = g7 * s3\n",
        "        \n",
        "    return x"
      ],
      "metadata": {
        "id": "HW0tQYNIYU7W"
      },
      "execution_count": 18,
      "outputs": []
    },
    {
      "cell_type": "code",
      "source": [
        "listaDctsY = []\n",
        "listaDctsCb = []\n",
        "listaDctsCr = []\n",
        "\n",
        "for z in tqdm(range(len(listaBlocosY))):\n",
        "  dctsY = []\n",
        "  dctsCb = []\n",
        "  dctsCr = []\n",
        "\n",
        "  for i in range(listaBlocosY[z].shape[0]):\n",
        "      dctsY.append(dct2(listaBlocosY[z][i]))\n",
        "      dctsCb.append(dct2(listaBlocosCb[z][i]))\n",
        "      dctsCr.append(dct2(listaBlocosCr[z][i]))\n",
        "      \n",
        "  dctsY = np.array(dctsY)\n",
        "  dctsCb = np.array(dctsCb)\n",
        "  dctsCr = np.array(dctsCr)\n",
        "\n",
        "  listaDctsY.append(dctsY)\n",
        "  listaDctsCb.append(dctsCb)\n",
        "  listaDctsCr.append(dctsCr)"
      ],
      "metadata": {
        "id": "RPCnpP1BYXb-",
        "colab": {
          "base_uri": "https://localhost:8080/"
        },
        "outputId": "b55efdeb-2922-4f7a-f367-f78b650a747a"
      },
      "execution_count": 19,
      "outputs": [
        {
          "output_type": "stream",
          "name": "stderr",
          "text": [
            "100%|██████████| 4881/4881 [06:57<00:00, 11.69it/s]\n"
          ]
        }
      ]
    },
    {
      "cell_type": "code",
      "source": [
        "fatorDeQualidade = 90\n",
        "\n",
        "s = 5000 / fatorDeQualidade\n",
        "\n",
        "if fatorDeQualidade >= 50:\n",
        "    s = 200 - (2 * fatorDeQualidade)"
      ],
      "metadata": {
        "id": "l2piQvbXYaIf"
      },
      "execution_count": 20,
      "outputs": []
    },
    {
      "cell_type": "code",
      "source": [
        "matrizQuantizacaoPredefinidaLuminancia = np.array(\n",
        "    [\n",
        "        [16, 11, 10, 16, 24, 40, 51, 61],\n",
        "        [12, 12, 14, 19, 26, 58, 60, 55],\n",
        "        [14, 13, 16, 24, 40, 57, 69, 56],\n",
        "        [14, 17, 22, 29, 51, 87, 80, 62],\n",
        "        [18, 22, 37, 56, 68, 109, 103, 77],\n",
        "        [24, 35, 55, 64, 81, 104, 113, 92],\n",
        "        [49, 64, 78, 87, 103, 121, 120, 101],\n",
        "        [72, 92, 95, 98, 112, 100, 103, 99]\n",
        "    ]\n",
        ")\n",
        "\n",
        "matrizQuantizacaoPredefinidaCrominancia = np.array(\n",
        "    [\n",
        "        [17, 18, 24, 47, 99, 99, 99, 99],\n",
        "        [18, 21, 26, 66, 99, 99, 99, 99],\n",
        "        [24, 26, 56, 99, 99, 99, 99, 99],\n",
        "        [47, 66, 99, 99, 99, 99, 99, 99],\n",
        "        [99, 99, 99, 99, 99, 99, 99, 99],\n",
        "        [99, 99, 99, 99, 99, 99, 99, 99],\n",
        "        [99, 99, 99, 99, 99, 99, 99, 99],\n",
        "        [99, 99, 99, 99, 99, 99, 99, 99]\n",
        "    ]\n",
        ")"
      ],
      "metadata": {
        "id": "JB0ru9dEYcQj"
      },
      "execution_count": 21,
      "outputs": []
    },
    {
      "cell_type": "code",
      "source": [
        "matrizQuantizacaoLuminancia = np.ones((8, 8))\n",
        "matrizQuantizacaoCrominancia = np.ones((8, 8))"
      ],
      "metadata": {
        "id": "IHcP94_jYdzN"
      },
      "execution_count": 22,
      "outputs": []
    },
    {
      "cell_type": "code",
      "source": [
        "for i in range(8):\n",
        "    for j in range(8):\n",
        "        matrizQuantizacaoLuminancia[i][j] = math.floor((s * matrizQuantizacaoPredefinidaLuminancia[i][j] + 50) / 100)\n",
        "        matrizQuantizacaoCrominancia[i][j] = math.floor((s * matrizQuantizacaoPredefinidaCrominancia[i][j] + 50) / 100)"
      ],
      "metadata": {
        "id": "sdBr-YntYfsa"
      },
      "execution_count": 23,
      "outputs": []
    },
    {
      "cell_type": "code",
      "source": [
        "listaCoeficientesQuantizadosY = []\n",
        "listaCoeficientesQuantizadosCb = []\n",
        "listaCoeficientesQuantizadosCr = []\n",
        "\n",
        "for z in tqdm(range(len(listaDctsY))):\n",
        "  coeficientesQuatizadosY = []\n",
        "  coeficientesQuatizadosCb = []\n",
        "  coeficientesQuatizadosCr = []\n",
        "\n",
        "  for i in range(listaDctsY[z].shape[0]):\n",
        "      coeficientesQuatizadosY.append(listaDctsY[z][i] // matrizQuantizacaoLuminancia)\n",
        "      coeficientesQuatizadosCb.append(listaDctsCb[z][i] // matrizQuantizacaoCrominancia)\n",
        "      coeficientesQuatizadosCr.append(listaDctsCr[z][i] // matrizQuantizacaoCrominancia)\n",
        "      \n",
        "  coeficientesQuatizadosY = np.array(coeficientesQuatizadosY)\n",
        "  coeficientesQuatizadosCb = np.array(coeficientesQuatizadosCb)\n",
        "  coeficientesQuatizadosCr = np.array(coeficientesQuatizadosCr)\n",
        "\n",
        "  listaCoeficientesQuantizadosY.append(coeficientesQuatizadosY)\n",
        "  listaCoeficientesQuantizadosCb.append(coeficientesQuatizadosCb)\n",
        "  listaCoeficientesQuantizadosCr.append(coeficientesQuatizadosCr)"
      ],
      "metadata": {
        "id": "LJwOd9HKYhdG",
        "colab": {
          "base_uri": "https://localhost:8080/"
        },
        "outputId": "5f4f600d-2c86-4f4f-938c-69e5176a2073"
      },
      "execution_count": 24,
      "outputs": [
        {
          "output_type": "stream",
          "name": "stderr",
          "text": [
            "100%|██████████| 4881/4881 [00:04<00:00, 1069.26it/s]\n"
          ]
        }
      ]
    },
    {
      "cell_type": "code",
      "source": [
        "matrizZigzag = [\n",
        "            [0, 1, 5, 6, 14, 15, 27, 28],\n",
        "            [2, 4, 7, 13, 16, 26, 29, 42],\n",
        "            [3, 8, 12, 17, 25, 30, 41, 43],\n",
        "            [9, 11, 18, 24, 31, 40, 44, 53],\n",
        "            [10, 19, 23, 32, 39, 45, 52, 54],\n",
        "            [20, 22, 33, 38, 46, 51, 55, 60],\n",
        "            [21, 34, 37, 47, 50, 56, 59, 61],\n",
        "            [35, 36, 48, 49, 57, 58, 62, 63],\n",
        "        ]"
      ],
      "metadata": {
        "id": "8GIQ_ikrYjcI"
      },
      "execution_count": 25,
      "outputs": []
    },
    {
      "cell_type": "code",
      "source": [
        "listaArrayY = []\n",
        "listaArrayCb = []\n",
        "listaArrayCr = []\n",
        "\n",
        "for z in tqdm(range(len(listaCoeficientesQuantizadosY))):\n",
        "  arrayY = []\n",
        "  arrayCb = []\n",
        "  arrayCr = []\n",
        "\n",
        "  for k in range(listaCoeficientesQuantizadosY[z].shape[0]):\n",
        "      tY = np.zeros(64)\n",
        "      tCb = np.zeros(64)\n",
        "      tCr = np.zeros(64)\n",
        "      \n",
        "      for i in range(8):\n",
        "          for j in range(8):\n",
        "              tY[matrizZigzag[i][j]] = listaCoeficientesQuantizadosY[z][k][i][j]\n",
        "              tCb[matrizZigzag[i][j]] = listaCoeficientesQuantizadosCb[z][k][i][j]\n",
        "              tCr[matrizZigzag[i][j]] = listaCoeficientesQuantizadosCr[z][k][i][j]\n",
        "      \n",
        "      arrayY.append(tY)\n",
        "      arrayCb.append(tCb)\n",
        "      arrayCr.append(tCr)\n",
        "      \n",
        "  arrayY = np.array(arrayY)\n",
        "  arrayCb = np.array(arrayCb)\n",
        "  arrayCr = np.array(arrayCr)\n",
        "\n",
        "  listaArrayY.append(arrayY)\n",
        "  listaArrayCb.append(arrayCb)\n",
        "  listaArrayCr.append(arrayCr)"
      ],
      "metadata": {
        "id": "q5e5BVS0YlRG",
        "colab": {
          "base_uri": "https://localhost:8080/"
        },
        "outputId": "58222a10-0a31-44ff-8d27-16d8ba93d2a7"
      },
      "execution_count": 26,
      "outputs": [
        {
          "output_type": "stream",
          "name": "stderr",
          "text": [
            "100%|██████████| 4881/4881 [00:44<00:00, 108.53it/s]\n"
          ]
        }
      ]
    },
    {
      "cell_type": "code",
      "source": [
        "for z in tqdm(range(len(listaArrayY))):\n",
        "  for i in reversed(range(1, listaArrayY[z].shape[0])):\n",
        "      listaArrayY[z][i][0] -= listaArrayY[z][i-1][0]\n",
        "      listaArrayCb[z][i][0] -= listaArrayCb[z][i-1][0]\n",
        "      listaArrayCr[z][i][0] -= listaArrayCr[z][i-1][0]"
      ],
      "metadata": {
        "id": "WycdLGBTYm_w",
        "colab": {
          "base_uri": "https://localhost:8080/"
        },
        "outputId": "fdd0dd8b-6fc0-439f-99d1-2b4091d85dad"
      },
      "execution_count": 27,
      "outputs": [
        {
          "output_type": "stream",
          "name": "stderr",
          "text": [
            "100%|██████████| 4881/4881 [00:00<00:00, 5813.51it/s]\n"
          ]
        }
      ]
    },
    {
      "cell_type": "code",
      "source": [
        "def armazena_steganografia_no_byte(valor_byte, valor_stegano1):\n",
        "  valor_byte = int(valor_byte)\n",
        "\n",
        "  if valor_stegano1 == 1:\n",
        "    valor_byte |= 1\n",
        "  else:\n",
        "    valor_byte &= (~1)\n",
        "\n",
        "  return valor_byte"
      ],
      "metadata": {
        "id": "d1M34jonnfIZ"
      },
      "execution_count": 28,
      "outputs": []
    },
    {
      "cell_type": "code",
      "source": [
        "for z in tqdm(range(len(listaArrayY))):\n",
        "  contador_bit_esteganografia = 0\n",
        "\n",
        "  for i in range(listaArrayY[z].shape[0]):\n",
        "      if contador_bit_esteganografia < len(lista_bitarray_mensagem[z]):\n",
        "        listaArrayCb[z][i][1] = armazena_steganografia_no_byte(listaArrayCb[z][i][1], lista_bitarray_mensagem[z][contador_bit_esteganografia])\n",
        "\n",
        "      contador_bit_esteganografia += 1"
      ],
      "metadata": {
        "id": "VKCiAJhmt9s7",
        "colab": {
          "base_uri": "https://localhost:8080/"
        },
        "outputId": "a85417f2-ca9f-423c-8188-bcdf481e5245"
      },
      "execution_count": 29,
      "outputs": [
        {
          "output_type": "stream",
          "name": "stderr",
          "text": [
            "100%|██████████| 4881/4881 [00:00<00:00, 9355.80it/s]\n"
          ]
        }
      ]
    },
    {
      "cell_type": "code",
      "source": [
        "huffmanDCLuminancia = {\n",
        "    \"tamanho\": [0, 1, 5, 1, 1, 1, 1, 1, 1, 0, 0, 0, 0, 0, 0, 0],\n",
        "    \"valores\": [0x00, 0x01, 0x02, 0x03, 0x04, 0x05, 0x06, 0x07, 0x08, 0x09, 0x0a, 0x0b]\n",
        "}"
      ],
      "metadata": {
        "id": "x1gSWvpeYowx"
      },
      "execution_count": 30,
      "outputs": []
    },
    {
      "cell_type": "code",
      "source": [
        "huffmanDCCrominancia = {\n",
        "    \"tamanho\": [0, 3, 1, 1, 1, 1, 1, 1, 1, 1, 1, 0, 0, 0, 0, 0],\n",
        "    \"valores\": [0x00, 0x01, 0x02, 0x03, 0x04, 0x05, 0x06, 0x07, 0x08, 0x09, 0x0a, 0x0b]\n",
        "}"
      ],
      "metadata": {
        "id": "drW1eGL0Yqrl"
      },
      "execution_count": 31,
      "outputs": []
    },
    {
      "cell_type": "code",
      "source": [
        "huffmanACLuminancia = {\n",
        "    \"tamanho\": [0, 2, 1, 3, 3, 2, 4, 3, 5, 5, 4, 4, 0, 0, 1, 125],\n",
        "    \"valores\": [0x01, 0x02, 0x03, 0x00, 0x04, 0x11, 0x05, 0x12,\n",
        "        0x21, 0x31, 0x41, 0x06, 0x13, 0x51, 0x61, 0x07,\n",
        "        0x22, 0x71, 0x14, 0x32, 0x81, 0x91, 0xa1, 0x08,\n",
        "        0x23, 0x42, 0xb1, 0xc1, 0x15, 0x52, 0xd1, 0xf0,\n",
        "        0x24, 0x33, 0x62, 0x72, 0x82, 0x09, 0x0a, 0x16,\n",
        "        0x17, 0x18, 0x19, 0x1a, 0x25, 0x26, 0x27, 0x28,\n",
        "        0x29, 0x2a, 0x34, 0x35, 0x36, 0x37, 0x38, 0x39,\n",
        "        0x3a, 0x43, 0x44, 0x45, 0x46, 0x47, 0x48, 0x49,\n",
        "        0x4a, 0x53, 0x54, 0x55, 0x56, 0x57, 0x58, 0x59,\n",
        "        0x5a, 0x63, 0x64, 0x65, 0x66, 0x67, 0x68, 0x69,\n",
        "        0x6a, 0x73, 0x74, 0x75, 0x76, 0x77, 0x78, 0x79,\n",
        "        0x7a, 0x83, 0x84, 0x85, 0x86, 0x87, 0x88, 0x89,\n",
        "        0x8a, 0x92, 0x93, 0x94, 0x95, 0x96, 0x97, 0x98,\n",
        "        0x99, 0x9a, 0xa2, 0xa3, 0xa4, 0xa5, 0xa6, 0xa7,\n",
        "        0xa8, 0xa9, 0xaa, 0xb2, 0xb3, 0xb4, 0xb5, 0xb6,\n",
        "        0xb7, 0xb8, 0xb9, 0xba, 0xc2, 0xc3, 0xc4, 0xc5,\n",
        "        0xc6, 0xc7, 0xc8, 0xc9, 0xca, 0xd2, 0xd3, 0xd4,\n",
        "        0xd5, 0xd6, 0xd7, 0xd8, 0xd9, 0xda, 0xe1, 0xe2,\n",
        "        0xe3, 0xe4, 0xe5, 0xe6, 0xe7, 0xe8, 0xe9, 0xea,\n",
        "        0xf1, 0xf2, 0xf3, 0xf4, 0xf5, 0xf6, 0xf7, 0xf8,\n",
        "        0xf9, 0xfa]\n",
        "}"
      ],
      "metadata": {
        "id": "MujN8xKaYsWa"
      },
      "execution_count": 32,
      "outputs": []
    },
    {
      "cell_type": "code",
      "source": [
        "huffmanACCrominancia = {\n",
        "    \"tamanho\": [0, 2, 1, 2, 4, 4, 3, 4, 7, 5, 4, 4, 0, 1, 2, 119],\n",
        "    \"valores\": [0x00, 0x01, 0x02, 0x03, 0x11, 0x04, 0x05, 0x21,\n",
        "        0x31, 0x06, 0x12, 0x41, 0x51, 0x07, 0x61, 0x71,\n",
        "        0x13, 0x22, 0x32, 0x81, 0x08, 0x14, 0x42, 0x91,\n",
        "        0xa1, 0xb1, 0xc1, 0x09, 0x23, 0x33, 0x52, 0xf0,\n",
        "        0x15, 0x62, 0x72, 0xd1, 0x0a, 0x16, 0x24, 0x34,\n",
        "        0xe1, 0x25, 0xf1, 0x17, 0x18, 0x19, 0x1a, 0x26,\n",
        "        0x27, 0x28, 0x29, 0x2a, 0x35, 0x36, 0x37, 0x38,\n",
        "        0x39, 0x3a, 0x43, 0x44, 0x45, 0x46, 0x47, 0x48,\n",
        "        0x49, 0x4a, 0x53, 0x54, 0x55, 0x56, 0x57, 0x58,\n",
        "        0x59, 0x5a, 0x63, 0x64, 0x65, 0x66, 0x67, 0x68,\n",
        "        0x69, 0x6a, 0x73, 0x74, 0x75, 0x76, 0x77, 0x78,\n",
        "        0x79, 0x7a, 0x82, 0x83, 0x84, 0x85, 0x86, 0x87,\n",
        "        0x88, 0x89, 0x8a, 0x92, 0x93, 0x94, 0x95, 0x96,\n",
        "        0x97, 0x98, 0x99, 0x9a, 0xa2, 0xa3, 0xa4, 0xa5,\n",
        "        0xa6, 0xa7, 0xa8, 0xa9, 0xaa, 0xb2, 0xb3, 0xb4,\n",
        "        0xb5, 0xb6, 0xb7, 0xb8, 0xb9, 0xba, 0xc2, 0xc3,\n",
        "        0xc4, 0xc5, 0xc6, 0xc7, 0xc8, 0xc9, 0xca, 0xd2,\n",
        "        0xd3, 0xd4, 0xd5, 0xd6, 0xd7, 0xd8, 0xd9, 0xda,\n",
        "        0xe2, 0xe3, 0xe4, 0xe5, 0xe6, 0xe7, 0xe8, 0xe9,\n",
        "        0xea, 0xf2, 0xf3, 0xf4, 0xf5, 0xf6, 0xf7, 0xf8,\n",
        "        0xf9, 0xfa]\n",
        "}"
      ],
      "metadata": {
        "id": "d-KBNmuBYuA0"
      },
      "execution_count": 33,
      "outputs": []
    },
    {
      "cell_type": "code",
      "source": [
        "def intParaStringBits(x, length):\n",
        "    ret = \"\"\n",
        "    \n",
        "    flag = False\n",
        "    \n",
        "    if x < 0:\n",
        "        x *= -1\n",
        "        flag = True\n",
        "    \n",
        "    for i in range(length):\n",
        "        if x & 1 == 1:\n",
        "            if flag == True:\n",
        "                ret += \"0\"\n",
        "            else:\n",
        "                ret += \"1\"\n",
        "        else:\n",
        "            if flag == True:\n",
        "                ret += \"1\"\n",
        "            else:\n",
        "                ret += \"0\"\n",
        "            \n",
        "        x = x >> 1\n",
        "        \n",
        "    return ret[::-1]"
      ],
      "metadata": {
        "id": "BI9NOBzpYvtQ"
      },
      "execution_count": 34,
      "outputs": []
    },
    {
      "cell_type": "code",
      "source": [
        "def somaUm(x):\n",
        "    x = x[::-1]\n",
        "    \n",
        "    y = \"\"\n",
        "    flag = False\n",
        "    \n",
        "    for i in range(len(x)):\n",
        "        if flag == False:\n",
        "            if x[i] == \"0\":\n",
        "                y += \"1\"\n",
        "                flag = True\n",
        "            else:\n",
        "                y += \"0\"\n",
        "        else:\n",
        "            y += x[i]\n",
        "        \n",
        "    y = y[::-1]\n",
        "    \n",
        "    return y"
      ],
      "metadata": {
        "id": "ngXkOCl_Yxfe"
      },
      "execution_count": 35,
      "outputs": []
    },
    {
      "cell_type": "code",
      "source": [
        "def geraCodificacaoHuffman(huffman):\n",
        "  k = 0\n",
        "  n = \"0\"\n",
        "\n",
        "  ret  = {}\n",
        "\n",
        "  for i in huffman[\"tamanho\"]:\n",
        "      for j in range(i):\n",
        "          ret[huffman[\"valores\"][k]] = n\n",
        "          n = somaUm(n)\n",
        "          k += 1\n",
        "      n += \"0\"\n",
        "\n",
        "  return ret"
      ],
      "metadata": {
        "id": "vLU6LSXXeOyu"
      },
      "execution_count": 36,
      "outputs": []
    },
    {
      "cell_type": "code",
      "source": [
        "mapaDCLuminancia2 = geraCodificacaoHuffman(huffmanDCLuminancia)\n",
        "mapaACLuminancia2 = geraCodificacaoHuffman(huffmanACLuminancia)\n",
        "mapaDCCrominancia2 = geraCodificacaoHuffman(huffmanDCCrominancia)\n",
        "mapaACCrominancia2 = geraCodificacaoHuffman(huffmanACCrominancia)"
      ],
      "metadata": {
        "id": "ifeE9MhXYzZ8"
      },
      "execution_count": 37,
      "outputs": []
    },
    {
      "cell_type": "code",
      "source": [
        "def contaBitsNescessarios(x):\n",
        "    total = 0\n",
        "    \n",
        "    if x < 0:\n",
        "        x *= -1\n",
        "    \n",
        "    while x > 0 :\n",
        "        total += 1\n",
        "        x >>= 1\n",
        "        \n",
        "    return total"
      ],
      "metadata": {
        "id": "WrUkRk8EY1Rk"
      },
      "execution_count": 38,
      "outputs": []
    },
    {
      "cell_type": "code",
      "source": [
        "for z in tqdm(range(len(listaArrayY))):\n",
        "  listaArrayY[z] = listaArrayY[z].astype('int')\n",
        "  listaArrayCb[z] = listaArrayCb[z].astype('int')\n",
        "  listaArrayCr[z] = listaArrayCr[z].astype('int')"
      ],
      "metadata": {
        "id": "1TQtArjlY3HM",
        "colab": {
          "base_uri": "https://localhost:8080/"
        },
        "outputId": "3b48df78-e6f5-481b-c3d5-f98859f5f26f"
      },
      "execution_count": 39,
      "outputs": [
        {
          "output_type": "stream",
          "name": "stderr",
          "text": [
            "100%|██████████| 4881/4881 [00:00<00:00, 57213.76it/s]\n"
          ]
        }
      ]
    },
    {
      "cell_type": "code",
      "source": [
        "def codificaBlocoHuffman(bloco, mapaDC, mapaAC):\n",
        "\n",
        "  stringBits = \"\"\n",
        "  zeroPad = 0\n",
        "\n",
        "  nBits = contaBitsNescessarios(bloco[0])\n",
        "    \n",
        "  stringBits += mapaDC[nBits]\n",
        "  stringBits += intParaStringBits(bloco[0], nBits)\n",
        "  \n",
        "  zeroPad = 0\n",
        "  \n",
        "  for j in range(1, 64):\n",
        "      if bloco[j] == 0:\n",
        "          zeroPad += 1\n",
        "      else:\n",
        "          while zeroPad > 15:\n",
        "              stringBits += mapaAC[(15 << 4) + 0]\n",
        "              zeroPad -= 16\n",
        "          \n",
        "          nBits = contaBitsNescessarios(bloco[j])\n",
        "          \n",
        "          stringBits += mapaAC[(zeroPad << 4) + nBits]\n",
        "          stringBits += intParaStringBits(bloco[j], nBits)\n",
        "  \n",
        "          zeroPad = 0\n",
        "  \n",
        "  if zeroPad > 0:\n",
        "      stringBits += mapaAC[0]\n",
        "\n",
        "  return stringBits"
      ],
      "metadata": {
        "id": "ZQ51vY2agICp"
      },
      "execution_count": 40,
      "outputs": []
    },
    {
      "cell_type": "code",
      "source": [
        "listaStringBits = []\n",
        "\n",
        "for z in tqdm(range(len(listaArrayY))):\n",
        "  stringBits = \"\"\n",
        "\n",
        "  for i in range(listaArrayY[z].shape[0]):\n",
        "    stringBits += codificaBlocoHuffman(listaArrayY[z][i], mapaDCLuminancia2, mapaACLuminancia2)\n",
        "    stringBits += codificaBlocoHuffman(listaArrayCb[z][i], mapaDCCrominancia2, mapaACCrominancia2)\n",
        "    stringBits += codificaBlocoHuffman(listaArrayCr[z][i], mapaDCCrominancia2, mapaACCrominancia2)\n",
        "\n",
        "  listaStringBits.append(stringBits)"
      ],
      "metadata": {
        "id": "vpUqosi7Y41K",
        "colab": {
          "base_uri": "https://localhost:8080/"
        },
        "outputId": "a895818a-afc0-4cd4-9b13-372a7838f18f"
      },
      "execution_count": 41,
      "outputs": [
        {
          "output_type": "stream",
          "name": "stderr",
          "text": [
            "100%|██████████| 4881/4881 [01:26<00:00, 56.12it/s]\n"
          ]
        }
      ]
    },
    {
      "cell_type": "code",
      "source": [
        "for z in tqdm(range(len(listaStringBits))):\n",
        "  while len(listaStringBits[z]) % 8 != 0:\n",
        "      listaStringBits[z] += \"0\""
      ],
      "metadata": {
        "id": "P03xQPv6Y6db",
        "colab": {
          "base_uri": "https://localhost:8080/"
        },
        "outputId": "2124ad94-62da-4d29-bacf-5c12e07d775b"
      },
      "execution_count": 42,
      "outputs": [
        {
          "output_type": "stream",
          "name": "stderr",
          "text": [
            "100%|██████████| 4881/4881 [00:00<00:00, 84697.83it/s]\n"
          ]
        }
      ]
    },
    {
      "cell_type": "code",
      "source": [
        "listaImgJpeg = []\n",
        "\n",
        "for z in tqdm(range(len(listaStringBits))):\n",
        "  imgJpeg = bytearray()\n",
        "  listaImgJpeg.append(imgJpeg)"
      ],
      "metadata": {
        "id": "vkfsRyhtY8X8",
        "colab": {
          "base_uri": "https://localhost:8080/"
        },
        "outputId": "707a22c1-4128-4fc5-c2d7-1b4b1dd4d92b"
      },
      "execution_count": 43,
      "outputs": [
        {
          "output_type": "stream",
          "name": "stderr",
          "text": [
            "100%|██████████| 4881/4881 [00:00<00:00, 1382802.96it/s]\n"
          ]
        }
      ]
    },
    {
      "cell_type": "code",
      "source": [
        "for imgJpeg in tqdm(listaImgJpeg):\n",
        "  imgJpeg += b'\\xff\\xd8'"
      ],
      "metadata": {
        "colab": {
          "base_uri": "https://localhost:8080/"
        },
        "id": "6MqPhWKbaTQS",
        "outputId": "41bd41ea-20a2-47d8-aecd-2de7542d35d5"
      },
      "execution_count": 44,
      "outputs": [
        {
          "output_type": "stream",
          "name": "stderr",
          "text": [
            "100%|██████████| 4881/4881 [00:00<00:00, 2062710.11it/s]\n"
          ]
        }
      ]
    },
    {
      "cell_type": "code",
      "source": [
        "for imgJpeg in tqdm(listaImgJpeg):\n",
        "  imgJpeg += b'\\xff\\xe0' # marker\n",
        "  imgJpeg += b'\\x00\\x10' # lenght\n",
        "  imgJpeg += b'\\x4a\\x46\\x49\\x46\\x00' # identifier JFIF\\0\n",
        "  imgJpeg += b'\\x01\\x02' # version 1.2\n",
        "  imgJpeg += b'\\x00' # units (dpi)\n",
        "  imgJpeg += b'\\x00\\x64\\x00\\x64' #density\n",
        "  imgJpeg += b'\\x00\\x00' # thumbnail"
      ],
      "metadata": {
        "id": "5GF5IGImY_zI",
        "colab": {
          "base_uri": "https://localhost:8080/"
        },
        "outputId": "74dd6e2a-493d-4766-ad42-c4999edd69c4"
      },
      "execution_count": 45,
      "outputs": [
        {
          "output_type": "stream",
          "name": "stderr",
          "text": [
            "100%|██████████| 4881/4881 [00:00<00:00, 952248.84it/s]\n"
          ]
        }
      ]
    },
    {
      "cell_type": "code",
      "source": [
        "for imgJpeg in tqdm(listaImgJpeg):\n",
        "  comentario = \"JPEG Stegano Encoder.\"\n",
        "\n",
        "  comprimento = len(comentario)\n",
        "\n",
        "  imgJpeg += b'\\xff\\xfe' # marker\n",
        "  imgJpeg += (comprimento + 2).to_bytes(2, byteorder='big') # length\n",
        "  imgJpeg += comentario.encode('ascii') # comentário"
      ],
      "metadata": {
        "id": "FOxmIy9pZBX7",
        "colab": {
          "base_uri": "https://localhost:8080/"
        },
        "outputId": "d6347e34-8aa7-4576-ac0c-483384c8471e"
      },
      "execution_count": 46,
      "outputs": [
        {
          "output_type": "stream",
          "name": "stderr",
          "text": [
            "100%|██████████| 4881/4881 [00:00<00:00, 655662.24it/s]\n"
          ]
        }
      ]
    },
    {
      "cell_type": "code",
      "source": [
        "for imgJpeg in tqdm(listaImgJpeg):\n",
        "  qtL = np.zeros(64)\n",
        "  qtC = np.zeros(64)\n",
        "\n",
        "  for i in range(8):\n",
        "      for j in range(8):\n",
        "          qtL[matrizZigzag[i][j]] = matrizQuantizacaoLuminancia[i][j]\n",
        "          qtC[matrizZigzag[i][j]] = matrizQuantizacaoCrominancia[i][j]"
      ],
      "metadata": {
        "id": "MLBlcz2oZDTX",
        "colab": {
          "base_uri": "https://localhost:8080/"
        },
        "outputId": "7caed88c-8285-487c-abfe-4d21e50dc92d"
      },
      "execution_count": 47,
      "outputs": [
        {
          "output_type": "stream",
          "name": "stderr",
          "text": [
            "100%|██████████| 4881/4881 [00:00<00:00, 13429.73it/s]\n"
          ]
        }
      ]
    },
    {
      "cell_type": "code",
      "source": [
        "for imgJpeg in tqdm(listaImgJpeg):\n",
        "  imgJpeg += b'\\xff\\xdb' # marker\n",
        "  imgJpeg += b'\\x00\\x43' # length\n",
        "  imgJpeg += b'\\x00' # destination luminance (0)\n",
        "\n",
        "  for i in qtL.astype('uint8'):\n",
        "      imgJpeg += i.tobytes() # table"
      ],
      "metadata": {
        "id": "tGa_ngKYZFP_",
        "colab": {
          "base_uri": "https://localhost:8080/"
        },
        "outputId": "1e741903-e62c-47df-c9a4-ddd7742a1c62"
      },
      "execution_count": 48,
      "outputs": [
        {
          "output_type": "stream",
          "name": "stderr",
          "text": [
            "100%|██████████| 4881/4881 [00:00<00:00, 20375.05it/s]\n"
          ]
        }
      ]
    },
    {
      "cell_type": "code",
      "source": [
        "for imgJpeg in tqdm(listaImgJpeg):\n",
        "  imgJpeg += b'\\xff\\xdb' # marker\n",
        "  imgJpeg += b'\\x00\\x43' # length\n",
        "  imgJpeg += b'\\x01' # destination chrominance (1)\n",
        "\n",
        "  for i in qtC.astype('uint8'):\n",
        "      imgJpeg += i.tobytes() # table"
      ],
      "metadata": {
        "id": "mazqUOO3ZHKJ",
        "colab": {
          "base_uri": "https://localhost:8080/"
        },
        "outputId": "7eb5defc-a62d-4ce6-9ef8-37d5abdfebab"
      },
      "execution_count": 49,
      "outputs": [
        {
          "output_type": "stream",
          "name": "stderr",
          "text": [
            "100%|██████████| 4881/4881 [00:00<00:00, 21051.40it/s]\n"
          ]
        }
      ]
    },
    {
      "cell_type": "code",
      "source": [
        "for imgJpeg in tqdm(listaImgJpeg):\n",
        "  sh = np.asarray(img).shape\n",
        "\n",
        "  imgJpeg += b'\\xff\\xc0' # marker\n",
        "  imgJpeg += b'\\x00\\x11' # length\n",
        "  imgJpeg += b'\\x08' # precision\n",
        "  imgJpeg += (sh[0]).to_bytes(2, byteorder='big') # image height\n",
        "  imgJpeg += (sh[1]).to_bytes(2, byteorder='big') # image width\n",
        "  imgJpeg += b'\\x03' # components (Y, Cb, Cr)\n",
        "  imgJpeg += b'\\x01\\x11\\x00' # id factor table (LumY)\n",
        "  imgJpeg += b'\\x02\\x11\\x01' # id factor table (ChromCb)\n",
        "  imgJpeg += b'\\x03\\x11\\x01' # id factor table (ChromCr)"
      ],
      "metadata": {
        "id": "jHipUmHLZItw",
        "colab": {
          "base_uri": "https://localhost:8080/"
        },
        "outputId": "3030b6cb-7b7e-434f-e715-aaef30e596ce"
      },
      "execution_count": 50,
      "outputs": [
        {
          "output_type": "stream",
          "name": "stderr",
          "text": [
            "100%|██████████| 4881/4881 [00:00<00:00, 69677.14it/s]\n"
          ]
        }
      ]
    },
    {
      "cell_type": "code",
      "source": [
        "for imgJpeg in tqdm(listaImgJpeg):\n",
        "  leng = 19 + len(mapaDCLuminancia2)\n",
        "\n",
        "  mapaOrdenado = mapaDCLuminancia2.items()\n",
        "\n",
        "  comprimentoMapa = np.zeros(16).astype('int8')\n",
        "\n",
        "  for i in mapaOrdenado:\n",
        "      comprimentoMapa[len(i[1]) - 1] += 1\n",
        "\n",
        "  imgJpeg += b'\\xff\\xc4' # marker\n",
        "  imgJpeg += (leng).to_bytes(2, byteorder='big') # length\n",
        "  imgJpeg += b'\\x00' # class (DC) destination\n",
        "\n",
        "  for i in comprimentoMapa:\n",
        "      imgJpeg += (int(i)).to_bytes(1, byteorder='big')\n",
        "      \n",
        "  for i in mapaOrdenado:\n",
        "      imgJpeg += (i[0]).to_bytes(1, byteorder='big') # code of bit"
      ],
      "metadata": {
        "id": "yE0cocp3ZKaX",
        "colab": {
          "base_uri": "https://localhost:8080/"
        },
        "outputId": "6eb10691-d7e7-424c-e1ad-5f0031f7f285"
      },
      "execution_count": 51,
      "outputs": [
        {
          "output_type": "stream",
          "name": "stderr",
          "text": [
            "100%|██████████| 4881/4881 [00:00<00:00, 17147.35it/s]\n"
          ]
        }
      ]
    },
    {
      "cell_type": "code",
      "source": [
        "for imgJpeg in tqdm(listaImgJpeg):\n",
        "  leng = 19 + len(mapaDCCrominancia2)\n",
        "\n",
        "  mapaOrdenado = mapaDCCrominancia2.items()\n",
        "\n",
        "  comprimentoMapa = np.zeros(16).astype('int8')\n",
        "\n",
        "  for i in mapaOrdenado:\n",
        "      comprimentoMapa[len(i[1]) - 1] += 1\n",
        "\n",
        "  imgJpeg += b'\\xff\\xc4' # marker\n",
        "  imgJpeg += (leng).to_bytes(2, byteorder='big') # length\n",
        "  imgJpeg += b'\\x01' # class (DC) destination\n",
        "\n",
        "  for i in comprimentoMapa:\n",
        "      imgJpeg += (int(i)).to_bytes(1, byteorder='big')\n",
        "      \n",
        "  for i in mapaOrdenado:\n",
        "      imgJpeg += (i[0]).to_bytes(1, byteorder='big') # code of bit"
      ],
      "metadata": {
        "id": "7M70TpHSZMJ-",
        "colab": {
          "base_uri": "https://localhost:8080/"
        },
        "outputId": "eada59ad-b127-4a36-d849-0e806192c343"
      },
      "execution_count": 52,
      "outputs": [
        {
          "output_type": "stream",
          "name": "stderr",
          "text": [
            "100%|██████████| 4881/4881 [00:00<00:00, 14719.33it/s]\n"
          ]
        }
      ]
    },
    {
      "cell_type": "code",
      "source": [
        "for imgJpeg in tqdm(listaImgJpeg):\n",
        "  leng = 19 + len(mapaACLuminancia2)\n",
        "\n",
        "  mapaOrdenado = mapaACLuminancia2.items()\n",
        "\n",
        "  comprimentoMapa = np.zeros(16).astype('int8')\n",
        "\n",
        "  for i in mapaOrdenado:\n",
        "      comprimentoMapa[len(i[1]) - 1] += 1\n",
        "\n",
        "  imgJpeg += b'\\xff\\xc4' # marker\n",
        "  imgJpeg += (leng).to_bytes(2, byteorder='big') # length\n",
        "  imgJpeg += b'\\x10' # class (AC) destination\n",
        "\n",
        "  for i in comprimentoMapa:\n",
        "      imgJpeg += (int(i)).to_bytes(1, byteorder='big')\n",
        "      \n",
        "  for i in mapaOrdenado:\n",
        "      imgJpeg += (i[0]).to_bytes(1, byteorder='big') # code of bit"
      ],
      "metadata": {
        "id": "K_4Uo6dJZNwR",
        "colab": {
          "base_uri": "https://localhost:8080/"
        },
        "outputId": "524554b3-b623-4b40-ebe0-b3738189a18b"
      },
      "execution_count": 53,
      "outputs": [
        {
          "output_type": "stream",
          "name": "stderr",
          "text": [
            "100%|██████████| 4881/4881 [00:02<00:00, 1875.78it/s]\n"
          ]
        }
      ]
    },
    {
      "cell_type": "code",
      "source": [
        "for imgJpeg in tqdm(listaImgJpeg):\n",
        "  leng = 19 + len(mapaACCrominancia2)\n",
        "\n",
        "  mapaOrdenado = mapaACCrominancia2.items()\n",
        "\n",
        "  comprimentoMapa = np.zeros(16).astype('int8')\n",
        "\n",
        "  for i in mapaOrdenado:\n",
        "      comprimentoMapa[len(i[1]) - 1] += 1\n",
        "\n",
        "  imgJpeg += b'\\xff\\xc4' # marker\n",
        "  imgJpeg += (leng).to_bytes(2, byteorder='big') # length\n",
        "  imgJpeg += b'\\x11' # class (AC) destination\n",
        "\n",
        "  for i in comprimentoMapa:\n",
        "      imgJpeg += (int(i)).to_bytes(1, byteorder='big')\n",
        "      \n",
        "  for i in mapaOrdenado:\n",
        "      imgJpeg += (i[0]).to_bytes(1, byteorder='big') # code of bit"
      ],
      "metadata": {
        "id": "PWd17IKbZPks",
        "colab": {
          "base_uri": "https://localhost:8080/"
        },
        "outputId": "bf55318c-75ab-4f74-c199-85a49d6cf951"
      },
      "execution_count": 54,
      "outputs": [
        {
          "output_type": "stream",
          "name": "stderr",
          "text": [
            "100%|██████████| 4881/4881 [00:02<00:00, 1842.84it/s]\n"
          ]
        }
      ]
    },
    {
      "cell_type": "code",
      "source": [
        "for imgJpeg in tqdm(listaImgJpeg):\n",
        "  imgJpeg += b'\\xff\\xda' # marker\n",
        "  imgJpeg += b'\\x00\\x0c' # length\n",
        "  imgJpeg += b'\\x03' # components\n",
        "  imgJpeg += b'\\x01\\x00' # selector dc ac\n",
        "  imgJpeg += b'\\x02\\x11' # selector dc ac\n",
        "  imgJpeg += b'\\x03\\x11' # selector dc ac\n",
        "  imgJpeg += b'\\x00\\x3f' # spectral interval\n",
        "  imgJpeg += b'\\x00' # sucessive aproximation"
      ],
      "metadata": {
        "id": "p9a0wpYfZROK",
        "colab": {
          "base_uri": "https://localhost:8080/"
        },
        "outputId": "086bc355-96cd-41f0-ea66-a969c24888db"
      },
      "execution_count": 55,
      "outputs": [
        {
          "output_type": "stream",
          "name": "stderr",
          "text": [
            "100%|██████████| 4881/4881 [00:00<00:00, 735253.48it/s]\n"
          ]
        }
      ]
    },
    {
      "cell_type": "code",
      "source": [
        "nStringBits = 0\n",
        "\n",
        "for imgJpeg in tqdm(listaImgJpeg):\n",
        "  z = 0\n",
        "\n",
        "  for i in range(0, len(listaStringBits[nStringBits]), 8):\n",
        "      x = int(listaStringBits[nStringBits][i:i+8], 2)\n",
        "      \n",
        "      y = -1\n",
        "      \n",
        "      if i + 16 < len(listaStringBits[nStringBits]):\n",
        "          y = int(listaStringBits[nStringBits][i+8:i+16], 2)\n",
        "      \n",
        "      imgJpeg += (x).to_bytes(1, byteorder='big')\n",
        "      \n",
        "      if x == 255 and y != 255:\n",
        "          imgJpeg += (0).to_bytes(1, byteorder='big')\n",
        "          z += 1\n",
        "\n",
        "  nStringBits += 1"
      ],
      "metadata": {
        "id": "1c1feiykZSq8",
        "colab": {
          "base_uri": "https://localhost:8080/"
        },
        "outputId": "7b241599-19fd-4c66-cae0-59992da42933"
      },
      "execution_count": 56,
      "outputs": [
        {
          "output_type": "stream",
          "name": "stderr",
          "text": [
            "100%|██████████| 4881/4881 [00:21<00:00, 225.22it/s]\n"
          ]
        }
      ]
    },
    {
      "cell_type": "code",
      "source": [
        "for imgJpeg in tqdm(listaImgJpeg):\n",
        "  imgJpeg += b'\\xff\\xd9' # marker"
      ],
      "metadata": {
        "id": "DEd3ejupZUXN",
        "colab": {
          "base_uri": "https://localhost:8080/"
        },
        "outputId": "1eb5b643-fdd2-488b-b1e5-1eb9b3d3ab66"
      },
      "execution_count": 57,
      "outputs": [
        {
          "output_type": "stream",
          "name": "stderr",
          "text": [
            "100%|██████████| 4881/4881 [00:00<00:00, 1529845.90it/s]\n"
          ]
        }
      ]
    },
    {
      "cell_type": "code",
      "source": [
        "os.mkdir('dataset_esteganografia')"
      ],
      "metadata": {
        "id": "jKYDzp0vbezG"
      },
      "execution_count": 58,
      "outputs": []
    },
    {
      "cell_type": "code",
      "source": [
        "nImagem = 0\n",
        "\n",
        "for imgJpeg in tqdm(listaImgJpeg):\n",
        "  fileJpeg = open('dataset_esteganografia/' + str(nImagem).zfill(5) + '.jpeg', 'wb')\n",
        "  fileJpeg.write(imgJpeg)\n",
        "  fileJpeg.close()\n",
        "\n",
        "  nImagem += 1"
      ],
      "metadata": {
        "id": "6DshD837ZWQR",
        "colab": {
          "base_uri": "https://localhost:8080/"
        },
        "outputId": "1d1445aa-0588-4d96-be78-d074500a47db"
      },
      "execution_count": 59,
      "outputs": [
        {
          "output_type": "stream",
          "name": "stderr",
          "text": [
            "100%|██████████| 4881/4881 [00:00<00:00, 25209.21it/s]\n"
          ]
        }
      ]
    },
    {
      "cell_type": "markdown",
      "source": [
        "<hr/>"
      ],
      "metadata": {
        "id": "OFcDA7ovqFCZ"
      }
    },
    {
      "cell_type": "code",
      "source": [
        "steganoImagesList = []\n",
        "\n",
        "listaFileName = os.listdir('dataset_esteganografia')\n",
        "listaFileName.sort()\n",
        "\n",
        "for fileName in tqdm(listaFileName):\n",
        "  img = open('dataset_esteganografia/' + fileName, 'rb')\n",
        "  steganoImagesList.append(img)"
      ],
      "metadata": {
        "id": "QcvH0R2nZX7Q",
        "colab": {
          "base_uri": "https://localhost:8080/"
        },
        "outputId": "6ecac052-d3cf-48e6-9892-a7a90b992cd5"
      },
      "execution_count": 60,
      "outputs": [
        {
          "output_type": "stream",
          "name": "stderr",
          "text": [
            "100%|██████████| 4881/4881 [00:00<00:00, 88368.41it/s]\n"
          ]
        }
      ]
    },
    {
      "cell_type": "code",
      "source": [
        "listaFileContent = []\n",
        "\n",
        "for img in tqdm(steganoImagesList):\n",
        "  fileContent = img.read()\n",
        "  listaFileContent.append(fileContent)"
      ],
      "metadata": {
        "id": "AyJYavS2qPQg",
        "colab": {
          "base_uri": "https://localhost:8080/"
        },
        "outputId": "ac4a88a4-ab28-4230-ba60-3a645508eaae"
      },
      "execution_count": 61,
      "outputs": [
        {
          "output_type": "stream",
          "name": "stderr",
          "text": [
            "100%|██████████| 4881/4881 [00:00<00:00, 110283.07it/s]\n"
          ]
        }
      ]
    },
    {
      "cell_type": "code",
      "source": [
        "listaImageData = []\n",
        "\n",
        "for z in tqdm(range(len(listaFileContent))):\n",
        "  listaImageData.append(bytearray())"
      ],
      "metadata": {
        "id": "iel5IuWZqRcu",
        "colab": {
          "base_uri": "https://localhost:8080/"
        },
        "outputId": "33445964-f385-4df4-bc63-fa84af728153"
      },
      "execution_count": 62,
      "outputs": [
        {
          "output_type": "stream",
          "name": "stderr",
          "text": [
            "100%|██████████| 4881/4881 [00:00<00:00, 1234839.12it/s]\n"
          ]
        }
      ]
    },
    {
      "cell_type": "code",
      "source": [
        "for z in tqdm(range(len(listaFileContent))):\n",
        "  segmentStartOfScan = False\n",
        "  nBytesStartOfScan = 0\n",
        "\n",
        "  for i in range(len(listaFileContent[z]) - 2):\n",
        "      if listaFileContent[z][i] == ord(b'\\xff') and listaFileContent[z][i+1] == ord(b'\\xda'):\n",
        "          segmentStartOfScan = True\n",
        "          \n",
        "      if segmentStartOfScan:\n",
        "          nBytesStartOfScan += 1\n",
        "          \n",
        "          if nBytesStartOfScan > 14:\n",
        "              listaImageData[z].append(listaFileContent[z][i])"
      ],
      "metadata": {
        "id": "4qs6sZt3qTmO",
        "colab": {
          "base_uri": "https://localhost:8080/"
        },
        "outputId": "02af83ca-44e3-4eae-f159-d8ecb3914816"
      },
      "execution_count": 63,
      "outputs": [
        {
          "output_type": "stream",
          "name": "stderr",
          "text": [
            "100%|██████████| 4881/4881 [00:09<00:00, 536.73it/s]\n"
          ]
        }
      ]
    },
    {
      "cell_type": "code",
      "source": [
        "listaBa = []\n",
        "\n",
        "for z in tqdm(range(len(listaFileContent))):\n",
        "  ba = bitarray()\n",
        "  listaBa.append(ba)"
      ],
      "metadata": {
        "id": "2F3_Ir7UqYCf",
        "colab": {
          "base_uri": "https://localhost:8080/"
        },
        "outputId": "2751cbf3-0665-47da-f251-16db24ff9f23"
      },
      "execution_count": 64,
      "outputs": [
        {
          "output_type": "stream",
          "name": "stderr",
          "text": [
            "100%|██████████| 4881/4881 [00:00<00:00, 1342628.40it/s]\n"
          ]
        }
      ]
    },
    {
      "cell_type": "code",
      "source": [
        "for z in tqdm(range(len(listaBa))):\n",
        "  listaBa[z].frombytes(bytes(listaImageData[z]))"
      ],
      "metadata": {
        "id": "TkB1aMHbqasi",
        "colab": {
          "base_uri": "https://localhost:8080/"
        },
        "outputId": "b7674e2c-84d6-4193-bf0e-ac5af4d58c37"
      },
      "execution_count": 65,
      "outputs": [
        {
          "output_type": "stream",
          "name": "stderr",
          "text": [
            "100%|██████████| 4881/4881 [00:00<00:00, 278710.46it/s]\n"
          ]
        }
      ]
    },
    {
      "cell_type": "code",
      "source": [
        "listaBa2 = []\n",
        "\n",
        "for z in tqdm(range(len(listaBa))):\n",
        "  ba2 = bitarray()\n",
        "  listaBa2.append(ba2)"
      ],
      "metadata": {
        "id": "1-pXTGphqc9I",
        "colab": {
          "base_uri": "https://localhost:8080/"
        },
        "outputId": "5f4454fc-a663-492e-fcb9-f10d3cedf1c0"
      },
      "execution_count": 66,
      "outputs": [
        {
          "output_type": "stream",
          "name": "stderr",
          "text": [
            "100%|██████████| 4881/4881 [00:00<00:00, 1348109.96it/s]\n"
          ]
        }
      ]
    },
    {
      "cell_type": "code",
      "source": [
        "for z in tqdm(range(len(listaBa))):\n",
        "  bitTemp = ''\n",
        "\n",
        "  for bit in listaBa[z]:\n",
        "      bitTemp += str(bit)\n",
        "      \n",
        "      if len(bitTemp) == 16:\n",
        "          if bitTemp == '1111111100000000':\n",
        "              listaBa2[z] += bitarray('11111111')\n",
        "              bitTemp = ''\n",
        "          else:\n",
        "              listaBa2[z] += bitarray(bitTemp[0:8])\n",
        "              bitTemp = bitTemp[8:16]"
      ],
      "metadata": {
        "id": "-39Py1UCqez9",
        "colab": {
          "base_uri": "https://localhost:8080/"
        },
        "outputId": "218c4b92-1a2d-432b-f173-d2f61d11f4bd"
      },
      "execution_count": 67,
      "outputs": [
        {
          "output_type": "stream",
          "name": "stderr",
          "text": [
            "100%|██████████| 4881/4881 [01:00<00:00, 80.66it/s]\n"
          ]
        }
      ]
    },
    {
      "cell_type": "code",
      "source": [
        "def ba_to_int(bitsStr):\n",
        "    negative = True if bitsStr[0] == '0' else False\n",
        "    \n",
        "    if negative:\n",
        "        tempStr = ''\n",
        "        \n",
        "        for i in bitsStr:\n",
        "            if i == '0':\n",
        "                tempStr += '1'\n",
        "            else:\n",
        "                tempStr += '0'\n",
        "        \n",
        "        return -1 * int(tempStr, 2)\n",
        "    else:\n",
        "        return int(bitsStr, 2)"
      ],
      "metadata": {
        "id": "PfaEaXAXqg_8"
      },
      "execution_count": 68,
      "outputs": []
    },
    {
      "cell_type": "code",
      "source": [
        "def geraDecodificacaoHuffman(huffman):\n",
        "  ret  = {}\n",
        "\n",
        "  k = 0\n",
        "  n = 1\n",
        "  x = 0\n",
        "\n",
        "  for i in huffman[\"tamanho\"]:\n",
        "      for j in range(i):\n",
        "          ret[int2ba(x, length=n).to01()] = huffman[\"valores\"][k]\n",
        "          x += 1\n",
        "          k += 1\n",
        "      x <<= 1\n",
        "      n += 1\n",
        "\n",
        "  return ret"
      ],
      "metadata": {
        "id": "tglMgu01q_90"
      },
      "execution_count": 69,
      "outputs": []
    },
    {
      "cell_type": "code",
      "source": [
        "mapaDCLuminancia2 = geraDecodificacaoHuffman(huffmanDCLuminancia)\n",
        "mapaACLuminancia2 = geraDecodificacaoHuffman(huffmanACLuminancia)\n",
        "mapaDCCrominancia2 = geraDecodificacaoHuffman(huffmanDCCrominancia)\n",
        "mapaACCrominancia2 = geraDecodificacaoHuffman(huffmanACCrominancia)"
      ],
      "metadata": {
        "id": "ZO4L6Vg8rAB9"
      },
      "execution_count": 70,
      "outputs": []
    },
    {
      "cell_type": "code",
      "source": [
        "listaBlockArray = []\n",
        "\n",
        "for z in tqdm(range(len(listaBa2))):\n",
        "  tempBit = ''\n",
        "  nBits = -1\n",
        "  nCoeff = 0\n",
        "\n",
        "  block = []\n",
        "  blockArray = [[] for i in range(3)]\n",
        "\n",
        "  channel = 0\n",
        "\n",
        "  for bit in listaBa2[z]:\n",
        "      tempBit += str(bit)\n",
        "      \n",
        "      if nBits > 0:\n",
        "          nBits -= 1\n",
        "          \n",
        "          if nBits == 0:\n",
        "              coeff = ba_to_int(tempBit)\n",
        "              block.append(coeff)\n",
        "              nCoeff += 1\n",
        "              tempBit = ''\n",
        "              \n",
        "              if nCoeff == 64:\n",
        "                  blockArray[channel].append(block)\n",
        "                  block = []\n",
        "                  nCoeff = 0\n",
        "                  channel = (channel + 1) % 3\n",
        "      else:\n",
        "          if nCoeff == 0:\n",
        "              mapa = mapaDCLuminancia2 if channel == 0 else mapaDCCrominancia2\n",
        "              \n",
        "              if tempBit in mapa:\n",
        "                  coeff = mapa[tempBit]\n",
        "                  \n",
        "                  if coeff == 0:\n",
        "                      block.append(0)\n",
        "                      nCoeff += 1\n",
        "                  \n",
        "                  tempBit = ''\n",
        "                  nBits = coeff\n",
        "          else:\n",
        "              mapa = mapaACLuminancia2 if channel == 0 else mapaACCrominancia2\n",
        "              \n",
        "              if tempBit in mapa:\n",
        "                  coeff = mapa[tempBit]\n",
        "                  \n",
        "                  if coeff == 0:\n",
        "                      while nCoeff < 64:\n",
        "                          block.append(0)\n",
        "                          nCoeff += 1\n",
        "                      \n",
        "                      blockArray[channel].append(block)\n",
        "                      block = []\n",
        "                      tempBit = ''\n",
        "                      nCoeff = 0\n",
        "                      channel = (channel + 1) % 3\n",
        "                      continue\n",
        "                          \n",
        "                  coeffA = coeff >> 4\n",
        "                  coeffB = coeff & 15\n",
        "\n",
        "                  nBits = coeffB\n",
        "                  \n",
        "                  for i in range(coeffA):\n",
        "                      block.append(0)\n",
        "                      nCoeff += 1\n",
        "                  \n",
        "                  tempBit = ''\n",
        "\n",
        "  listaBlockArray.append(blockArray)"
      ],
      "metadata": {
        "id": "vSW2ZaeiqsCy",
        "colab": {
          "base_uri": "https://localhost:8080/"
        },
        "outputId": "472bfdce-1a03-453e-ce5f-f1a5393ac941"
      },
      "execution_count": 71,
      "outputs": [
        {
          "output_type": "stream",
          "name": "stderr",
          "text": [
            "100%|██████████| 4881/4881 [01:44<00:00, 46.61it/s]\n"
          ]
        }
      ]
    },
    {
      "cell_type": "code",
      "source": [
        "def readStegano(value):\n",
        "    return value & 1"
      ],
      "metadata": {
        "id": "8Oo9g2yIrYwb"
      },
      "execution_count": 72,
      "outputs": []
    },
    {
      "cell_type": "code",
      "source": [
        "listaText = []\n",
        "\n",
        "for blockArray in tqdm(listaBlockArray):\n",
        "  text = ''\n",
        "  bits = ''\n",
        "  j = 0\n",
        "\n",
        "  for i in blockArray[1]:\n",
        "      bit = readStegano(i[1])\n",
        "      bits += str(bit)\n",
        "      j += 1\n",
        "      \n",
        "      if len(bits) == 8:\n",
        "          value = int(bits, 2)\n",
        "          bits = ''\n",
        "          \n",
        "          if value == 0:\n",
        "              break\n",
        "          else:\n",
        "              text += chr(value)\n",
        "\n",
        "  listaText.append(text)"
      ],
      "metadata": {
        "id": "nfdoVP49rceW",
        "colab": {
          "base_uri": "https://localhost:8080/"
        },
        "outputId": "f548efb8-cbe2-4913-b7ba-23462dfb19fa"
      },
      "execution_count": 73,
      "outputs": [
        {
          "output_type": "stream",
          "name": "stderr",
          "text": [
            "100%|██████████| 4881/4881 [00:00<00:00, 14550.78it/s]\n"
          ]
        }
      ]
    },
    {
      "cell_type": "markdown",
      "source": [
        "<hr/>"
      ],
      "metadata": {
        "id": "7lMrUnz2rmWL"
      }
    },
    {
      "cell_type": "code",
      "source": [
        "totalCorreto = 0\n",
        "total = len(listaText)\n",
        "\n",
        "for z in tqdm(range(len(listaText))):\n",
        "  if listaText[z] == mensagens_secreta[z]:\n",
        "    totalCorreto += 1"
      ],
      "metadata": {
        "colab": {
          "base_uri": "https://localhost:8080/"
        },
        "id": "xRSmp3uLrhQR",
        "outputId": "849aa30f-fe52-4814-aa05-c1414c975d88"
      },
      "execution_count": 74,
      "outputs": [
        {
          "output_type": "stream",
          "name": "stderr",
          "text": [
            "100%|██████████| 4881/4881 [00:00<00:00, 1442530.85it/s]\n"
          ]
        }
      ]
    },
    {
      "cell_type": "code",
      "source": [
        "print('Percentual Correto: ' + str((totalCorreto / total) * 100) + '%')"
      ],
      "metadata": {
        "id": "K-5TID9Tq9Ua",
        "colab": {
          "base_uri": "https://localhost:8080/"
        },
        "outputId": "87710bc5-9086-44b0-a421-b4ec01c5cb7c"
      },
      "execution_count": 75,
      "outputs": [
        {
          "output_type": "stream",
          "name": "stdout",
          "text": [
            "Percentual Correto: 60.19258348699037%\n"
          ]
        }
      ]
    },
    {
      "cell_type": "markdown",
      "source": [
        "<hr/>"
      ],
      "metadata": {
        "id": "z3cMY-z3kj3Q"
      }
    },
    {
      "cell_type": "markdown",
      "source": [
        "**Calcula as metricas de qualidade da imagem visando comparar as imagens originais com as imagens contendo esteganografia**"
      ],
      "metadata": {
        "id": "m32gmPM7kwT3"
      }
    },
    {
      "cell_type": "code",
      "source": [
        "def mean_squared_error(a, b):\n",
        "  t = 0\n",
        "  n = 0\n",
        "  \n",
        "  for i in range(a.shape[0]):\n",
        "    for j in range(a.shape[1]):\n",
        "      for k in range(a.shape[2]):\n",
        "        t += (a[i][j][k] - b[i][j][k])**2\n",
        "        n += 1\n",
        "  \n",
        "  t /= n\n",
        "\n",
        "  return t"
      ],
      "metadata": {
        "id": "zd41XWhdjQoi"
      },
      "execution_count": 76,
      "outputs": []
    },
    {
      "cell_type": "code",
      "source": [
        "def peak_signal_to_noise_ratio(mse):\n",
        "  return 10 * math.log10((255**2)/(mse))"
      ],
      "metadata": {
        "id": "LBlKgFySkzSL"
      },
      "execution_count": 77,
      "outputs": []
    },
    {
      "cell_type": "code",
      "source": [
        "images = []\n",
        "\n",
        "for fileName in tqdm(os.listdir('dataset/')):\n",
        "  img = Image.open('dataset/' + fileName)\n",
        "  images.append(img.convert('RGB'))"
      ],
      "metadata": {
        "colab": {
          "base_uri": "https://localhost:8080/"
        },
        "id": "1XY9_ee9mk1u",
        "outputId": "2acfe52d-5860-4771-8c14-fac21ef5851d"
      },
      "execution_count": 88,
      "outputs": [
        {
          "output_type": "stream",
          "name": "stderr",
          "text": [
            "100%|██████████| 10000/10000 [00:02<00:00, 4619.33it/s]\n"
          ]
        }
      ]
    },
    {
      "cell_type": "code",
      "source": [
        "images = images[0:4881]"
      ],
      "metadata": {
        "id": "NUO6IhBTE-za"
      },
      "execution_count": 89,
      "outputs": []
    },
    {
      "cell_type": "code",
      "source": [
        "dataset_imagens_originais = []\n",
        "\n",
        "for img in images:\n",
        "  arr = np.asarray(img, dtype='int')\n",
        "\n",
        "  if len(arr.shape) == 3:\n",
        "    dataset_imagens_originais.append(arr)\n",
        "\n",
        "dataset_imagens_originais = np.array(dataset_imagens_originais)"
      ],
      "metadata": {
        "id": "wTCnH-Spk3l6"
      },
      "execution_count": 90,
      "outputs": []
    },
    {
      "cell_type": "code",
      "source": [
        "images_stegano = []\n",
        "\n",
        "listaFileName = os.listdir('dataset_esteganografia/')\n",
        "listaFileName.sort()\n",
        "\n",
        "for fileName in tqdm(listaFileName):\n",
        "  img = Image.open('dataset_esteganografia/' + fileName)\n",
        "  images_stegano.append(img)"
      ],
      "metadata": {
        "colab": {
          "base_uri": "https://localhost:8080/"
        },
        "id": "02H8dXO5mOWd",
        "outputId": "2d82f6ba-6f08-44b4-bc24-9e5e27859b46"
      },
      "execution_count": 91,
      "outputs": [
        {
          "output_type": "stream",
          "name": "stderr",
          "text": [
            "100%|██████████| 4881/4881 [00:00<00:00, 11290.08it/s]\n"
          ]
        }
      ]
    },
    {
      "cell_type": "code",
      "source": [
        "dataset_imagens_esteganografia = []\n",
        "\n",
        "for img in images_stegano:\n",
        "  arr = np.asarray(img, dtype='int')\n",
        "\n",
        "  if len(arr.shape) == 3:\n",
        "    dataset_imagens_esteganografia.append(arr)\n",
        "\n",
        "dataset_imagens_esteganografia = np.array(dataset_imagens_esteganografia)"
      ],
      "metadata": {
        "id": "0T2K63HHl3YP"
      },
      "execution_count": 92,
      "outputs": []
    },
    {
      "cell_type": "code",
      "source": [
        "diff = np.abs(dataset_imagens_originais - dataset_imagens_esteganografia)"
      ],
      "metadata": {
        "id": "ocTJWvICmdZS"
      },
      "execution_count": 93,
      "outputs": []
    },
    {
      "cell_type": "code",
      "source": [
        "n = 5\n",
        "plt.figure(figsize=(15, 6))\n",
        "for i in range(n):\n",
        "  ax = plt.subplot(3, n, i + 1)\n",
        "  plt.imshow(dataset_imagens_originais[i])\n",
        "  plt.title(\"original\")\n",
        "  plt.gray()\n",
        "  ax.get_xaxis().set_visible(False)\n",
        "  ax.get_yaxis().set_visible(False)\n",
        "\n",
        "  ax = plt.subplot(3, n, i + 1 + n)\n",
        "  plt.imshow(dataset_imagens_esteganografia[i])\n",
        "  plt.title(\"Codificada\")\n",
        "  plt.gray()\n",
        "  ax.get_xaxis().set_visible(False)\n",
        "  ax.get_yaxis().set_visible(False)\n",
        "    \n",
        "  ax = plt.subplot(3, n, i + 1 + n + n)\n",
        "  plt.imshow(diff[i] * 10)\n",
        "  plt.title(\"Diferença\")\n",
        "  plt.gray()\n",
        "  ax.get_xaxis().set_visible(False)\n",
        "  ax.get_yaxis().set_visible(False)\n",
        "\n",
        "plt.savefig('dieferença_imagens.png')\n",
        "plt.show()"
      ],
      "metadata": {
        "colab": {
          "base_uri": "https://localhost:8080/",
          "height": 466
        },
        "id": "-gpmvf8emfcC",
        "outputId": "b0a608f3-cde7-4a78-8462-cbf8afc307fa"
      },
      "execution_count": 94,
      "outputs": [
        {
          "output_type": "stream",
          "name": "stderr",
          "text": [
            "Clipping input data to the valid range for imshow with RGB data ([0..1] for floats or [0..255] for integers).\n",
            "Clipping input data to the valid range for imshow with RGB data ([0..1] for floats or [0..255] for integers).\n",
            "Clipping input data to the valid range for imshow with RGB data ([0..1] for floats or [0..255] for integers).\n",
            "Clipping input data to the valid range for imshow with RGB data ([0..1] for floats or [0..255] for integers).\n",
            "Clipping input data to the valid range for imshow with RGB data ([0..1] for floats or [0..255] for integers).\n"
          ]
        },
        {
          "output_type": "display_data",
          "data": {
            "text/plain": [
              "<Figure size 1080x432 with 15 Axes>"
            ],
            "image/png": "[encoded data removed]"
          },
          "metadata": {
            "needs_background": "light"
          }
        }
      ]
    },
    {
      "cell_type": "code",
      "source": [
        "mseMedio = 0\n",
        "psnrMedio = 0\n",
        "ssimMedio = 0\n",
        "\n",
        "mseVet = []\n",
        "psnrVet = []\n",
        "ssimVet = []\n",
        "\n",
        "imagensComErroDeCodificacao = []\n",
        "\n",
        "for i in range(dataset_imagens_originais.shape[0]):\n",
        "  mse = mean_squared_error(dataset_imagens_originais[i], dataset_imagens_esteganografia[i])\n",
        "  mseMedio += mse\n",
        "\n",
        "  if mse >= 200:\n",
        "    imagensComErroDeCodificacao.append(mse)\n",
        "    continue\n",
        "\n",
        "  mseVet.append(mse)\n",
        "\n",
        "  psnr = peak_signal_to_noise_ratio(mse)\n",
        "  psnrMedio += psnr\n",
        "  psnrVet.append(psnr)\n",
        "\n",
        "  ssim = structural_similarity(dataset_imagens_originais[i], dataset_imagens_esteganografia[i], multichannel=True)\n",
        "  ssimMedio += ssim\n",
        "  ssimVet.append(ssim)\n",
        "\n",
        "mseMedio /= dataset_imagens_originais.shape[0]\n",
        "psnrMedio /= dataset_imagens_originais.shape[0]\n",
        "ssimMedio /= dataset_imagens_originais.shape[0]\n",
        "\n",
        "print('Quantidade de imagens com erro de codificação: ', str(len(imagensComErroDeCodificacao)))\n",
        "\n",
        "print()\n",
        "\n",
        "print('MSE Médio:', mseMedio)\n",
        "print('PSNR Médio:', psnrMedio)\n",
        "print('SSIM Médio:', ssimMedio)"
      ],
      "metadata": {
        "colab": {
          "base_uri": "https://localhost:8080/"
        },
        "id": "IXulAebam9r5",
        "outputId": "bee63ba8-b588-4da4-a60e-0ca950010d6c"
      },
      "execution_count": 95,
      "outputs": [
        {
          "output_type": "stream",
          "name": "stdout",
          "text": [
            "Quantidade de imagens com erro de codificação:  5\n",
            "\n",
            "MSE Médio: 54.96670083935159\n",
            "PSNR Médio: 31.533464182433757\n",
            "SSIM Médio: 0.9989756197500512\n"
          ]
        }
      ]
    },
    {
      "cell_type": "code",
      "source": [
        "loss_fn_alex = lpips.LPIPS(net='alex') # best forward scores\n",
        "loss_fn_vgg = lpips.LPIPS(net='vgg') # closer to \"traditional\" perceptual loss, when used for optimization"
      ],
      "metadata": {
        "colab": {
          "base_uri": "https://localhost:8080/",
          "height": 208,
          "referenced_widgets": [
            "89deabf16b7c439b8957aa6cbe0a461a",
            "58d414bae807485291e967bef3e9973a",
            "8454736216c840f68fe5bb687043b60c",
            "c119acd707e04796b557cc1f78fe9034",
            "c828e3908f7645c39a93b44dd4c5c724",
            "43037a6b154540d48005a74bb4ec7e87",
            "1b76ffa1785b46cf9eddabbcaff7d93f",
            "fcf3115f2d344f0aa320d6ae899d6058",
            "b141162fa1ba444d954a0cae9dd1d165",
            "90d93eee32144044a82b93fc5d511a8d",
            "998106a69d774164b6303283c357b92c",
            "2f0c2e4d6f3a47bba823cc9d7f7699fa",
            "f1861ef8e1dd40a49a671ee102b27326",
            "4144bd0599f74b5b93f1851232dd9939",
            "6a8f1dfcde1f47258376ec43a46b0b93",
            "ca3486ba1d9841dba1a96c40ec4af027",
            "f729443ac3804f3495420f4fe26d99f8",
            "4a500f7354f24bca909dfed093183273",
            "812a79d3bf204fd4a4850fda8f9dbf8c",
            "c91dac66c0424bc182874853a3ba59e5",
            "d8dcac46615847519602460032018f57",
            "e8275d305435423687d2699c16fdc1cd"
          ]
        },
        "id": "pPa_qPPpnj01",
        "outputId": "e1baee3e-a9a0-42e6-ee6a-80b86c4ee619"
      },
      "execution_count": 96,
      "outputs": [
        {
          "output_type": "stream",
          "name": "stdout",
          "text": [
            "Setting up [LPIPS] perceptual loss: trunk [alex], v[0.1], spatial [off]\n"
          ]
        },
        {
          "output_type": "stream",
          "name": "stderr",
          "text": [
            "Downloading: \"https://download.pytorch.org/models/alexnet-owt-7be5be79.pth\" to /root/.cache/torch/hub/checkpoints/alexnet-owt-7be5be79.pth\n"
          ]
        },
        {
          "output_type": "display_data",
          "data": {
            "text/plain": [
              "  0%|          | 0.00/233M [00:00<?, ?B/s]"
            ],
            "application/vnd.jupyter.widget-view+json": {
              "version_major": 2,
              "version_minor": 0,
              "model_id": "89deabf16b7c439b8957aa6cbe0a461a"
            }
          },
          "metadata": {}
        },
        {
          "output_type": "stream",
          "name": "stdout",
          "text": [
            "Loading model from: /usr/local/lib/python3.7/dist-packages/lpips/weights/v0.1/alex.pth\n",
            "Setting up [LPIPS] perceptual loss: trunk [vgg], v[0.1], spatial [off]\n"
          ]
        },
        {
          "output_type": "stream",
          "name": "stderr",
          "text": [
            "Downloading: \"https://download.pytorch.org/models/vgg16-397923af.pth\" to /root/.cache/torch/hub/checkpoints/vgg16-397923af.pth\n"
          ]
        },
        {
          "output_type": "display_data",
          "data": {
            "text/plain": [
              "  0%|          | 0.00/528M [00:00<?, ?B/s]"
            ],
            "application/vnd.jupyter.widget-view+json": {
              "version_major": 2,
              "version_minor": 0,
              "model_id": "2f0c2e4d6f3a47bba823cc9d7f7699fa"
            }
          },
          "metadata": {}
        },
        {
          "output_type": "stream",
          "name": "stdout",
          "text": [
            "Loading model from: /usr/local/lib/python3.7/dist-packages/lpips/weights/v0.1/vgg.pth\n"
          ]
        }
      ]
    },
    {
      "cell_type": "code",
      "source": [
        "dataset_imagens_originais = (dataset_imagens_originais - 127.5) / 127.5\n",
        "dataset_imagens_esteganografia = (dataset_imagens_esteganografia - 127.5) / 127.5"
      ],
      "metadata": {
        "id": "ozxaW5BonpHK"
      },
      "execution_count": 97,
      "outputs": []
    },
    {
      "cell_type": "code",
      "source": [
        "dataset_imagens_originais_t = []\n",
        "dataset_imagens_esteganografia_t = []\n",
        "\n",
        "for idx, i in enumerate(dataset_imagens_originais):\n",
        "  \n",
        "  if idx in imagensComErroDeCodificacao:\n",
        "    continue\n",
        "\n",
        "  dataset_imagens_originais_t.append(i.T)\n",
        "\n",
        "for idx, i in enumerate(dataset_imagens_esteganografia):\n",
        "\n",
        "  if idx in imagensComErroDeCodificacao:\n",
        "    continue\n",
        "\n",
        "  dataset_imagens_esteganografia_t.append(i.T)\n",
        "\n",
        "dataset_imagens_originais_t = np.array(dataset_imagens_originais_t)\n",
        "dataset_imagens_esteganografia_t = np.array(dataset_imagens_esteganografia_t)"
      ],
      "metadata": {
        "id": "CYS4xUa0oNbh"
      },
      "execution_count": 98,
      "outputs": []
    },
    {
      "cell_type": "code",
      "source": [
        "alex = []\n",
        "leng = len(dataset_imagens_originais_t)\n",
        "\n",
        "for i in range(0, leng, 500):\n",
        "  alex.append(loss_fn_alex(torch.from_numpy(dataset_imagens_originais_t[i:min(i+500, leng)]).float(), torch.from_numpy(dataset_imagens_esteganografia_t[i:min(i+500, leng)]).float()))"
      ],
      "metadata": {
        "id": "btxVYjuXoPvZ"
      },
      "execution_count": 99,
      "outputs": []
    },
    {
      "cell_type": "code",
      "source": [
        "vgg = []\n",
        "leng = len(dataset_imagens_originais_t)\n",
        "\n",
        "for i in range(0, leng, 500):\n",
        "  vgg.append(loss_fn_vgg(torch.from_numpy(dataset_imagens_originais_t[i:min(i+500, leng)]).float(), torch.from_numpy(dataset_imagens_esteganografia_t[i:min(i+500, leng)]).float()))"
      ],
      "metadata": {
        "id": "l28a8dqVoR2u"
      },
      "execution_count": 100,
      "outputs": []
    },
    {
      "cell_type": "code",
      "source": [
        "alexNp = []\n",
        "vggNp = []\n",
        "\n",
        "for i in alex:\n",
        "  alexNp.append(i.cpu().detach().numpy())\n",
        "\n",
        "for i in vgg:\n",
        "  vggNp.append(i.cpu().detach().numpy())"
      ],
      "metadata": {
        "id": "L5EZNmqKod_C"
      },
      "execution_count": 101,
      "outputs": []
    },
    {
      "cell_type": "code",
      "source": [
        "alexVet = []\n",
        "vggVet = []\n",
        "\n",
        "for i in range(len(alexNp)):\n",
        "  for j in range(alexNp[i].shape[0]):\n",
        "    alexVet.append(alexNp[i][j][0][0][0])\n",
        "    vggVet.append(vggNp[i][j][0][0][0])\n",
        "\n",
        "alexVet = np.array(alexVet)\n",
        "vggVet = np.array(vggVet)"
      ],
      "metadata": {
        "id": "GprSOA6zogDC"
      },
      "execution_count": 102,
      "outputs": []
    },
    {
      "cell_type": "code",
      "source": [
        "print('Alex Médio:', alexVet.mean())\n",
        "print('VGG Médio:', vggVet.mean())"
      ],
      "metadata": {
        "colab": {
          "base_uri": "https://localhost:8080/"
        },
        "id": "_LEChir_oiCj",
        "outputId": "860530ac-fc68-4da7-e0cc-bce5dbe54e68"
      },
      "execution_count": 103,
      "outputs": [
        {
          "output_type": "stream",
          "name": "stdout",
          "text": [
            "Alex Médio: 0.0030407752\n",
            "VGG Médio: 0.02677951\n"
          ]
        }
      ]
    },
    {
      "cell_type": "code",
      "source": [
        "legend = []\n",
        "\n",
        "plt.plot(mseVet)\n",
        "legend.append('MSE')\n",
        "plt.plot(psnrVet)\n",
        "legend.append('PSNR')\n",
        "plt.title('Medida de semelhança por imagem')\n",
        "plt.ylabel('Medida de semelhança')\n",
        "plt.xlabel('Imagem')\n",
        "plt.legend(legend, loc='upper left')\n",
        "plt.savefig('medida_de_semelhança_por_imagem_1.png')\n",
        "plt.show()"
      ],
      "metadata": {
        "colab": {
          "base_uri": "https://localhost:8080/",
          "height": 295
        },
        "id": "gWnctN_2oj4k",
        "outputId": "3fe0c20e-874c-4fce-988e-20f5247baec0"
      },
      "execution_count": 104,
      "outputs": [
        {
          "output_type": "display_data",
          "data": {
            "text/plain": [
              "<Figure size 432x288 with 1 Axes>"
            ],
            "image/png": "[encoded data removed]"
          },
          "metadata": {
            "needs_background": "light"
          }
        }
      ]
    },
    {
      "cell_type": "code",
      "source": [
        "legend = []\n",
        "\n",
        "plt.plot(ssimVet)\n",
        "legend.append('SSIM')\n",
        "plt.plot(alexVet)\n",
        "legend.append('ALEX')\n",
        "plt.plot(vggVet)\n",
        "legend.append('VGG')\n",
        "plt.title('Medida de semelhança por imagem')\n",
        "plt.ylabel('Medida de semelhança')\n",
        "plt.xlabel('Imagem')\n",
        "plt.legend(legend, loc='upper left')\n",
        "plt.savefig('medida_de_semelhança_por_imagem_2.png')\n",
        "plt.show()"
      ],
      "metadata": {
        "colab": {
          "base_uri": "https://localhost:8080/",
          "height": 295
        },
        "id": "ENdFrHfLomV3",
        "outputId": "03aa361b-c511-43d5-9661-9265ba5c1ba7"
      },
      "execution_count": 105,
      "outputs": [
        {
          "output_type": "display_data",
          "data": {
            "text/plain": [
              "<Figure size 432x288 with 1 Axes>"
            ],
            "image/png": "[encoded data removed]"
          },
          "metadata": {
            "needs_background": "light"
          }
        }
      ]
    },
    {
      "cell_type": "code",
      "source": [
        ""
      ],
      "metadata": {
        "id": "i4xGFs9EGqNt"
      },
      "execution_count": 105,
      "outputs": []
    }
  ]
}
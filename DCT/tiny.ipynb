{
  "cells": [
    {
      "cell_type": "code",
      "execution_count": null,
      "metadata": {
        "colab": {
          "base_uri": "https://localhost:8080/"
        },
        "id": "o2kGEYKDnFAN",
        "outputId": "ded908e8-8633-479b-f06e-3d5b4b74f810"
      },
      "outputs": [
        {
          "name": "stdout",
          "output_type": "stream",
          "text": [
            "Looking in indexes: https://pypi.org/simple, https://us-python.pkg.dev/colab-wheels/public/simple/\n",
            "Collecting bitarray\n",
            "  Downloading bitarray-2.5.1-cp37-cp37m-manylinux_2_17_x86_64.manylinux2014_x86_64.whl (236 kB)\n",
            "\u001b[K     |████████████████████████████████| 236 kB 4.3 MB/s \n",
            "\u001b[?25hInstalling collected packages: bitarray\n",
            "Successfully installed bitarray-2.5.1\n"
          ]
        }
      ],
      "source": [
        "!pip3 install bitarray"
      ]
    },
    {
      "cell_type": "code",
      "execution_count": null,
      "metadata": {
        "colab": {
          "base_uri": "https://localhost:8080/"
        },
        "id": "mOFnESOeoCGU",
        "outputId": "442cd1b8-1180-4e88-920b-e76c8aa43794"
      },
      "outputs": [
        {
          "name": "stdout",
          "output_type": "stream",
          "text": [
            "Looking in indexes: https://pypi.org/simple, https://us-python.pkg.dev/colab-wheels/public/simple/\n",
            "Collecting lpips\n",
            "  Downloading lpips-0.1.4-py3-none-any.whl (53 kB)\n",
            "\u001b[K     |████████████████████████████████| 53 kB 1.6 MB/s \n",
            "\u001b[?25hRequirement already satisfied: torchvision>=0.2.1 in /usr/local/lib/python3.7/dist-packages (from lpips) (0.12.0+cu113)\n",
            "Requirement already satisfied: scipy>=1.0.1 in /usr/local/lib/python3.7/dist-packages (from lpips) (1.4.1)\n",
            "Requirement already satisfied: tqdm>=4.28.1 in /usr/local/lib/python3.7/dist-packages (from lpips) (4.64.0)\n",
            "Requirement already satisfied: torch>=0.4.0 in /usr/local/lib/python3.7/dist-packages (from lpips) (1.11.0+cu113)\n",
            "Requirement already satisfied: numpy>=1.14.3 in /usr/local/lib/python3.7/dist-packages (from lpips) (1.21.6)\n",
            "Requirement already satisfied: typing-extensions in /usr/local/lib/python3.7/dist-packages (from torch>=0.4.0->lpips) (4.2.0)\n",
            "Requirement already satisfied: requests in /usr/local/lib/python3.7/dist-packages (from torchvision>=0.2.1->lpips) (2.23.0)\n",
            "Requirement already satisfied: pillow!=8.3.*,>=5.3.0 in /usr/local/lib/python3.7/dist-packages (from torchvision>=0.2.1->lpips) (7.1.2)\n",
            "Requirement already satisfied: certifi>=2017.4.17 in /usr/local/lib/python3.7/dist-packages (from requests->torchvision>=0.2.1->lpips) (2022.5.18.1)\n",
            "Requirement already satisfied: chardet<4,>=3.0.2 in /usr/local/lib/python3.7/dist-packages (from requests->torchvision>=0.2.1->lpips) (3.0.4)\n",
            "Requirement already satisfied: idna<3,>=2.5 in /usr/local/lib/python3.7/dist-packages (from requests->torchvision>=0.2.1->lpips) (2.10)\n",
            "Requirement already satisfied: urllib3!=1.25.0,!=1.25.1,<1.26,>=1.21.1 in /usr/local/lib/python3.7/dist-packages (from requests->torchvision>=0.2.1->lpips) (1.24.3)\n",
            "Installing collected packages: lpips\n",
            "Successfully installed lpips-0.1.4\n"
          ]
        }
      ],
      "source": [
        "!pip install lpips"
      ]
    },
    {
      "cell_type": "code",
      "execution_count": null,
      "metadata": {
        "id": "tRLv7VDPTHBl"
      },
      "outputs": [],
      "source": [
        "from struct import unpack\n",
        "from tkinter import *\n",
        "from bitarray import bitarray\n",
        "from bitarray.util import int2ba\n",
        "from PIL import Image\n",
        "from scipy.fftpack import dct\n",
        "from tqdm import tqdm\n",
        "from skimage.metrics import structural_similarity\n",
        "import matplotlib.pyplot as plt\n",
        "import numpy as np\n",
        "import math\n",
        "import time\n",
        "import string\n",
        "import random\n",
        "import lpips\n",
        "import torch\n",
        "import os"
      ]
    },
    {
      "cell_type": "code",
      "execution_count": null,
      "metadata": {
        "id": "oB7B5RQsTXTx"
      },
      "outputs": [],
      "source": [
        "start_time = time.time()"
      ]
    },
    {
      "cell_type": "code",
      "execution_count": null,
      "metadata": {
        "id": "Yng4_rAKlQVt"
      },
      "outputs": [],
      "source": [
        "os.environ['PYTHONHASHSEED']=str(456)\n",
        "np.random.seed(456)\n",
        "random.seed(456)"
      ]
    },
    {
      "cell_type": "code",
      "execution_count": null,
      "metadata": {
        "colab": {
          "base_uri": "https://localhost:8080/"
        },
        "id": "NBdQcTvQX62M",
        "outputId": "ee983791-6740-4e4c-c165-dd297a181f39"
      },
      "outputs": [
        {
          "name": "stderr",
          "output_type": "stream",
          "text": [
            "100%|██████████| 10000/10000 [00:00<00:00, 10408.91it/s]\n"
          ]
        }
      ],
      "source": [
        "images = []\n",
        "\n",
        "for fileName in tqdm(os.listdir('dataset/')):\n",
        "  img = Image.open('dataset/' + fileName)\n",
        "  images.append(img)"
      ]
    },
    {
      "cell_type": "code",
      "execution_count": null,
      "metadata": {
        "id": "uUREnmmXj0Po"
      },
      "outputs": [],
      "source": [
        "images = images[:4881]"
      ]
    },
    {
      "cell_type": "code",
      "execution_count": null,
      "metadata": {
        "colab": {
          "base_uri": "https://localhost:8080/"
        },
        "id": "pD5554oINODi",
        "outputId": "036f3137-6025-4ecf-bd21-9992960f1ace"
      },
      "outputs": [
        {
          "data": {
            "text/plain": [
              "4881"
            ]
          },
          "execution_count": 8,
          "metadata": {},
          "output_type": "execute_result"
        }
      ],
      "source": [
        "len(images)"
      ]
    },
    {
      "cell_type": "code",
      "execution_count": null,
      "metadata": {
        "colab": {
          "base_uri": "https://localhost:8080/"
        },
        "id": "2Tu1tw6sX_oN",
        "outputId": "d0fe4d30-7d46-4d8c-dcf1-e49a9c99f3ea"
      },
      "outputs": [
        {
          "name": "stderr",
          "output_type": "stream",
          "text": [
            "100%|██████████| 4881/4881 [00:00<00:00, 6371.52it/s]\n"
          ]
        }
      ],
      "source": [
        "imagesYCbCr = []\n",
        "\n",
        "for img in tqdm(images):\n",
        "  imgYCbCr = img.convert('YCbCr')\n",
        "  imagesYCbCr.append(imgYCbCr)"
      ]
    },
    {
      "cell_type": "code",
      "execution_count": null,
      "metadata": {
        "colab": {
          "base_uri": "https://localhost:8080/"
        },
        "id": "620wYzKYYCXa",
        "outputId": "187043b6-d046-4d04-9519-075e858d93c6"
      },
      "outputs": [
        {
          "name": "stderr",
          "output_type": "stream",
          "text": [
            "100%|██████████| 4881/4881 [00:00<00:00, 20901.98it/s]\n"
          ]
        }
      ],
      "source": [
        "imagesArray = []\n",
        "\n",
        "for imgYCbCr in tqdm(imagesYCbCr):\n",
        "  imgArray = np.asarray(imgYCbCr, dtype='int32')\n",
        "\n",
        "  if imgArray.shape[2] != 3:\n",
        "    continue\n",
        "\n",
        "  imagesArray.append(imgArray)"
      ]
    },
    {
      "cell_type": "code",
      "execution_count": null,
      "metadata": {
        "colab": {
          "base_uri": "https://localhost:8080/"
        },
        "id": "fsPVbs83YEhg",
        "outputId": "561bb68d-cda9-42b0-b68d-1cf82f341de1"
      },
      "outputs": [
        {
          "name": "stderr",
          "output_type": "stream",
          "text": [
            "100%|██████████| 4881/4881 [00:00<00:00, 10510.61it/s]\n"
          ]
        }
      ],
      "source": [
        "imagesArrayPad = []\n",
        "\n",
        "for imgArray in tqdm(imagesArray):\n",
        "  dimX = imgArray.shape[0]\n",
        "  dimY = imgArray.shape[1]\n",
        "  nCanais = imgArray.shape[2]\n",
        "\n",
        "  padX = (8 - (dimX % 8)) % 8\n",
        "  padY = (8 - (dimY % 8)) % 8\n",
        "\n",
        "  imgArrayPad = np.pad(imgArray, ((0, padX), (0, padY), (0, 0)), 'edge')\n",
        "  imagesArrayPad.append(imgArrayPad)"
      ]
    },
    {
      "cell_type": "code",
      "execution_count": null,
      "metadata": {
        "colab": {
          "base_uri": "https://localhost:8080/"
        },
        "id": "t8yLgSEZ0yK_",
        "outputId": "91da637e-f3f6-4070-c027-c85c738746d6"
      },
      "outputs": [
        {
          "name": "stderr",
          "output_type": "stream",
          "text": [
            "100%|██████████| 4881/4881 [00:00<00:00, 800265.73it/s]\n"
          ]
        }
      ],
      "source": [
        "bytes_por_imagem = []\n",
        "espaco_bits_mensagem_secreta = []\n",
        "espaco_bytes_mensagem_secreta = []\n",
        "\n",
        "for imgArrayPad in tqdm(imagesArrayPad):\n",
        "  x1 = imgArrayPad.shape[0] * imgArrayPad.shape[1]\n",
        "  x2 = x1 // 64\n",
        "\n",
        "  bytes_por_imagem.append(x1)\n",
        "  espaco_bits_mensagem_secreta.append(x2)\n",
        "  espaco_bytes_mensagem_secreta.append(x2 // 8)"
      ]
    },
    {
      "cell_type": "code",
      "execution_count": null,
      "metadata": {
        "colab": {
          "base_uri": "https://localhost:8080/"
        },
        "id": "7op3AP9y00e3",
        "outputId": "46a9b81c-982a-4f88-a3c7-f25ff974fea4"
      },
      "outputs": [
        {
          "name": "stderr",
          "output_type": "stream",
          "text": [
            "100%|██████████| 4881/4881 [00:00<00:00, 103640.92it/s]\n"
          ]
        }
      ],
      "source": [
        "mensagens_secreta = []\n",
        "\n",
        "for tamanho in tqdm(espaco_bytes_mensagem_secreta):\n",
        "  mensagem = ''.join(random.choice(string.ascii_uppercase + string.ascii_lowercase + string.digits) for _ in range(tamanho))\n",
        "  mensagens_secreta.append(mensagem)"
      ]
    },
    {
      "cell_type": "code",
      "execution_count": null,
      "metadata": {
        "colab": {
          "base_uri": "https://localhost:8080/"
        },
        "id": "Xtx-mvvc00mc",
        "outputId": "bedefca4-ab64-4345-8348-9ca21d0d55eb"
      },
      "outputs": [
        {
          "name": "stderr",
          "output_type": "stream",
          "text": [
            "100%|██████████| 4881/4881 [00:00<00:00, 36877.17it/s]\n"
          ]
        }
      ],
      "source": [
        "lista_bitarray_mensagem = []\n",
        "\n",
        "for mensagem in tqdm(mensagens_secreta):\n",
        "  bitarray_mensagem = bitarray()\n",
        "  \n",
        "  for caracter in mensagem:\n",
        "    bitarray_mensagem += int2ba(ord(caracter), length=8)\n",
        "\n",
        "  lista_bitarray_mensagem.append(bitarray_mensagem)"
      ]
    },
    {
      "cell_type": "code",
      "execution_count": null,
      "metadata": {
        "colab": {
          "base_uri": "https://localhost:8080/"
        },
        "id": "aIowbrLuYL0V",
        "outputId": "22f64bae-75eb-4658-b459-d9fafaa1ed50"
      },
      "outputs": [
        {
          "name": "stderr",
          "output_type": "stream",
          "text": [
            "100%|██████████| 4881/4881 [00:00<00:00, 109800.42it/s]\n"
          ]
        }
      ],
      "source": [
        "for i in tqdm(range(len(imagesArrayPad))):\n",
        "  imagesArrayPad[i] -= 128"
      ]
    },
    {
      "cell_type": "code",
      "execution_count": null,
      "metadata": {
        "colab": {
          "base_uri": "https://localhost:8080/"
        },
        "id": "z-GKjzspYN9A",
        "outputId": "b1cd5b67-68a9-497e-a153-3c7bcc0d35be"
      },
      "outputs": [
        {
          "name": "stderr",
          "output_type": "stream",
          "text": [
            "100%|██████████| 4881/4881 [00:00<00:00, 1244522.66it/s]\n"
          ]
        }
      ],
      "source": [
        "comprimentoX = []\n",
        "comprimentoY = []\n",
        "\n",
        "for imgArrayPad in tqdm(imagesArrayPad):\n",
        "  comprimentoX.append(imgArrayPad.shape[0])\n",
        "  comprimentoY.append(imgArrayPad.shape[1])"
      ]
    },
    {
      "cell_type": "code",
      "execution_count": null,
      "metadata": {
        "colab": {
          "base_uri": "https://localhost:8080/"
        },
        "id": "OcteHr_VYQjB",
        "outputId": "04ac8a8a-4a1b-46f8-a579-b1e8e7cd4351"
      },
      "outputs": [
        {
          "name": "stderr",
          "output_type": "stream",
          "text": [
            "100%|██████████| 4881/4881 [00:00<00:00, 523858.70it/s]\n"
          ]
        }
      ],
      "source": [
        "listaMatY = []\n",
        "listaMatCb = []\n",
        "listaMatCr = []\n",
        "\n",
        "for imgArrayPad in tqdm(imagesArrayPad):\n",
        "  matY, matCb, matCr  = imgArrayPad[:,:,0], imgArrayPad[:,:,1], imgArrayPad[:,:,2]\n",
        "\n",
        "  listaMatY.append(matY)\n",
        "  listaMatCb.append(matCb)\n",
        "  listaMatCr.append(matCr)"
      ]
    },
    {
      "cell_type": "code",
      "execution_count": null,
      "metadata": {
        "colab": {
          "base_uri": "https://localhost:8080/"
        },
        "id": "uZWoH8KcYSyW",
        "outputId": "694e243f-8962-4eaa-d90c-cd8aa8ac445b"
      },
      "outputs": [
        {
          "name": "stderr",
          "output_type": "stream",
          "text": [
            "100%|██████████| 4881/4881 [00:01<00:00, 4165.31it/s]\n"
          ]
        }
      ],
      "source": [
        "listaBlocosY = []\n",
        "listaBlocosCb = []\n",
        "listaBlocosCr = []\n",
        "\n",
        "for z in tqdm(range(len(listaMatY))):\n",
        "  blocosY = []\n",
        "  blocosCb = []\n",
        "  blocosCr = []\n",
        "\n",
        "  for i in range(0, comprimentoX[z], 8):\n",
        "      for j in range(0, comprimentoY[z], 8):\n",
        "          blocosY.append(listaMatY[z][i:i+8, j:j+8])\n",
        "          blocosCb.append(listaMatCb[z][i:i+8, j:j+8])\n",
        "          blocosCr.append(listaMatCr[z][i:i+8, j:j+8])\n",
        "          \n",
        "  blocosY = np.array(blocosY)\n",
        "  blocosCb = np.array(blocosCb)\n",
        "  blocosCr = np.array(blocosCr)\n",
        "\n",
        "  listaBlocosY.append(blocosY)\n",
        "  listaBlocosCb.append(blocosCb)\n",
        "  listaBlocosCr.append(blocosCr)"
      ]
    },
    {
      "cell_type": "code",
      "execution_count": null,
      "metadata": {
        "id": "HW0tQYNIYU7W"
      },
      "outputs": [],
      "source": [
        "def dct2(x):\n",
        "    m0 = 2.0 * math.cos(1.0 / 16.0 * 2.0 * math.pi)\n",
        "    m1 = 2.0 * math.cos(2.0 / 16.0 * 2.0 * math.pi)\n",
        "    m3 = 2.0 * math.cos(2.0 / 16.0 * 2.0 * math.pi)\n",
        "    m5 = 2.0 * math.cos(3.0 / 16.0 * 2.0 * math.pi)\n",
        "    m2 = m0 - m5\n",
        "    m4 = m0 + m5\n",
        "    \n",
        "    s0 = math.cos(0.0 / 16.0 * math.pi) / math.sqrt(8)\n",
        "    s1 = math.cos(1.0 / 16.0 * math.pi) / 2.0\n",
        "    s2 = math.cos(2.0 / 16.0 * math.pi) / 2.0\n",
        "    s3 = math.cos(3.0 / 16.0 * math.pi) / 2.0\n",
        "    s4 = math.cos(4.0 / 16.0 * math.pi) / 2.0\n",
        "    s5 = math.cos(5.0 / 16.0 * math.pi) / 2.0\n",
        "    s6 = math.cos(6.0 / 16.0 * math.pi) / 2.0\n",
        "    s7 = math.cos(7.0 / 16.0 * math.pi) / 2.0\n",
        "    \n",
        "    for i in range(8):\n",
        "        a0 = x[0][i]\n",
        "        a1 = x[1][i]\n",
        "        a2 = x[2][i]\n",
        "        a3 = x[3][i]\n",
        "        a4 = x[4][i]\n",
        "        a5 = x[5][i]\n",
        "        a6 = x[6][i]\n",
        "        a7 = x[7][i]\n",
        "\n",
        "        b0 = a0 + a7\n",
        "        b1 = a1 + a6\n",
        "        b2 = a2 + a5\n",
        "        b3 = a3 + a4\n",
        "        b4 = a3 - a4\n",
        "        b5 = a2 - a5\n",
        "        b6 = a1 - a6\n",
        "        b7 = a0 - a7\n",
        "\n",
        "        c0 = b0 + b3\n",
        "        c1 = b1 + b2\n",
        "        c2 = b1 - b2\n",
        "        c3 = b0 - b3\n",
        "        c4 = b4\n",
        "        c5 = b5 - b4\n",
        "        c6 = b6 - c5\n",
        "        c7 = b7 - b6\n",
        "\n",
        "        d0 = c0 + c1\n",
        "        d1 = c0 - c1\n",
        "        d2 = c2\n",
        "        d3 = c3 - c2\n",
        "        d4 = c4\n",
        "        d5 = c5\n",
        "        d6 = c6\n",
        "        d7 = c5 + c7\n",
        "        d8 = c4 - c6\n",
        "\n",
        "        e0 = d0\n",
        "        e1 = d1\n",
        "        e2 = d2 * m1\n",
        "        e3 = d3\n",
        "        e4 = d4 * m2\n",
        "        e5 = d5 * m3\n",
        "        e6 = d6 * m4\n",
        "        e7 = d7\n",
        "        e8 = d8 * m5\n",
        "\n",
        "        f0 = e0\n",
        "        f1 = e1\n",
        "        f2 = e2 + e3\n",
        "        f3 = e3 - e2\n",
        "        f4 = e4 + e8\n",
        "        f5 = e5 + e7\n",
        "        f6 = e6 + e8\n",
        "        f7 = e7 - e5\n",
        "\n",
        "        g0 = f0\n",
        "        g1 = f1\n",
        "        g2 = f2\n",
        "        g3 = f3\n",
        "        g4 = f4 + f7\n",
        "        g5 = f5 + f6\n",
        "        g6 = f5 - f6\n",
        "        g7 = f7 - f4\n",
        "\n",
        "        x[0][i] = g0 * s0\n",
        "        x[4][i] = g1 * s4\n",
        "        x[2][i] = g2 * s2\n",
        "        x[6][i] = g3 * s6\n",
        "        x[5][i] = g4 * s5\n",
        "        x[1][i] = g5 * s1\n",
        "        x[7][i] = g6 * s7\n",
        "        x[3][i] = g7 * s3\n",
        "        \n",
        "    for i in range(8):\n",
        "        a0 = x[i][0]\n",
        "        a1 = x[i][1]\n",
        "        a2 = x[i][2]\n",
        "        a3 = x[i][3]\n",
        "        a4 = x[i][4]\n",
        "        a5 = x[i][5]\n",
        "        a6 = x[i][6]\n",
        "        a7 = x[i][7]\n",
        "\n",
        "        b0 = a0 + a7\n",
        "        b1 = a1 + a6\n",
        "        b2 = a2 + a5\n",
        "        b3 = a3 + a4\n",
        "        b4 = a3 - a4\n",
        "        b5 = a2 - a5\n",
        "        b6 = a1 - a6\n",
        "        b7 = a0 - a7\n",
        "\n",
        "        c0 = b0 + b3\n",
        "        c1 = b1 + b2\n",
        "        c2 = b1 - b2\n",
        "        c3 = b0 - b3\n",
        "        c4 = b4\n",
        "        c5 = b5 - b4\n",
        "        c6 = b6 - c5\n",
        "        c7 = b7 - b6\n",
        "\n",
        "        d0 = c0 + c1\n",
        "        d1 = c0 - c1\n",
        "        d2 = c2\n",
        "        d3 = c3 - c2\n",
        "        d4 = c4\n",
        "        d5 = c5\n",
        "        d6 = c6\n",
        "        d7 = c5 + c7\n",
        "        d8 = c4 - c6\n",
        "\n",
        "        e0 = d0\n",
        "        e1 = d1\n",
        "        e2 = d2 * m1\n",
        "        e3 = d3\n",
        "        e4 = d4 * m2\n",
        "        e5 = d5 * m3\n",
        "        e6 = d6 * m4\n",
        "        e7 = d7\n",
        "        e8 = d8 * m5\n",
        "\n",
        "        f0 = e0\n",
        "        f1 = e1\n",
        "        f2 = e2 + e3\n",
        "        f3 = e3 - e2\n",
        "        f4 = e4 + e8\n",
        "        f5 = e5 + e7\n",
        "        f6 = e6 + e8\n",
        "        f7 = e7 - e5\n",
        "\n",
        "        g0 = f0\n",
        "        g1 = f1\n",
        "        g2 = f2\n",
        "        g3 = f3\n",
        "        g4 = f4 + f7\n",
        "        g5 = f5 + f6\n",
        "        g6 = f5 - f6\n",
        "        g7 = f7 - f4\n",
        "\n",
        "        x[i][0] = g0 * s0\n",
        "        x[i][4] = g1 * s4\n",
        "        x[i][2] = g2 * s2\n",
        "        x[i][6] = g3 * s6\n",
        "        x[i][5] = g4 * s5\n",
        "        x[i][1] = g5 * s1\n",
        "        x[i][7] = g6 * s7\n",
        "        x[i][3] = g7 * s3\n",
        "        \n",
        "    return x"
      ]
    },
    {
      "cell_type": "code",
      "execution_count": null,
      "metadata": {
        "colab": {
          "background_save": true,
          "base_uri": "https://localhost:8080/"
        },
        "id": "RPCnpP1BYXb-",
        "outputId": "0d502d4d-d746-46ea-ff15-acc0c02120fb"
      },
      "outputs": [
        {
          "name": "stderr",
          "output_type": "stream",
          "text": [
            "100%|██████████| 4881/4881 [06:39<00:00, 12.23it/s]\n"
          ]
        }
      ],
      "source": [
        "listaDctsY = []\n",
        "listaDctsCb = []\n",
        "listaDctsCr = []\n",
        "\n",
        "for z in tqdm(range(len(listaBlocosY))):\n",
        "  dctsY = []\n",
        "  dctsCb = []\n",
        "  dctsCr = []\n",
        "\n",
        "  for i in range(listaBlocosY[z].shape[0]):\n",
        "      dctsY.append(dct2(listaBlocosY[z][i]))\n",
        "      dctsCb.append(dct2(listaBlocosCb[z][i]))\n",
        "      dctsCr.append(dct2(listaBlocosCr[z][i]))\n",
        "      \n",
        "  dctsY = np.array(dctsY)\n",
        "  dctsCb = np.array(dctsCb)\n",
        "  dctsCr = np.array(dctsCr)\n",
        "\n",
        "  listaDctsY.append(dctsY)\n",
        "  listaDctsCb.append(dctsCb)\n",
        "  listaDctsCr.append(dctsCr)"
      ]
    },
    {
      "cell_type": "code",
      "execution_count": null,
      "metadata": {
        "colab": {
          "background_save": true
        },
        "id": "l2piQvbXYaIf"
      },
      "outputs": [],
      "source": [
        "fatorDeQualidade = 90\n",
        "\n",
        "s = 5000 / fatorDeQualidade\n",
        "\n",
        "if fatorDeQualidade >= 50:\n",
        "    s = 200 - (2 * fatorDeQualidade)"
      ]
    },
    {
      "cell_type": "code",
      "execution_count": null,
      "metadata": {
        "colab": {
          "background_save": true
        },
        "id": "JB0ru9dEYcQj"
      },
      "outputs": [],
      "source": [
        "matrizQuantizacaoPredefinidaLuminancia = np.array(\n",
        "    [\n",
        "        [16, 11, 10, 16, 24, 40, 51, 61],\n",
        "        [12, 12, 14, 19, 26, 58, 60, 55],\n",
        "        [14, 13, 16, 24, 40, 57, 69, 56],\n",
        "        [14, 17, 22, 29, 51, 87, 80, 62],\n",
        "        [18, 22, 37, 56, 68, 109, 103, 77],\n",
        "        [24, 35, 55, 64, 81, 104, 113, 92],\n",
        "        [49, 64, 78, 87, 103, 121, 120, 101],\n",
        "        [72, 92, 95, 98, 112, 100, 103, 99]\n",
        "    ]\n",
        ")\n",
        "\n",
        "matrizQuantizacaoPredefinidaCrominancia = np.array(\n",
        "    [\n",
        "        [17, 18, 24, 47, 99, 99, 99, 99],\n",
        "        [18, 21, 26, 66, 99, 99, 99, 99],\n",
        "        [24, 26, 56, 99, 99, 99, 99, 99],\n",
        "        [47, 66, 99, 99, 99, 99, 99, 99],\n",
        "        [99, 99, 99, 99, 99, 99, 99, 99],\n",
        "        [99, 99, 99, 99, 99, 99, 99, 99],\n",
        "        [99, 99, 99, 99, 99, 99, 99, 99],\n",
        "        [99, 99, 99, 99, 99, 99, 99, 99]\n",
        "    ]\n",
        ")"
      ]
    },
    {
      "cell_type": "code",
      "execution_count": null,
      "metadata": {
        "colab": {
          "background_save": true
        },
        "id": "IHcP94_jYdzN"
      },
      "outputs": [],
      "source": [
        "matrizQuantizacaoLuminancia = np.ones((8, 8))\n",
        "matrizQuantizacaoCrominancia = np.ones((8, 8))"
      ]
    },
    {
      "cell_type": "code",
      "execution_count": null,
      "metadata": {
        "colab": {
          "background_save": true
        },
        "id": "sdBr-YntYfsa"
      },
      "outputs": [],
      "source": [
        "for i in range(8):\n",
        "    for j in range(8):\n",
        "        matrizQuantizacaoLuminancia[i][j] = math.floor((s * matrizQuantizacaoPredefinidaLuminancia[i][j] + 50) / 100)\n",
        "        matrizQuantizacaoCrominancia[i][j] = math.floor((s * matrizQuantizacaoPredefinidaCrominancia[i][j] + 50) / 100)"
      ]
    },
    {
      "cell_type": "code",
      "execution_count": null,
      "metadata": {
        "colab": {
          "background_save": true
        },
        "id": "LJwOd9HKYhdG",
        "outputId": "d8d5236a-97b6-475b-ca58-04908b0846cc"
      },
      "outputs": [
        {
          "name": "stderr",
          "output_type": "stream",
          "text": [
            "100%|██████████| 4881/4881 [00:04<00:00, 1101.67it/s]\n"
          ]
        }
      ],
      "source": [
        "listaCoeficientesQuantizadosY = []\n",
        "listaCoeficientesQuantizadosCb = []\n",
        "listaCoeficientesQuantizadosCr = []\n",
        "\n",
        "for z in tqdm(range(len(listaDctsY))):\n",
        "  coeficientesQuatizadosY = []\n",
        "  coeficientesQuatizadosCb = []\n",
        "  coeficientesQuatizadosCr = []\n",
        "\n",
        "  for i in range(listaDctsY[z].shape[0]):\n",
        "      coeficientesQuatizadosY.append(listaDctsY[z][i] // matrizQuantizacaoLuminancia)\n",
        "      coeficientesQuatizadosCb.append(listaDctsCb[z][i] // matrizQuantizacaoCrominancia)\n",
        "      coeficientesQuatizadosCr.append(listaDctsCr[z][i] // matrizQuantizacaoCrominancia)\n",
        "      \n",
        "  coeficientesQuatizadosY = np.array(coeficientesQuatizadosY)\n",
        "  coeficientesQuatizadosCb = np.array(coeficientesQuatizadosCb)\n",
        "  coeficientesQuatizadosCr = np.array(coeficientesQuatizadosCr)\n",
        "\n",
        "  listaCoeficientesQuantizadosY.append(coeficientesQuatizadosY)\n",
        "  listaCoeficientesQuantizadosCb.append(coeficientesQuatizadosCb)\n",
        "  listaCoeficientesQuantizadosCr.append(coeficientesQuatizadosCr)"
      ]
    },
    {
      "cell_type": "code",
      "execution_count": null,
      "metadata": {
        "colab": {
          "background_save": true
        },
        "id": "8GIQ_ikrYjcI"
      },
      "outputs": [],
      "source": [
        "matrizZigzag = [\n",
        "            [0, 1, 5, 6, 14, 15, 27, 28],\n",
        "            [2, 4, 7, 13, 16, 26, 29, 42],\n",
        "            [3, 8, 12, 17, 25, 30, 41, 43],\n",
        "            [9, 11, 18, 24, 31, 40, 44, 53],\n",
        "            [10, 19, 23, 32, 39, 45, 52, 54],\n",
        "            [20, 22, 33, 38, 46, 51, 55, 60],\n",
        "            [21, 34, 37, 47, 50, 56, 59, 61],\n",
        "            [35, 36, 48, 49, 57, 58, 62, 63],\n",
        "        ]"
      ]
    },
    {
      "cell_type": "code",
      "execution_count": null,
      "metadata": {
        "colab": {
          "background_save": true
        },
        "id": "q5e5BVS0YlRG",
        "outputId": "66c802cc-2925-4f2d-9049-c7836051360c"
      },
      "outputs": [
        {
          "name": "stderr",
          "output_type": "stream",
          "text": [
            "100%|██████████| 4881/4881 [00:46<00:00, 105.26it/s]\n"
          ]
        }
      ],
      "source": [
        "listaArrayY = []\n",
        "listaArrayCb = []\n",
        "listaArrayCr = []\n",
        "\n",
        "for z in tqdm(range(len(listaCoeficientesQuantizadosY))):\n",
        "  arrayY = []\n",
        "  arrayCb = []\n",
        "  arrayCr = []\n",
        "\n",
        "  for k in range(listaCoeficientesQuantizadosY[z].shape[0]):\n",
        "      tY = np.zeros(64)\n",
        "      tCb = np.zeros(64)\n",
        "      tCr = np.zeros(64)\n",
        "      \n",
        "      for i in range(8):\n",
        "          for j in range(8):\n",
        "              tY[matrizZigzag[i][j]] = listaCoeficientesQuantizadosY[z][k][i][j]\n",
        "              tCb[matrizZigzag[i][j]] = listaCoeficientesQuantizadosCb[z][k][i][j]\n",
        "              tCr[matrizZigzag[i][j]] = listaCoeficientesQuantizadosCr[z][k][i][j]\n",
        "      \n",
        "      arrayY.append(tY)\n",
        "      arrayCb.append(tCb)\n",
        "      arrayCr.append(tCr)\n",
        "      \n",
        "  arrayY = np.array(arrayY)\n",
        "  arrayCb = np.array(arrayCb)\n",
        "  arrayCr = np.array(arrayCr)\n",
        "\n",
        "  listaArrayY.append(arrayY)\n",
        "  listaArrayCb.append(arrayCb)\n",
        "  listaArrayCr.append(arrayCr)"
      ]
    },
    {
      "cell_type": "code",
      "execution_count": null,
      "metadata": {
        "colab": {
          "background_save": true
        },
        "id": "WycdLGBTYm_w",
        "outputId": "ecb4f2d7-a184-4e26-9b8f-beb5986d76bc"
      },
      "outputs": [
        {
          "name": "stderr",
          "output_type": "stream",
          "text": [
            "100%|██████████| 4881/4881 [00:00<00:00, 5796.86it/s]\n"
          ]
        }
      ],
      "source": [
        "for z in tqdm(range(len(listaArrayY))):\n",
        "  for i in reversed(range(1, listaArrayY[z].shape[0])):\n",
        "      listaArrayY[z][i][0] -= listaArrayY[z][i-1][0]\n",
        "      listaArrayCb[z][i][0] -= listaArrayCb[z][i-1][0]\n",
        "      listaArrayCr[z][i][0] -= listaArrayCr[z][i-1][0]"
      ]
    },
    {
      "cell_type": "code",
      "execution_count": null,
      "metadata": {
        "colab": {
          "background_save": true
        },
        "id": "d1M34jonnfIZ"
      },
      "outputs": [],
      "source": [
        "def armazena_steganografia_no_byte(valor_byte, valor_stegano1):\n",
        "  valor_byte = int(valor_byte)\n",
        "\n",
        "  if valor_stegano1 == 1:\n",
        "    valor_byte |= 1\n",
        "  else:\n",
        "    valor_byte &= (~1)\n",
        "\n",
        "  return valor_byte"
      ]
    },
    {
      "cell_type": "code",
      "execution_count": null,
      "metadata": {
        "colab": {
          "background_save": true
        },
        "id": "VKCiAJhmt9s7",
        "outputId": "cc7c83d3-a4eb-4676-f33f-793ee3c2f7bd"
      },
      "outputs": [
        {
          "name": "stderr",
          "output_type": "stream",
          "text": [
            "100%|██████████| 4881/4881 [00:00<00:00, 10023.66it/s]\n"
          ]
        }
      ],
      "source": [
        "for z in tqdm(range(len(listaArrayY))):\n",
        "  contador_bit_esteganografia = 0\n",
        "\n",
        "  for i in range(listaArrayY[z].shape[0]):\n",
        "      if contador_bit_esteganografia < len(lista_bitarray_mensagem[z]):\n",
        "        listaArrayCb[z][i][1] = armazena_steganografia_no_byte(listaArrayCb[z][i][1], lista_bitarray_mensagem[z][contador_bit_esteganografia])\n",
        "\n",
        "      contador_bit_esteganografia += 1"
      ]
    },
    {
      "cell_type": "code",
      "execution_count": null,
      "metadata": {
        "colab": {
          "background_save": true
        },
        "id": "x1gSWvpeYowx"
      },
      "outputs": [],
      "source": [
        "huffmanDCLuminancia = {\n",
        "    \"tamanho\": [0, 1, 5, 1, 1, 1, 1, 1, 1, 0, 0, 0, 0, 0, 0, 0],\n",
        "    \"valores\": [0x00, 0x01, 0x02, 0x03, 0x04, 0x05, 0x06, 0x07, 0x08, 0x09, 0x0a, 0x0b]\n",
        "}"
      ]
    },
    {
      "cell_type": "code",
      "execution_count": null,
      "metadata": {
        "colab": {
          "background_save": true
        },
        "id": "drW1eGL0Yqrl"
      },
      "outputs": [],
      "source": [
        "huffmanDCCrominancia = {\n",
        "    \"tamanho\": [0, 3, 1, 1, 1, 1, 1, 1, 1, 1, 1, 0, 0, 0, 0, 0],\n",
        "    \"valores\": [0x00, 0x01, 0x02, 0x03, 0x04, 0x05, 0x06, 0x07, 0x08, 0x09, 0x0a, 0x0b]\n",
        "}"
      ]
    },
    {
      "cell_type": "code",
      "execution_count": null,
      "metadata": {
        "colab": {
          "background_save": true
        },
        "id": "MujN8xKaYsWa"
      },
      "outputs": [],
      "source": [
        "huffmanACLuminancia = {\n",
        "    \"tamanho\": [0, 2, 1, 3, 3, 2, 4, 3, 5, 5, 4, 4, 0, 0, 1, 125],\n",
        "    \"valores\": [0x01, 0x02, 0x03, 0x00, 0x04, 0x11, 0x05, 0x12,\n",
        "        0x21, 0x31, 0x41, 0x06, 0x13, 0x51, 0x61, 0x07,\n",
        "        0x22, 0x71, 0x14, 0x32, 0x81, 0x91, 0xa1, 0x08,\n",
        "        0x23, 0x42, 0xb1, 0xc1, 0x15, 0x52, 0xd1, 0xf0,\n",
        "        0x24, 0x33, 0x62, 0x72, 0x82, 0x09, 0x0a, 0x16,\n",
        "        0x17, 0x18, 0x19, 0x1a, 0x25, 0x26, 0x27, 0x28,\n",
        "        0x29, 0x2a, 0x34, 0x35, 0x36, 0x37, 0x38, 0x39,\n",
        "        0x3a, 0x43, 0x44, 0x45, 0x46, 0x47, 0x48, 0x49,\n",
        "        0x4a, 0x53, 0x54, 0x55, 0x56, 0x57, 0x58, 0x59,\n",
        "        0x5a, 0x63, 0x64, 0x65, 0x66, 0x67, 0x68, 0x69,\n",
        "        0x6a, 0x73, 0x74, 0x75, 0x76, 0x77, 0x78, 0x79,\n",
        "        0x7a, 0x83, 0x84, 0x85, 0x86, 0x87, 0x88, 0x89,\n",
        "        0x8a, 0x92, 0x93, 0x94, 0x95, 0x96, 0x97, 0x98,\n",
        "        0x99, 0x9a, 0xa2, 0xa3, 0xa4, 0xa5, 0xa6, 0xa7,\n",
        "        0xa8, 0xa9, 0xaa, 0xb2, 0xb3, 0xb4, 0xb5, 0xb6,\n",
        "        0xb7, 0xb8, 0xb9, 0xba, 0xc2, 0xc3, 0xc4, 0xc5,\n",
        "        0xc6, 0xc7, 0xc8, 0xc9, 0xca, 0xd2, 0xd3, 0xd4,\n",
        "        0xd5, 0xd6, 0xd7, 0xd8, 0xd9, 0xda, 0xe1, 0xe2,\n",
        "        0xe3, 0xe4, 0xe5, 0xe6, 0xe7, 0xe8, 0xe9, 0xea,\n",
        "        0xf1, 0xf2, 0xf3, 0xf4, 0xf5, 0xf6, 0xf7, 0xf8,\n",
        "        0xf9, 0xfa]\n",
        "}"
      ]
    },
    {
      "cell_type": "code",
      "execution_count": null,
      "metadata": {
        "colab": {
          "background_save": true
        },
        "id": "d-KBNmuBYuA0"
      },
      "outputs": [],
      "source": [
        "huffmanACCrominancia = {\n",
        "    \"tamanho\": [0, 2, 1, 2, 4, 4, 3, 4, 7, 5, 4, 4, 0, 1, 2, 119],\n",
        "    \"valores\": [0x00, 0x01, 0x02, 0x03, 0x11, 0x04, 0x05, 0x21,\n",
        "        0x31, 0x06, 0x12, 0x41, 0x51, 0x07, 0x61, 0x71,\n",
        "        0x13, 0x22, 0x32, 0x81, 0x08, 0x14, 0x42, 0x91,\n",
        "        0xa1, 0xb1, 0xc1, 0x09, 0x23, 0x33, 0x52, 0xf0,\n",
        "        0x15, 0x62, 0x72, 0xd1, 0x0a, 0x16, 0x24, 0x34,\n",
        "        0xe1, 0x25, 0xf1, 0x17, 0x18, 0x19, 0x1a, 0x26,\n",
        "        0x27, 0x28, 0x29, 0x2a, 0x35, 0x36, 0x37, 0x38,\n",
        "        0x39, 0x3a, 0x43, 0x44, 0x45, 0x46, 0x47, 0x48,\n",
        "        0x49, 0x4a, 0x53, 0x54, 0x55, 0x56, 0x57, 0x58,\n",
        "        0x59, 0x5a, 0x63, 0x64, 0x65, 0x66, 0x67, 0x68,\n",
        "        0x69, 0x6a, 0x73, 0x74, 0x75, 0x76, 0x77, 0x78,\n",
        "        0x79, 0x7a, 0x82, 0x83, 0x84, 0x85, 0x86, 0x87,\n",
        "        0x88, 0x89, 0x8a, 0x92, 0x93, 0x94, 0x95, 0x96,\n",
        "        0x97, 0x98, 0x99, 0x9a, 0xa2, 0xa3, 0xa4, 0xa5,\n",
        "        0xa6, 0xa7, 0xa8, 0xa9, 0xaa, 0xb2, 0xb3, 0xb4,\n",
        "        0xb5, 0xb6, 0xb7, 0xb8, 0xb9, 0xba, 0xc2, 0xc3,\n",
        "        0xc4, 0xc5, 0xc6, 0xc7, 0xc8, 0xc9, 0xca, 0xd2,\n",
        "        0xd3, 0xd4, 0xd5, 0xd6, 0xd7, 0xd8, 0xd9, 0xda,\n",
        "        0xe2, 0xe3, 0xe4, 0xe5, 0xe6, 0xe7, 0xe8, 0xe9,\n",
        "        0xea, 0xf2, 0xf3, 0xf4, 0xf5, 0xf6, 0xf7, 0xf8,\n",
        "        0xf9, 0xfa]\n",
        "}"
      ]
    },
    {
      "cell_type": "code",
      "execution_count": null,
      "metadata": {
        "colab": {
          "background_save": true
        },
        "id": "BI9NOBzpYvtQ"
      },
      "outputs": [],
      "source": [
        "def intParaStringBits(x, length):\n",
        "    ret = \"\"\n",
        "    \n",
        "    flag = False\n",
        "    \n",
        "    if x < 0:\n",
        "        x *= -1\n",
        "        flag = True\n",
        "    \n",
        "    for i in range(length):\n",
        "        if x & 1 == 1:\n",
        "            if flag == True:\n",
        "                ret += \"0\"\n",
        "            else:\n",
        "                ret += \"1\"\n",
        "        else:\n",
        "            if flag == True:\n",
        "                ret += \"1\"\n",
        "            else:\n",
        "                ret += \"0\"\n",
        "            \n",
        "        x = x >> 1\n",
        "        \n",
        "    return ret[::-1]"
      ]
    },
    {
      "cell_type": "code",
      "execution_count": null,
      "metadata": {
        "colab": {
          "background_save": true
        },
        "id": "ngXkOCl_Yxfe"
      },
      "outputs": [],
      "source": [
        "def somaUm(x):\n",
        "    x = x[::-1]\n",
        "    \n",
        "    y = \"\"\n",
        "    flag = False\n",
        "    \n",
        "    for i in range(len(x)):\n",
        "        if flag == False:\n",
        "            if x[i] == \"0\":\n",
        "                y += \"1\"\n",
        "                flag = True\n",
        "            else:\n",
        "                y += \"0\"\n",
        "        else:\n",
        "            y += x[i]\n",
        "        \n",
        "    y = y[::-1]\n",
        "    \n",
        "    return y"
      ]
    },
    {
      "cell_type": "code",
      "execution_count": null,
      "metadata": {
        "colab": {
          "background_save": true
        },
        "id": "vLU6LSXXeOyu"
      },
      "outputs": [],
      "source": [
        "def geraCodificacaoHuffman(huffman):\n",
        "  k = 0\n",
        "  n = \"0\"\n",
        "\n",
        "  ret  = {}\n",
        "\n",
        "  for i in huffman[\"tamanho\"]:\n",
        "      for j in range(i):\n",
        "          ret[huffman[\"valores\"][k]] = n\n",
        "          n = somaUm(n)\n",
        "          k += 1\n",
        "      n += \"0\"\n",
        "\n",
        "  return ret"
      ]
    },
    {
      "cell_type": "code",
      "execution_count": null,
      "metadata": {
        "colab": {
          "background_save": true
        },
        "id": "ifeE9MhXYzZ8"
      },
      "outputs": [],
      "source": [
        "mapaDCLuminancia2 = geraCodificacaoHuffman(huffmanDCLuminancia)\n",
        "mapaACLuminancia2 = geraCodificacaoHuffman(huffmanACLuminancia)\n",
        "mapaDCCrominancia2 = geraCodificacaoHuffman(huffmanDCCrominancia)\n",
        "mapaACCrominancia2 = geraCodificacaoHuffman(huffmanACCrominancia)"
      ]
    },
    {
      "cell_type": "code",
      "execution_count": null,
      "metadata": {
        "colab": {
          "background_save": true
        },
        "id": "WrUkRk8EY1Rk"
      },
      "outputs": [],
      "source": [
        "def contaBitsNescessarios(x):\n",
        "    total = 0\n",
        "    \n",
        "    if x < 0:\n",
        "        x *= -1\n",
        "    \n",
        "    while x > 0 :\n",
        "        total += 1\n",
        "        x >>= 1\n",
        "        \n",
        "    return total"
      ]
    },
    {
      "cell_type": "code",
      "execution_count": null,
      "metadata": {
        "colab": {
          "background_save": true
        },
        "id": "1TQtArjlY3HM",
        "outputId": "91f7d747-f0e5-4053-9d22-ed7a6a04521d"
      },
      "outputs": [
        {
          "name": "stderr",
          "output_type": "stream",
          "text": [
            "100%|██████████| 4881/4881 [00:00<00:00, 59317.24it/s]\n"
          ]
        }
      ],
      "source": [
        "for z in tqdm(range(len(listaArrayY))):\n",
        "  listaArrayY[z] = listaArrayY[z].astype('int')\n",
        "  listaArrayCb[z] = listaArrayCb[z].astype('int')\n",
        "  listaArrayCr[z] = listaArrayCr[z].astype('int')"
      ]
    },
    {
      "cell_type": "code",
      "execution_count": null,
      "metadata": {
        "colab": {
          "background_save": true
        },
        "id": "ZQ51vY2agICp"
      },
      "outputs": [],
      "source": [
        "def codificaBlocoHuffman(bloco, mapaDC, mapaAC):\n",
        "\n",
        "  stringBits = \"\"\n",
        "  zeroPad = 0\n",
        "\n",
        "  nBits = contaBitsNescessarios(bloco[0])\n",
        "    \n",
        "  stringBits += mapaDC[nBits]\n",
        "  stringBits += intParaStringBits(bloco[0], nBits)\n",
        "  \n",
        "  zeroPad = 0\n",
        "  \n",
        "  for j in range(1, 64):\n",
        "      if bloco[j] == 0:\n",
        "          zeroPad += 1\n",
        "      else:\n",
        "          while zeroPad > 15:\n",
        "              stringBits += mapaAC[(15 << 4) + 0]\n",
        "              zeroPad -= 16\n",
        "          \n",
        "          nBits = contaBitsNescessarios(bloco[j])\n",
        "          \n",
        "          stringBits += mapaAC[(zeroPad << 4) + nBits]\n",
        "          stringBits += intParaStringBits(bloco[j], nBits)\n",
        "  \n",
        "          zeroPad = 0\n",
        "  \n",
        "  if zeroPad > 0:\n",
        "      stringBits += mapaAC[0]\n",
        "\n",
        "  return stringBits"
      ]
    },
    {
      "cell_type": "code",
      "execution_count": null,
      "metadata": {
        "colab": {
          "background_save": true
        },
        "id": "vpUqosi7Y41K",
        "outputId": "d9af4723-526d-4a90-92b1-3bb21c013fe7"
      },
      "outputs": [
        {
          "name": "stderr",
          "output_type": "stream",
          "text": [
            "100%|██████████| 4881/4881 [01:25<00:00, 57.16it/s]\n"
          ]
        }
      ],
      "source": [
        "listaStringBits = []\n",
        "\n",
        "for z in tqdm(range(len(listaArrayY))):\n",
        "  stringBits = \"\"\n",
        "\n",
        "  for i in range(listaArrayY[z].shape[0]):\n",
        "    stringBits += codificaBlocoHuffman(listaArrayY[z][i], mapaDCLuminancia2, mapaACLuminancia2)\n",
        "    stringBits += codificaBlocoHuffman(listaArrayCb[z][i], mapaDCCrominancia2, mapaACCrominancia2)\n",
        "    stringBits += codificaBlocoHuffman(listaArrayCr[z][i], mapaDCCrominancia2, mapaACCrominancia2)\n",
        "\n",
        "  listaStringBits.append(stringBits)"
      ]
    },
    {
      "cell_type": "code",
      "execution_count": null,
      "metadata": {
        "colab": {
          "background_save": true
        },
        "id": "P03xQPv6Y6db",
        "outputId": "3f76dd21-8ee0-4414-db6d-e12db6d2e8b8"
      },
      "outputs": [
        {
          "name": "stderr",
          "output_type": "stream",
          "text": [
            "100%|██████████| 4881/4881 [00:00<00:00, 91624.92it/s]\n"
          ]
        }
      ],
      "source": [
        "for z in tqdm(range(len(listaStringBits))):\n",
        "  while len(listaStringBits[z]) % 8 != 0:\n",
        "      listaStringBits[z] += \"0\""
      ]
    },
    {
      "cell_type": "code",
      "execution_count": null,
      "metadata": {
        "colab": {
          "background_save": true
        },
        "id": "vkfsRyhtY8X8",
        "outputId": "910a038d-d7a3-49f2-e404-424ebe485499"
      },
      "outputs": [
        {
          "name": "stderr",
          "output_type": "stream",
          "text": [
            "100%|██████████| 4881/4881 [00:00<00:00, 1449989.22it/s]\n"
          ]
        }
      ],
      "source": [
        "listaImgJpeg = []\n",
        "\n",
        "for z in tqdm(range(len(listaStringBits))):\n",
        "  imgJpeg = bytearray()\n",
        "  listaImgJpeg.append(imgJpeg)"
      ]
    },
    {
      "cell_type": "code",
      "execution_count": null,
      "metadata": {
        "colab": {
          "background_save": true
        },
        "id": "6MqPhWKbaTQS",
        "outputId": "6e8775f5-6cc0-4f49-8f86-1cfbc0ec9613"
      },
      "outputs": [
        {
          "name": "stderr",
          "output_type": "stream",
          "text": [
            "100%|██████████| 4881/4881 [00:00<00:00, 2355585.99it/s]\n"
          ]
        }
      ],
      "source": [
        "for imgJpeg in tqdm(listaImgJpeg):\n",
        "  imgJpeg += b'\\xff\\xd8'"
      ]
    },
    {
      "cell_type": "code",
      "execution_count": null,
      "metadata": {
        "colab": {
          "background_save": true
        },
        "id": "5GF5IGImY_zI",
        "outputId": "91da5aba-f667-4950-d737-fe8b24b3eaeb"
      },
      "outputs": [
        {
          "name": "stderr",
          "output_type": "stream",
          "text": [
            "100%|██████████| 4881/4881 [00:00<00:00, 1035895.25it/s]\n"
          ]
        }
      ],
      "source": [
        "for imgJpeg in tqdm(listaImgJpeg):\n",
        "  imgJpeg += b'\\xff\\xe0' # marker\n",
        "  imgJpeg += b'\\x00\\x10' # lenght\n",
        "  imgJpeg += b'\\x4a\\x46\\x49\\x46\\x00' # identifier JFIF\\0\n",
        "  imgJpeg += b'\\x01\\x02' # version 1.2\n",
        "  imgJpeg += b'\\x00' # units (dpi)\n",
        "  imgJpeg += b'\\x00\\x64\\x00\\x64' #density\n",
        "  imgJpeg += b'\\x00\\x00' # thumbnail"
      ]
    },
    {
      "cell_type": "code",
      "execution_count": null,
      "metadata": {
        "colab": {
          "background_save": true
        },
        "id": "FOxmIy9pZBX7",
        "outputId": "34b5abf8-5fca-4722-e81f-3adbadf500f0"
      },
      "outputs": [
        {
          "name": "stderr",
          "output_type": "stream",
          "text": [
            "100%|██████████| 4881/4881 [00:00<00:00, 803658.55it/s]\n"
          ]
        }
      ],
      "source": [
        "for imgJpeg in tqdm(listaImgJpeg):\n",
        "  comentario = \"JPEG Stegano Encoder.\"\n",
        "\n",
        "  comprimento = len(comentario)\n",
        "\n",
        "  imgJpeg += b'\\xff\\xfe' # marker\n",
        "  imgJpeg += (comprimento + 2).to_bytes(2, byteorder='big') # length\n",
        "  imgJpeg += comentario.encode('ascii') # comentário"
      ]
    },
    {
      "cell_type": "code",
      "execution_count": null,
      "metadata": {
        "colab": {
          "background_save": true
        },
        "id": "MLBlcz2oZDTX",
        "outputId": "d7b3c8c5-6a35-4e37-e0e1-ef67230c9c8a"
      },
      "outputs": [
        {
          "name": "stderr",
          "output_type": "stream",
          "text": [
            "100%|██████████| 4881/4881 [00:00<00:00, 14513.14it/s]\n"
          ]
        }
      ],
      "source": [
        "for imgJpeg in tqdm(listaImgJpeg):\n",
        "  qtL = np.zeros(64)\n",
        "  qtC = np.zeros(64)\n",
        "\n",
        "  for i in range(8):\n",
        "      for j in range(8):\n",
        "          qtL[matrizZigzag[i][j]] = matrizQuantizacaoLuminancia[i][j]\n",
        "          qtC[matrizZigzag[i][j]] = matrizQuantizacaoCrominancia[i][j]"
      ]
    },
    {
      "cell_type": "code",
      "execution_count": null,
      "metadata": {
        "colab": {
          "background_save": true
        },
        "id": "tGa_ngKYZFP_",
        "outputId": "d0f58ddf-9845-4301-cf68-81494bceb452"
      },
      "outputs": [
        {
          "name": "stderr",
          "output_type": "stream",
          "text": [
            "100%|██████████| 4881/4881 [00:00<00:00, 24811.60it/s]\n"
          ]
        }
      ],
      "source": [
        "for imgJpeg in tqdm(listaImgJpeg):\n",
        "  imgJpeg += b'\\xff\\xdb' # marker\n",
        "  imgJpeg += b'\\x00\\x43' # length\n",
        "  imgJpeg += b'\\x00' # destination luminance (0)\n",
        "\n",
        "  for i in qtL.astype('uint8'):\n",
        "      imgJpeg += i.tobytes() # table"
      ]
    },
    {
      "cell_type": "code",
      "execution_count": null,
      "metadata": {
        "colab": {
          "background_save": true
        },
        "id": "mazqUOO3ZHKJ",
        "outputId": "5286b76d-4e41-485e-ec79-146168a00cc3"
      },
      "outputs": [
        {
          "name": "stderr",
          "output_type": "stream",
          "text": [
            "100%|██████████| 4881/4881 [00:00<00:00, 24908.02it/s]\n"
          ]
        }
      ],
      "source": [
        "for imgJpeg in tqdm(listaImgJpeg):\n",
        "  imgJpeg += b'\\xff\\xdb' # marker\n",
        "  imgJpeg += b'\\x00\\x43' # length\n",
        "  imgJpeg += b'\\x01' # destination chrominance (1)\n",
        "\n",
        "  for i in qtC.astype('uint8'):\n",
        "      imgJpeg += i.tobytes() # table"
      ]
    },
    {
      "cell_type": "code",
      "execution_count": null,
      "metadata": {
        "colab": {
          "background_save": true
        },
        "id": "jHipUmHLZItw",
        "outputId": "526b9dff-9661-4a71-bbbf-c8207119947d"
      },
      "outputs": [
        {
          "name": "stderr",
          "output_type": "stream",
          "text": [
            "100%|██████████| 4881/4881 [00:00<00:00, 70004.75it/s]\n"
          ]
        }
      ],
      "source": [
        "for imgJpeg in tqdm(listaImgJpeg):\n",
        "  sh = np.asarray(img).shape\n",
        "\n",
        "  imgJpeg += b'\\xff\\xc0' # marker\n",
        "  imgJpeg += b'\\x00\\x11' # length\n",
        "  imgJpeg += b'\\x08' # precision\n",
        "  imgJpeg += (sh[0]).to_bytes(2, byteorder='big') # image height\n",
        "  imgJpeg += (sh[1]).to_bytes(2, byteorder='big') # image width\n",
        "  imgJpeg += b'\\x03' # components (Y, Cb, Cr)\n",
        "  imgJpeg += b'\\x01\\x11\\x00' # id factor table (LumY)\n",
        "  imgJpeg += b'\\x02\\x11\\x01' # id factor table (ChromCb)\n",
        "  imgJpeg += b'\\x03\\x11\\x01' # id factor table (ChromCr)"
      ]
    },
    {
      "cell_type": "code",
      "execution_count": null,
      "metadata": {
        "colab": {
          "background_save": true
        },
        "id": "yE0cocp3ZKaX",
        "outputId": "48a36c66-c48b-4156-d7e7-c1c411410a54"
      },
      "outputs": [
        {
          "name": "stderr",
          "output_type": "stream",
          "text": [
            "100%|██████████| 4881/4881 [00:00<00:00, 18687.12it/s]\n"
          ]
        }
      ],
      "source": [
        "for imgJpeg in tqdm(listaImgJpeg):\n",
        "  leng = 19 + len(mapaDCLuminancia2)\n",
        "\n",
        "  mapaOrdenado = mapaDCLuminancia2.items()\n",
        "\n",
        "  comprimentoMapa = np.zeros(16).astype('int8')\n",
        "\n",
        "  for i in mapaOrdenado:\n",
        "      comprimentoMapa[len(i[1]) - 1] += 1\n",
        "\n",
        "  imgJpeg += b'\\xff\\xc4' # marker\n",
        "  imgJpeg += (leng).to_bytes(2, byteorder='big') # length\n",
        "  imgJpeg += b'\\x00' # class (DC) destination\n",
        "\n",
        "  for i in comprimentoMapa:\n",
        "      imgJpeg += (int(i)).to_bytes(1, byteorder='big')\n",
        "      \n",
        "  for i in mapaOrdenado:\n",
        "      imgJpeg += (i[0]).to_bytes(1, byteorder='big') # code of bit"
      ]
    },
    {
      "cell_type": "code",
      "execution_count": null,
      "metadata": {
        "colab": {
          "background_save": true
        },
        "id": "7M70TpHSZMJ-",
        "outputId": "e882d44b-d1e4-41bc-e1a2-d4156b81c780"
      },
      "outputs": [
        {
          "name": "stderr",
          "output_type": "stream",
          "text": [
            "100%|██████████| 4881/4881 [00:00<00:00, 18661.90it/s]\n"
          ]
        }
      ],
      "source": [
        "for imgJpeg in tqdm(listaImgJpeg):\n",
        "  leng = 19 + len(mapaDCCrominancia2)\n",
        "\n",
        "  mapaOrdenado = mapaDCCrominancia2.items()\n",
        "\n",
        "  comprimentoMapa = np.zeros(16).astype('int8')\n",
        "\n",
        "  for i in mapaOrdenado:\n",
        "      comprimentoMapa[len(i[1]) - 1] += 1\n",
        "\n",
        "  imgJpeg += b'\\xff\\xc4' # marker\n",
        "  imgJpeg += (leng).to_bytes(2, byteorder='big') # length\n",
        "  imgJpeg += b'\\x01' # class (DC) destination\n",
        "\n",
        "  for i in comprimentoMapa:\n",
        "      imgJpeg += (int(i)).to_bytes(1, byteorder='big')\n",
        "      \n",
        "  for i in mapaOrdenado:\n",
        "      imgJpeg += (i[0]).to_bytes(1, byteorder='big') # code of bit"
      ]
    },
    {
      "cell_type": "code",
      "execution_count": null,
      "metadata": {
        "colab": {
          "background_save": true
        },
        "id": "K_4Uo6dJZNwR",
        "outputId": "438360c5-f752-4dad-9ab5-83af1e7be3d8"
      },
      "outputs": [
        {
          "name": "stderr",
          "output_type": "stream",
          "text": [
            "100%|██████████| 4881/4881 [00:02<00:00, 2020.76it/s]\n"
          ]
        }
      ],
      "source": [
        "for imgJpeg in tqdm(listaImgJpeg):\n",
        "  leng = 19 + len(mapaACLuminancia2)\n",
        "\n",
        "  mapaOrdenado = mapaACLuminancia2.items()\n",
        "\n",
        "  comprimentoMapa = np.zeros(16).astype('int8')\n",
        "\n",
        "  for i in mapaOrdenado:\n",
        "      comprimentoMapa[len(i[1]) - 1] += 1\n",
        "\n",
        "  imgJpeg += b'\\xff\\xc4' # marker\n",
        "  imgJpeg += (leng).to_bytes(2, byteorder='big') # length\n",
        "  imgJpeg += b'\\x10' # class (AC) destination\n",
        "\n",
        "  for i in comprimentoMapa:\n",
        "      imgJpeg += (int(i)).to_bytes(1, byteorder='big')\n",
        "      \n",
        "  for i in mapaOrdenado:\n",
        "      imgJpeg += (i[0]).to_bytes(1, byteorder='big') # code of bit"
      ]
    },
    {
      "cell_type": "code",
      "execution_count": null,
      "metadata": {
        "colab": {
          "background_save": true
        },
        "id": "PWd17IKbZPks",
        "outputId": "8e7aec56-6cdc-487a-ed38-66fdc63611b4"
      },
      "outputs": [
        {
          "name": "stderr",
          "output_type": "stream",
          "text": [
            "100%|██████████| 4881/4881 [00:02<00:00, 2032.07it/s]\n"
          ]
        }
      ],
      "source": [
        "for imgJpeg in tqdm(listaImgJpeg):\n",
        "  leng = 19 + len(mapaACCrominancia2)\n",
        "\n",
        "  mapaOrdenado = mapaACCrominancia2.items()\n",
        "\n",
        "  comprimentoMapa = np.zeros(16).astype('int8')\n",
        "\n",
        "  for i in mapaOrdenado:\n",
        "      comprimentoMapa[len(i[1]) - 1] += 1\n",
        "\n",
        "  imgJpeg += b'\\xff\\xc4' # marker\n",
        "  imgJpeg += (leng).to_bytes(2, byteorder='big') # length\n",
        "  imgJpeg += b'\\x11' # class (AC) destination\n",
        "\n",
        "  for i in comprimentoMapa:\n",
        "      imgJpeg += (int(i)).to_bytes(1, byteorder='big')\n",
        "      \n",
        "  for i in mapaOrdenado:\n",
        "      imgJpeg += (i[0]).to_bytes(1, byteorder='big') # code of bit"
      ]
    },
    {
      "cell_type": "code",
      "execution_count": null,
      "metadata": {
        "colab": {
          "background_save": true
        },
        "id": "p9a0wpYfZROK",
        "outputId": "c49f33b2-b3c9-41b3-c74e-941a1615d982"
      },
      "outputs": [
        {
          "name": "stderr",
          "output_type": "stream",
          "text": [
            "100%|██████████| 4881/4881 [00:00<00:00, 947269.93it/s]\n"
          ]
        }
      ],
      "source": [
        "for imgJpeg in tqdm(listaImgJpeg):\n",
        "  imgJpeg += b'\\xff\\xda' # marker\n",
        "  imgJpeg += b'\\x00\\x0c' # length\n",
        "  imgJpeg += b'\\x03' # components\n",
        "  imgJpeg += b'\\x01\\x00' # selector dc ac\n",
        "  imgJpeg += b'\\x02\\x11' # selector dc ac\n",
        "  imgJpeg += b'\\x03\\x11' # selector dc ac\n",
        "  imgJpeg += b'\\x00\\x3f' # spectral interval\n",
        "  imgJpeg += b'\\x00' # sucessive aproximation"
      ]
    },
    {
      "cell_type": "code",
      "execution_count": null,
      "metadata": {
        "colab": {
          "background_save": true
        },
        "id": "1c1feiykZSq8",
        "outputId": "5abc60a2-4221-4f90-c916-f0bce39897bf"
      },
      "outputs": [
        {
          "name": "stderr",
          "output_type": "stream",
          "text": [
            "100%|██████████| 4881/4881 [00:20<00:00, 233.82it/s]\n"
          ]
        }
      ],
      "source": [
        "nStringBits = 0\n",
        "\n",
        "for imgJpeg in tqdm(listaImgJpeg):\n",
        "  z = 0\n",
        "\n",
        "  for i in range(0, len(listaStringBits[nStringBits]), 8):\n",
        "      x = int(listaStringBits[nStringBits][i:i+8], 2)\n",
        "      \n",
        "      y = -1\n",
        "      \n",
        "      if i + 16 < len(listaStringBits[nStringBits]):\n",
        "          y = int(listaStringBits[nStringBits][i+8:i+16], 2)\n",
        "      \n",
        "      imgJpeg += (x).to_bytes(1, byteorder='big')\n",
        "      \n",
        "      if x == 255 and y != 255:\n",
        "          imgJpeg += (0).to_bytes(1, byteorder='big')\n",
        "          z += 1\n",
        "\n",
        "  nStringBits += 1"
      ]
    },
    {
      "cell_type": "code",
      "execution_count": null,
      "metadata": {
        "colab": {
          "background_save": true
        },
        "id": "DEd3ejupZUXN",
        "outputId": "33642c7a-b0f8-4411-847a-134ef7c0c20b"
      },
      "outputs": [
        {
          "name": "stderr",
          "output_type": "stream",
          "text": [
            "100%|██████████| 4881/4881 [00:00<00:00, 1797401.04it/s]\n"
          ]
        }
      ],
      "source": [
        "for imgJpeg in tqdm(listaImgJpeg):\n",
        "  imgJpeg += b'\\xff\\xd9' # marker"
      ]
    },
    {
      "cell_type": "code",
      "execution_count": null,
      "metadata": {
        "colab": {
          "background_save": true
        },
        "id": "jKYDzp0vbezG"
      },
      "outputs": [],
      "source": [
        "os.mkdir('dataset_esteganografia')"
      ]
    },
    {
      "cell_type": "code",
      "execution_count": null,
      "metadata": {
        "colab": {
          "background_save": true
        },
        "id": "6DshD837ZWQR",
        "outputId": "21810bcb-556a-49f9-9a0e-2741ffcd201b"
      },
      "outputs": [
        {
          "name": "stderr",
          "output_type": "stream",
          "text": [
            "100%|██████████| 4881/4881 [00:00<00:00, 26299.06it/s]\n"
          ]
        }
      ],
      "source": [
        "nImagem = 0\n",
        "\n",
        "for imgJpeg in tqdm(listaImgJpeg):\n",
        "  fileJpeg = open('dataset_esteganografia/' + str(nImagem).zfill(5) + '.jpeg', 'wb')\n",
        "  fileJpeg.write(imgJpeg)\n",
        "  fileJpeg.close()\n",
        "\n",
        "  nImagem += 1"
      ]
    },
    {
      "cell_type": "markdown",
      "metadata": {
        "id": "OFcDA7ovqFCZ"
      },
      "source": [
        "<hr/>"
      ]
    },
    {
      "cell_type": "code",
      "execution_count": null,
      "metadata": {
        "colab": {
          "background_save": true
        },
        "id": "QcvH0R2nZX7Q",
        "outputId": "d18b641f-d6fd-4814-871e-885c4c522a41"
      },
      "outputs": [
        {
          "name": "stderr",
          "output_type": "stream",
          "text": [
            "100%|██████████| 4881/4881 [00:00<00:00, 94483.05it/s]\n"
          ]
        }
      ],
      "source": [
        "steganoImagesList = []\n",
        "\n",
        "listaFileName = os.listdir('dataset_esteganografia')\n",
        "listaFileName.sort()\n",
        "\n",
        "for fileName in tqdm(listaFileName):\n",
        "  img = open('dataset_esteganografia/' + fileName, 'rb')\n",
        "  steganoImagesList.append(img)"
      ]
    },
    {
      "cell_type": "code",
      "execution_count": null,
      "metadata": {
        "colab": {
          "background_save": true
        },
        "id": "AyJYavS2qPQg",
        "outputId": "c40ae30b-8c42-4e65-d6ca-a4cd862a3b67"
      },
      "outputs": [
        {
          "name": "stderr",
          "output_type": "stream",
          "text": [
            "100%|██████████| 4881/4881 [00:00<00:00, 120751.90it/s]\n"
          ]
        }
      ],
      "source": [
        "listaFileContent = []\n",
        "\n",
        "for img in tqdm(steganoImagesList):\n",
        "  fileContent = img.read()\n",
        "  listaFileContent.append(fileContent)"
      ]
    },
    {
      "cell_type": "code",
      "execution_count": null,
      "metadata": {
        "colab": {
          "background_save": true
        },
        "id": "iel5IuWZqRcu",
        "outputId": "efc43712-fc37-44b7-c3b3-954a3b28e870"
      },
      "outputs": [
        {
          "name": "stderr",
          "output_type": "stream",
          "text": [
            "100%|██████████| 4881/4881 [00:00<00:00, 1340430.68it/s]\n"
          ]
        }
      ],
      "source": [
        "listaImageData = []\n",
        "\n",
        "for z in tqdm(range(len(listaFileContent))):\n",
        "  listaImageData.append(bytearray())"
      ]
    },
    {
      "cell_type": "code",
      "execution_count": null,
      "metadata": {
        "colab": {
          "background_save": true
        },
        "id": "4qs6sZt3qTmO",
        "outputId": "874a49fe-e8c1-4b3c-c17d-6632e9e63e45"
      },
      "outputs": [
        {
          "name": "stderr",
          "output_type": "stream",
          "text": [
            "100%|██████████| 4881/4881 [00:08<00:00, 570.74it/s]\n"
          ]
        }
      ],
      "source": [
        "for z in tqdm(range(len(listaFileContent))):\n",
        "  segmentStartOfScan = False\n",
        "  nBytesStartOfScan = 0\n",
        "\n",
        "  for i in range(len(listaFileContent[z]) - 2):\n",
        "      if listaFileContent[z][i] == ord(b'\\xff') and listaFileContent[z][i+1] == ord(b'\\xda'):\n",
        "          segmentStartOfScan = True\n",
        "          \n",
        "      if segmentStartOfScan:\n",
        "          nBytesStartOfScan += 1\n",
        "          \n",
        "          if nBytesStartOfScan > 14:\n",
        "              listaImageData[z].append(listaFileContent[z][i])"
      ]
    },
    {
      "cell_type": "code",
      "execution_count": null,
      "metadata": {
        "colab": {
          "background_save": true
        },
        "id": "2F3_Ir7UqYCf",
        "outputId": "e8c3896c-138a-47b0-a0d6-10dcdaaef27c"
      },
      "outputs": [
        {
          "name": "stderr",
          "output_type": "stream",
          "text": [
            "100%|██████████| 4881/4881 [00:00<00:00, 1500578.89it/s]\n"
          ]
        }
      ],
      "source": [
        "listaBa = []\n",
        "\n",
        "for z in tqdm(range(len(listaFileContent))):\n",
        "  ba = bitarray()\n",
        "  listaBa.append(ba)"
      ]
    },
    {
      "cell_type": "code",
      "execution_count": null,
      "metadata": {
        "colab": {
          "background_save": true
        },
        "id": "TkB1aMHbqasi",
        "outputId": "8f152325-4bde-485e-b8cc-943b4fe9a581"
      },
      "outputs": [
        {
          "name": "stderr",
          "output_type": "stream",
          "text": [
            "100%|██████████| 4881/4881 [00:00<00:00, 284015.40it/s]\n"
          ]
        }
      ],
      "source": [
        "for z in tqdm(range(len(listaBa))):\n",
        "  listaBa[z].frombytes(bytes(listaImageData[z]))"
      ]
    },
    {
      "cell_type": "code",
      "execution_count": null,
      "metadata": {
        "colab": {
          "background_save": true
        },
        "id": "1-pXTGphqc9I",
        "outputId": "6f08eb3e-ffe3-4ea4-b5aa-d6caaf992042"
      },
      "outputs": [
        {
          "name": "stderr",
          "output_type": "stream",
          "text": [
            "100%|██████████| 4881/4881 [00:00<00:00, 1203338.50it/s]\n"
          ]
        }
      ],
      "source": [
        "listaBa2 = []\n",
        "\n",
        "for z in tqdm(range(len(listaBa))):\n",
        "  ba2 = bitarray()\n",
        "  listaBa2.append(ba2)"
      ]
    },
    {
      "cell_type": "code",
      "execution_count": null,
      "metadata": {
        "colab": {
          "background_save": true
        },
        "id": "-39Py1UCqez9",
        "outputId": "83bdc888-abcc-40c3-b706-5522d9fdeff1"
      },
      "outputs": [
        {
          "name": "stderr",
          "output_type": "stream",
          "text": [
            "100%|██████████| 4881/4881 [00:58<00:00, 83.15it/s]\n"
          ]
        }
      ],
      "source": [
        "for z in tqdm(range(len(listaBa))):\n",
        "  bitTemp = ''\n",
        "\n",
        "  for bit in listaBa[z]:\n",
        "      bitTemp += str(bit)\n",
        "      \n",
        "      if len(bitTemp) == 16:\n",
        "          if bitTemp == '1111111100000000':\n",
        "              listaBa2[z] += bitarray('11111111')\n",
        "              bitTemp = ''\n",
        "          else:\n",
        "              listaBa2[z] += bitarray(bitTemp[0:8])\n",
        "              bitTemp = bitTemp[8:16]"
      ]
    },
    {
      "cell_type": "code",
      "execution_count": null,
      "metadata": {
        "colab": {
          "background_save": true
        },
        "id": "PfaEaXAXqg_8"
      },
      "outputs": [],
      "source": [
        "def ba_to_int(bitsStr):\n",
        "    negative = True if bitsStr[0] == '0' else False\n",
        "    \n",
        "    if negative:\n",
        "        tempStr = ''\n",
        "        \n",
        "        for i in bitsStr:\n",
        "            if i == '0':\n",
        "                tempStr += '1'\n",
        "            else:\n",
        "                tempStr += '0'\n",
        "        \n",
        "        return -1 * int(tempStr, 2)\n",
        "    else:\n",
        "        return int(bitsStr, 2)"
      ]
    },
    {
      "cell_type": "code",
      "execution_count": null,
      "metadata": {
        "colab": {
          "background_save": true
        },
        "id": "tglMgu01q_90"
      },
      "outputs": [],
      "source": [
        "def geraDecodificacaoHuffman(huffman):\n",
        "  ret  = {}\n",
        "\n",
        "  k = 0\n",
        "  n = 1\n",
        "  x = 0\n",
        "\n",
        "  for i in huffman[\"tamanho\"]:\n",
        "      for j in range(i):\n",
        "          ret[int2ba(x, length=n).to01()] = huffman[\"valores\"][k]\n",
        "          x += 1\n",
        "          k += 1\n",
        "      x <<= 1\n",
        "      n += 1\n",
        "\n",
        "  return ret"
      ]
    },
    {
      "cell_type": "code",
      "execution_count": null,
      "metadata": {
        "colab": {
          "background_save": true
        },
        "id": "ZO4L6Vg8rAB9"
      },
      "outputs": [],
      "source": [
        "mapaDCLuminancia2 = geraDecodificacaoHuffman(huffmanDCLuminancia)\n",
        "mapaACLuminancia2 = geraDecodificacaoHuffman(huffmanACLuminancia)\n",
        "mapaDCCrominancia2 = geraDecodificacaoHuffman(huffmanDCCrominancia)\n",
        "mapaACCrominancia2 = geraDecodificacaoHuffman(huffmanACCrominancia)"
      ]
    },
    {
      "cell_type": "code",
      "execution_count": null,
      "metadata": {
        "colab": {
          "background_save": true
        },
        "id": "vSW2ZaeiqsCy",
        "outputId": "2c81eb6b-b03e-45e9-bf4e-9c4f0f88a846"
      },
      "outputs": [
        {
          "name": "stderr",
          "output_type": "stream",
          "text": [
            "100%|██████████| 4881/4881 [01:44<00:00, 46.49it/s]\n"
          ]
        }
      ],
      "source": [
        "listaBlockArray = []\n",
        "\n",
        "for z in tqdm(range(len(listaBa2))):\n",
        "  tempBit = ''\n",
        "  nBits = -1\n",
        "  nCoeff = 0\n",
        "\n",
        "  block = []\n",
        "  blockArray = [[] for i in range(3)]\n",
        "\n",
        "  channel = 0\n",
        "\n",
        "  for bit in listaBa2[z]:\n",
        "      tempBit += str(bit)\n",
        "      \n",
        "      if nBits > 0:\n",
        "          nBits -= 1\n",
        "          \n",
        "          if nBits == 0:\n",
        "              coeff = ba_to_int(tempBit)\n",
        "              block.append(coeff)\n",
        "              nCoeff += 1\n",
        "              tempBit = ''\n",
        "              \n",
        "              if nCoeff == 64:\n",
        "                  blockArray[channel].append(block)\n",
        "                  block = []\n",
        "                  nCoeff = 0\n",
        "                  channel = (channel + 1) % 3\n",
        "      else:\n",
        "          if nCoeff == 0:\n",
        "              mapa = mapaDCLuminancia2 if channel == 0 else mapaDCCrominancia2\n",
        "              \n",
        "              if tempBit in mapa:\n",
        "                  coeff = mapa[tempBit]\n",
        "                  \n",
        "                  if coeff == 0:\n",
        "                      block.append(0)\n",
        "                      nCoeff += 1\n",
        "                  \n",
        "                  tempBit = ''\n",
        "                  nBits = coeff\n",
        "          else:\n",
        "              mapa = mapaACLuminancia2 if channel == 0 else mapaACCrominancia2\n",
        "              \n",
        "              if tempBit in mapa:\n",
        "                  coeff = mapa[tempBit]\n",
        "                  \n",
        "                  if coeff == 0:\n",
        "                      while nCoeff < 64:\n",
        "                          block.append(0)\n",
        "                          nCoeff += 1\n",
        "                      \n",
        "                      blockArray[channel].append(block)\n",
        "                      block = []\n",
        "                      tempBit = ''\n",
        "                      nCoeff = 0\n",
        "                      channel = (channel + 1) % 3\n",
        "                      continue\n",
        "                          \n",
        "                  coeffA = coeff >> 4\n",
        "                  coeffB = coeff & 15\n",
        "\n",
        "                  nBits = coeffB\n",
        "                  \n",
        "                  for i in range(coeffA):\n",
        "                      block.append(0)\n",
        "                      nCoeff += 1\n",
        "                  \n",
        "                  tempBit = ''\n",
        "\n",
        "  listaBlockArray.append(blockArray)"
      ]
    },
    {
      "cell_type": "code",
      "execution_count": null,
      "metadata": {
        "colab": {
          "background_save": true
        },
        "id": "8Oo9g2yIrYwb"
      },
      "outputs": [],
      "source": [
        "def readStegano(value):\n",
        "    return value & 1"
      ]
    },
    {
      "cell_type": "code",
      "execution_count": null,
      "metadata": {
        "colab": {
          "background_save": true
        },
        "id": "nfdoVP49rceW",
        "outputId": "2a0b5250-cd5b-498d-dd03-0b37cd251594"
      },
      "outputs": [
        {
          "name": "stderr",
          "output_type": "stream",
          "text": [
            "100%|██████████| 4881/4881 [00:00<00:00, 15761.77it/s]\n"
          ]
        }
      ],
      "source": [
        "listaText = []\n",
        "\n",
        "for blockArray in tqdm(listaBlockArray):\n",
        "  text = ''\n",
        "  bits = ''\n",
        "  j = 0\n",
        "\n",
        "  for i in blockArray[1]:\n",
        "      bit = readStegano(i[1])\n",
        "      bits += str(bit)\n",
        "      j += 1\n",
        "      \n",
        "      if len(bits) == 8:\n",
        "          value = int(bits, 2)\n",
        "          bits = ''\n",
        "          \n",
        "          if value == 0:\n",
        "              break\n",
        "          else:\n",
        "              text += chr(value)\n",
        "\n",
        "  listaText.append(text)"
      ]
    },
    {
      "cell_type": "markdown",
      "metadata": {
        "id": "7lMrUnz2rmWL"
      },
      "source": [
        "<hr/>"
      ]
    },
    {
      "cell_type": "code",
      "execution_count": null,
      "metadata": {
        "colab": {
          "background_save": true
        },
        "id": "xRSmp3uLrhQR",
        "outputId": "e783bad6-b0d5-400b-f666-eaa9fd92f36f"
      },
      "outputs": [
        {
          "name": "stderr",
          "output_type": "stream",
          "text": [
            "100%|██████████| 4881/4881 [00:00<00:00, 1591325.13it/s]\n"
          ]
        }
      ],
      "source": [
        "totalCorreto = 0\n",
        "total = len(listaText)\n",
        "\n",
        "for z in tqdm(range(len(listaText))):\n",
        "  if listaText[z] == mensagens_secreta[z]:\n",
        "    totalCorreto += 1"
      ]
    },
    {
      "cell_type": "code",
      "execution_count": null,
      "metadata": {
        "colab": {
          "background_save": true
        },
        "id": "K-5TID9Tq9Ua",
        "outputId": "f83210eb-9295-4243-8e96-331f59364fea"
      },
      "outputs": [
        {
          "name": "stdout",
          "output_type": "stream",
          "text": [
            "Percentual Correto: 59.864781807006764%\n"
          ]
        }
      ],
      "source": [
        "print('Percentual Correto: ' + str((totalCorreto / total) * 100) + '%')"
      ]
    },
    {
      "cell_type": "markdown",
      "metadata": {
        "id": "z3cMY-z3kj3Q"
      },
      "source": [
        "<hr/>"
      ]
    },
    {
      "cell_type": "markdown",
      "metadata": {
        "id": "m32gmPM7kwT3"
      },
      "source": [
        "**Calcula as metricas de qualidade da imagem visando comparar as imagens originais com as imagens contendo esteganografia**"
      ]
    },
    {
      "cell_type": "code",
      "execution_count": null,
      "metadata": {
        "colab": {
          "background_save": true
        },
        "id": "zd41XWhdjQoi"
      },
      "outputs": [],
      "source": [
        "def mean_squared_error(a, b):\n",
        "  t = 0\n",
        "  n = 0\n",
        "  \n",
        "  for i in range(a.shape[0]):\n",
        "    for j in range(a.shape[1]):\n",
        "      for k in range(a.shape[2]):\n",
        "        t += (a[i][j][k] - b[i][j][k])**2\n",
        "        n += 1\n",
        "  \n",
        "  t /= n\n",
        "\n",
        "  return t"
      ]
    },
    {
      "cell_type": "code",
      "execution_count": null,
      "metadata": {
        "colab": {
          "background_save": true
        },
        "id": "LBlKgFySkzSL"
      },
      "outputs": [],
      "source": [
        "def peak_signal_to_noise_ratio(mse):\n",
        "  return 10 * math.log10((255**2)/(mse))"
      ]
    },
    {
      "cell_type": "code",
      "execution_count": null,
      "metadata": {
        "colab": {
          "background_save": true
        },
        "id": "1XY9_ee9mk1u",
        "outputId": "b7e7c16a-c47d-49a0-b736-c609f91c9836"
      },
      "outputs": [
        {
          "name": "stderr",
          "output_type": "stream",
          "text": [
            "100%|██████████| 10000/10000 [00:01<00:00, 5004.22it/s]\n"
          ]
        }
      ],
      "source": [
        "images = []\n",
        "\n",
        "for fileName in tqdm(os.listdir('dataset/')):\n",
        "  img = Image.open('dataset/' + fileName)\n",
        "  images.append(img.convert('RGB'))"
      ]
    },
    {
      "cell_type": "code",
      "execution_count": null,
      "metadata": {
        "colab": {
          "background_save": true
        },
        "id": "NUO6IhBTE-za"
      },
      "outputs": [],
      "source": [
        "images = images[0:4881]"
      ]
    },
    {
      "cell_type": "code",
      "execution_count": null,
      "metadata": {
        "colab": {
          "background_save": true
        },
        "id": "wTCnH-Spk3l6"
      },
      "outputs": [],
      "source": [
        "dataset_imagens_originais = []\n",
        "\n",
        "for img in images:\n",
        "  arr = np.asarray(img, dtype='int')\n",
        "\n",
        "  if len(arr.shape) == 3:\n",
        "    dataset_imagens_originais.append(arr)\n",
        "\n",
        "dataset_imagens_originais = np.array(dataset_imagens_originais)"
      ]
    },
    {
      "cell_type": "code",
      "execution_count": null,
      "metadata": {
        "colab": {
          "background_save": true
        },
        "id": "02H8dXO5mOWd",
        "outputId": "2792edaa-bf19-4cb0-ae6a-349abe4f008f"
      },
      "outputs": [
        {
          "name": "stderr",
          "output_type": "stream",
          "text": [
            "100%|██████████| 4881/4881 [00:01<00:00, 3310.82it/s]\n"
          ]
        }
      ],
      "source": [
        "images_stegano = []\n",
        "\n",
        "listaFileName = os.listdir('dataset_esteganografia/')\n",
        "listaFileName.sort()\n",
        "\n",
        "for fileName in tqdm(listaFileName):\n",
        "  img = Image.open('dataset_esteganografia/' + fileName)\n",
        "  images_stegano.append(img)"
      ]
    },
    {
      "cell_type": "code",
      "execution_count": null,
      "metadata": {
        "colab": {
          "background_save": true
        },
        "id": "0T2K63HHl3YP"
      },
      "outputs": [],
      "source": [
        "dataset_imagens_esteganografia = []\n",
        "\n",
        "for img in images_stegano:\n",
        "  arr = np.asarray(img, dtype='int')\n",
        "\n",
        "  if len(arr.shape) == 3:\n",
        "    dataset_imagens_esteganografia.append(arr)\n",
        "\n",
        "dataset_imagens_esteganografia = np.array(dataset_imagens_esteganografia)"
      ]
    },
    {
      "cell_type": "code",
      "execution_count": null,
      "metadata": {
        "colab": {
          "background_save": true
        },
        "id": "ocTJWvICmdZS"
      },
      "outputs": [],
      "source": [
        "diff = np.abs(dataset_imagens_originais - dataset_imagens_esteganografia)"
      ]
    },
    {
      "cell_type": "code",
      "execution_count": null,
      "metadata": {
        "colab": {
          "background_save": true
        },
        "id": "-gpmvf8emfcC",
        "outputId": "5f00cfe8-0935-4559-e0f0-9ea70a5c7a84"
      },
      "outputs": [
        {
          "name": "stderr",
          "output_type": "stream",
          "text": [
            "Clipping input data to the valid range for imshow with RGB data ([0..1] for floats or [0..255] for integers).\n",
            "Clipping input data to the valid range for imshow with RGB data ([0..1] for floats or [0..255] for integers).\n",
            "Clipping input data to the valid range for imshow with RGB data ([0..1] for floats or [0..255] for integers).\n",
            "Clipping input data to the valid range for imshow with RGB data ([0..1] for floats or [0..255] for integers).\n",
            "Clipping input data to the valid range for imshow with RGB data ([0..1] for floats or [0..255] for integers).\n"
          ]
        },
        {
          "data": {
            "image/png": "[encoded data removed]",
            "text/plain": [
              "<Figure size 1080x432 with 15 Axes>"
            ]
          },
          "metadata": {},
          "output_type": "display_data"
        }
      ],
      "source": [
        "n = 5\n",
        "plt.figure(figsize=(15, 6))\n",
        "for i in range(n):\n",
        "  ax = plt.subplot(3, n, i + 1)\n",
        "  plt.imshow(dataset_imagens_originais[i])\n",
        "  plt.title(\"original\")\n",
        "  plt.gray()\n",
        "  ax.get_xaxis().set_visible(False)\n",
        "  ax.get_yaxis().set_visible(False)\n",
        "\n",
        "  ax = plt.subplot(3, n, i + 1 + n)\n",
        "  plt.imshow(dataset_imagens_esteganografia[i])\n",
        "  plt.title(\"Codificada\")\n",
        "  plt.gray()\n",
        "  ax.get_xaxis().set_visible(False)\n",
        "  ax.get_yaxis().set_visible(False)\n",
        "    \n",
        "  ax = plt.subplot(3, n, i + 1 + n + n)\n",
        "  plt.imshow(diff[i] * 10)\n",
        "  plt.title(\"Diferença\")\n",
        "  plt.gray()\n",
        "  ax.get_xaxis().set_visible(False)\n",
        "  ax.get_yaxis().set_visible(False)\n",
        "\n",
        "plt.savefig('dieferença_imagens.png')\n",
        "plt.show()"
      ]
    },
    {
      "cell_type": "code",
      "execution_count": null,
      "metadata": {
        "colab": {
          "background_save": true
        },
        "id": "IXulAebam9r5",
        "outputId": "59bd48ea-0333-4709-bac7-0c8f83d5bf3c"
      },
      "outputs": [
        {
          "name": "stdout",
          "output_type": "stream",
          "text": [
            "Quantidade de imagens com erro de codificação:  12\n",
            "\n",
            "MSE Médio: 61.818727194868\n",
            "PSNR Médio: 31.453898479389846\n",
            "SSIM Médio: 0.9975414874001229\n"
          ]
        }
      ],
      "source": [
        "mseMedio = 0\n",
        "psnrMedio = 0\n",
        "ssimMedio = 0\n",
        "\n",
        "mseVet = []\n",
        "psnrVet = []\n",
        "ssimVet = []\n",
        "\n",
        "imagensComErroDeCodificacao = []\n",
        "\n",
        "for i in range(dataset_imagens_originais.shape[0]):\n",
        "  mse = mean_squared_error(dataset_imagens_originais[i], dataset_imagens_esteganografia[i])\n",
        "  mseMedio += mse\n",
        "\n",
        "  if mse >= 200:\n",
        "    imagensComErroDeCodificacao.append(mse)\n",
        "    continue\n",
        "\n",
        "  mseVet.append(mse)\n",
        "\n",
        "  psnr = peak_signal_to_noise_ratio(mse)\n",
        "  psnrMedio += psnr\n",
        "  psnrVet.append(psnr)\n",
        "\n",
        "  ssim = structural_similarity(dataset_imagens_originais[i], dataset_imagens_esteganografia[i], multichannel=True)\n",
        "  ssimMedio += ssim\n",
        "  ssimVet.append(ssim)\n",
        "\n",
        "mseMedio /= dataset_imagens_originais.shape[0]\n",
        "psnrMedio /= dataset_imagens_originais.shape[0]\n",
        "ssimMedio /= dataset_imagens_originais.shape[0]\n",
        "\n",
        "print('Quantidade de imagens com erro de codificação: ', str(len(imagensComErroDeCodificacao)))\n",
        "\n",
        "print()\n",
        "\n",
        "print('MSE Médio:', mseMedio)\n",
        "print('PSNR Médio:', psnrMedio)\n",
        "print('SSIM Médio:', ssimMedio)"
      ]
    },
    {
      "cell_type": "code",
      "execution_count": null,
      "metadata": {
        "colab": {
          "background_save": true,
          "referenced_widgets": [
            "a86e7f238af244de9ed0c964c0ba4187",
            "f1c6f78830704a62a8943c560fccd0c1"
          ]
        },
        "id": "pPa_qPPpnj01",
        "outputId": "4f54e24b-fa28-46e3-cd81-b68c6f03425a"
      },
      "outputs": [
        {
          "name": "stdout",
          "output_type": "stream",
          "text": [
            "Setting up [LPIPS] perceptual loss: trunk [alex], v[0.1], spatial [off]\n"
          ]
        },
        {
          "name": "stderr",
          "output_type": "stream",
          "text": [
            "Downloading: \"https://download.pytorch.org/models/alexnet-owt-7be5be79.pth\" to /root/.cache/torch/hub/checkpoints/alexnet-owt-7be5be79.pth\n"
          ]
        },
        {
          "data": {
            "application/vnd.jupyter.widget-view+json": {
              "model_id": "a86e7f238af244de9ed0c964c0ba4187",
              "version_major": 2,
              "version_minor": 0
            },
            "text/plain": [
              "  0%|          | 0.00/233M [00:00<?, ?B/s]"
            ]
          },
          "metadata": {},
          "output_type": "display_data"
        },
        {
          "name": "stdout",
          "output_type": "stream",
          "text": [
            "Loading model from: /usr/local/lib/python3.7/dist-packages/lpips/weights/v0.1/alex.pth\n",
            "Setting up [LPIPS] perceptual loss: trunk [vgg], v[0.1], spatial [off]\n"
          ]
        },
        {
          "name": "stderr",
          "output_type": "stream",
          "text": [
            "Downloading: \"https://download.pytorch.org/models/vgg16-397923af.pth\" to /root/.cache/torch/hub/checkpoints/vgg16-397923af.pth\n"
          ]
        },
        {
          "data": {
            "application/vnd.jupyter.widget-view+json": {
              "model_id": "f1c6f78830704a62a8943c560fccd0c1",
              "version_major": 2,
              "version_minor": 0
            },
            "text/plain": [
              "  0%|          | 0.00/528M [00:00<?, ?B/s]"
            ]
          },
          "metadata": {},
          "output_type": "display_data"
        },
        {
          "name": "stdout",
          "output_type": "stream",
          "text": [
            "Loading model from: /usr/local/lib/python3.7/dist-packages/lpips/weights/v0.1/vgg.pth\n"
          ]
        }
      ],
      "source": [
        "loss_fn_alex = lpips.LPIPS(net='alex') # best forward scores\n",
        "loss_fn_vgg = lpips.LPIPS(net='vgg') # closer to \"traditional\" perceptual loss, when used for optimization"
      ]
    },
    {
      "cell_type": "code",
      "execution_count": null,
      "metadata": {
        "colab": {
          "background_save": true
        },
        "id": "ozxaW5BonpHK"
      },
      "outputs": [],
      "source": [
        "dataset_imagens_originais = (dataset_imagens_originais - 127.5) / 127.5\n",
        "dataset_imagens_esteganografia = (dataset_imagens_esteganografia - 127.5) / 127.5"
      ]
    },
    {
      "cell_type": "code",
      "execution_count": null,
      "metadata": {
        "colab": {
          "background_save": true
        },
        "id": "CYS4xUa0oNbh"
      },
      "outputs": [],
      "source": [
        "dataset_imagens_originais_t = []\n",
        "dataset_imagens_esteganografia_t = []\n",
        "\n",
        "for idx, i in enumerate(dataset_imagens_originais):\n",
        "  \n",
        "  if idx in imagensComErroDeCodificacao:\n",
        "    continue\n",
        "\n",
        "  dataset_imagens_originais_t.append(i.T)\n",
        "\n",
        "for idx, i in enumerate(dataset_imagens_esteganografia):\n",
        "\n",
        "  if idx in imagensComErroDeCodificacao:\n",
        "    continue\n",
        "\n",
        "  dataset_imagens_esteganografia_t.append(i.T)\n",
        "\n",
        "dataset_imagens_originais_t = np.array(dataset_imagens_originais_t)\n",
        "dataset_imagens_esteganografia_t = np.array(dataset_imagens_esteganografia_t)"
      ]
    },
    {
      "cell_type": "code",
      "execution_count": null,
      "metadata": {
        "colab": {
          "background_save": true
        },
        "id": "btxVYjuXoPvZ"
      },
      "outputs": [],
      "source": [
        "alex = []\n",
        "leng = len(dataset_imagens_originais_t)\n",
        "\n",
        "for i in range(0, leng, 500):\n",
        "  alex.append(loss_fn_alex(torch.from_numpy(dataset_imagens_originais_t[i:min(i+500, leng)]).float(), torch.from_numpy(dataset_imagens_esteganografia_t[i:min(i+500, leng)]).float()))"
      ]
    },
    {
      "cell_type": "code",
      "execution_count": null,
      "metadata": {
        "colab": {
          "background_save": true
        },
        "id": "l28a8dqVoR2u"
      },
      "outputs": [],
      "source": [
        "vgg = []\n",
        "leng = len(dataset_imagens_originais_t)\n",
        "\n",
        "for i in range(0, leng, 500):\n",
        "  vgg.append(loss_fn_vgg(torch.from_numpy(dataset_imagens_originais_t[i:min(i+500, leng)]).float(), torch.from_numpy(dataset_imagens_esteganografia_t[i:min(i+500, leng)]).float()))"
      ]
    },
    {
      "cell_type": "code",
      "execution_count": null,
      "metadata": {
        "colab": {
          "background_save": true
        },
        "id": "L5EZNmqKod_C"
      },
      "outputs": [],
      "source": [
        "alexNp = []\n",
        "vggNp = []\n",
        "\n",
        "for i in alex:\n",
        "  alexNp.append(i.cpu().detach().numpy())\n",
        "\n",
        "for i in vgg:\n",
        "  vggNp.append(i.cpu().detach().numpy())"
      ]
    },
    {
      "cell_type": "code",
      "execution_count": null,
      "metadata": {
        "colab": {
          "background_save": true
        },
        "id": "GprSOA6zogDC"
      },
      "outputs": [],
      "source": [
        "alexVet = []\n",
        "vggVet = []\n",
        "\n",
        "for i in range(len(alexNp)):\n",
        "  for j in range(alexNp[i].shape[0]):\n",
        "    alexVet.append(alexNp[i][j][0][0][0])\n",
        "    vggVet.append(vggNp[i][j][0][0][0])\n",
        "\n",
        "alexVet = np.array(alexVet)\n",
        "vggVet = np.array(vggVet)"
      ]
    },
    {
      "cell_type": "code",
      "execution_count": null,
      "metadata": {
        "colab": {
          "background_save": true
        },
        "id": "_LEChir_oiCj",
        "outputId": "571e5d27-8fae-40c0-eced-8ad8a2500c6b"
      },
      "outputs": [
        {
          "name": "stdout",
          "output_type": "stream",
          "text": [
            "Alex Médio: 0.0034174968\n",
            "VGG Médio: 0.027195126\n"
          ]
        }
      ],
      "source": [
        "print('Alex Médio:', alexVet.mean())\n",
        "print('VGG Médio:', vggVet.mean())"
      ]
    },
    {
      "cell_type": "code",
      "execution_count": null,
      "metadata": {
        "colab": {
          "background_save": true
        },
        "id": "gWnctN_2oj4k",
        "outputId": "1d1a20cb-ced7-44e9-ae62-0221c797e9b8"
      },
      "outputs": [
        {
          "data": {
            "image/png": "[encoded data removed]",
            "text/plain": [
              "<Figure size 432x288 with 1 Axes>"
            ]
          },
          "metadata": {},
          "output_type": "display_data"
        }
      ],
      "source": [
        "legend = []\n",
        "\n",
        "plt.plot(mseVet)\n",
        "legend.append('MSE')\n",
        "plt.plot(psnrVet)\n",
        "legend.append('PSNR')\n",
        "plt.title('Medida de semelhança por imagem')\n",
        "plt.ylabel('Medida de semelhança')\n",
        "plt.xlabel('Imagem')\n",
        "plt.legend(legend, loc='upper left')\n",
        "plt.savefig('medida_de_semelhança_por_imagem_1.png')\n",
        "plt.show()"
      ]
    },
    {
      "cell_type": "code",
      "execution_count": null,
      "metadata": {
        "colab": {
          "background_save": true
        },
        "id": "ENdFrHfLomV3",
        "outputId": "7a650e74-5575-42b6-9f25-79d8548b81cc"
      },
      "outputs": [
        {
          "data": {
            "image/png": "[encoded data removed]",
            "text/plain": [
              "<Figure size 432x288 with 1 Axes>"
            ]
          },
          "metadata": {},
          "output_type": "display_data"
        }
      ],
      "source": [
        "legend = []\n",
        "\n",
        "plt.plot(ssimVet)\n",
        "legend.append('SSIM')\n",
        "plt.plot(alexVet)\n",
        "legend.append('ALEX')\n",
        "plt.plot(vggVet)\n",
        "legend.append('VGG')\n",
        "plt.title('Medida de semelhança por imagem')\n",
        "plt.ylabel('Medida de semelhança')\n",
        "plt.xlabel('Imagem')\n",
        "plt.legend(legend, loc='upper left')\n",
        "plt.savefig('medida_de_semelhança_por_imagem_2.png')\n",
        "plt.show()"
      ]
    },
    {
      "cell_type": "code",
      "execution_count": null,
      "metadata": {
        "colab": {
          "background_save": true
        },
        "id": "i4xGFs9EGqNt",
        "outputId": "97bd82c9-6ed1-4835-d42d-f716fa4da322"
      },
      "outputs": [
        {
          "name": "stdout",
          "output_type": "stream",
          "text": [
            "--- Execution time: 966.6687595844269 seconds ---\n"
          ]
        }
      ],
      "source": [
        "print(\"--- Execution time: %s seconds ---\" % (time.time() - start_time))"
      ]
    },
    {
      "cell_type": "code",
      "execution_count": null,
      "metadata": {
        "colab": {
          "background_save": true
        },
        "id": "32F-UT0aTha7"
      },
      "outputs": [],
      "source": [
        ""
      ]
    }
  ],
  "metadata": {
    "colab": {
      "background_execution": "on",
      "collapsed_sections": [],
      "machine_shape": "hm",
      "name": "DCT - JPEG - Tiny.ipynb",
      "provenance": []
    },
    "kernelspec": {
      "display_name": "Python 3",
      "name": "python3"
    },
    "language_info": {
      "name": "python"
    }
  },
  "nbformat": 4,
  "nbformat_minor": 0
}
{
  "cells": [
    {
      "cell_type": "code",
      "execution_count": null,
      "metadata": {
        "colab": {
          "base_uri": "https://localhost:8080/"
        },
        "id": "o2kGEYKDnFAN",
        "outputId": "0ef7408f-21fb-4954-c02d-36ab82dd9f72"
      },
      "outputs": [
        {
          "name": "stdout",
          "output_type": "stream",
          "text": [
            "Looking in indexes: https://pypi.org/simple, https://us-python.pkg.dev/colab-wheels/public/simple/\n",
            "Collecting bitarray\n",
            "  Downloading bitarray-2.5.1-cp37-cp37m-manylinux_2_17_x86_64.manylinux2014_x86_64.whl (236 kB)\n",
            "\u001b[K     |████████████████████████████████| 236 kB 4.3 MB/s \n",
            "\u001b[?25hInstalling collected packages: bitarray\n",
            "Successfully installed bitarray-2.5.1\n"
          ]
        }
      ],
      "source": [
        "!pip3 install bitarray"
      ]
    },
    {
      "cell_type": "code",
      "execution_count": null,
      "metadata": {
        "colab": {
          "base_uri": "https://localhost:8080/"
        },
        "id": "mOFnESOeoCGU",
        "outputId": "04880077-317e-42a9-e36f-1e039c2e55ad"
      },
      "outputs": [
        {
          "name": "stdout",
          "output_type": "stream",
          "text": [
            "Looking in indexes: https://pypi.org/simple, https://us-python.pkg.dev/colab-wheels/public/simple/\n",
            "Collecting lpips\n",
            "  Downloading lpips-0.1.4-py3-none-any.whl (53 kB)\n",
            "\u001b[K     |████████████████████████████████| 53 kB 1.1 MB/s \n",
            "\u001b[?25hRequirement already satisfied: torchvision>=0.2.1 in /usr/local/lib/python3.7/dist-packages (from lpips) (0.12.0+cu113)\n",
            "Requirement already satisfied: numpy>=1.14.3 in /usr/local/lib/python3.7/dist-packages (from lpips) (1.21.6)\n",
            "Requirement already satisfied: tqdm>=4.28.1 in /usr/local/lib/python3.7/dist-packages (from lpips) (4.64.0)\n",
            "Requirement already satisfied: scipy>=1.0.1 in /usr/local/lib/python3.7/dist-packages (from lpips) (1.4.1)\n",
            "Requirement already satisfied: torch>=0.4.0 in /usr/local/lib/python3.7/dist-packages (from lpips) (1.11.0+cu113)\n",
            "Requirement already satisfied: typing-extensions in /usr/local/lib/python3.7/dist-packages (from torch>=0.4.0->lpips) (4.2.0)\n",
            "Requirement already satisfied: pillow!=8.3.*,>=5.3.0 in /usr/local/lib/python3.7/dist-packages (from torchvision>=0.2.1->lpips) (7.1.2)\n",
            "Requirement already satisfied: requests in /usr/local/lib/python3.7/dist-packages (from torchvision>=0.2.1->lpips) (2.23.0)\n",
            "Requirement already satisfied: urllib3!=1.25.0,!=1.25.1,<1.26,>=1.21.1 in /usr/local/lib/python3.7/dist-packages (from requests->torchvision>=0.2.1->lpips) (1.24.3)\n",
            "Requirement already satisfied: certifi>=2017.4.17 in /usr/local/lib/python3.7/dist-packages (from requests->torchvision>=0.2.1->lpips) (2022.5.18.1)\n",
            "Requirement already satisfied: chardet<4,>=3.0.2 in /usr/local/lib/python3.7/dist-packages (from requests->torchvision>=0.2.1->lpips) (3.0.4)\n",
            "Requirement already satisfied: idna<3,>=2.5 in /usr/local/lib/python3.7/dist-packages (from requests->torchvision>=0.2.1->lpips) (2.10)\n",
            "Installing collected packages: lpips\n",
            "Successfully installed lpips-0.1.4\n"
          ]
        }
      ],
      "source": [
        "!pip install lpips"
      ]
    },
    {
      "cell_type": "code",
      "execution_count": null,
      "metadata": {
        "id": "tRLv7VDPTHBl"
      },
      "outputs": [],
      "source": [
        "from struct import unpack\n",
        "from tkinter import *\n",
        "from bitarray import bitarray\n",
        "from bitarray.util import int2ba\n",
        "from PIL import Image\n",
        "from scipy.fftpack import dct\n",
        "from tqdm import tqdm\n",
        "from skimage.metrics import structural_similarity\n",
        "import matplotlib.pyplot as plt\n",
        "import numpy as np\n",
        "import math\n",
        "import time\n",
        "import string\n",
        "import random\n",
        "import lpips\n",
        "import torch\n",
        "import os"
      ]
    },
    {
      "cell_type": "code",
      "execution_count": null,
      "metadata": {
        "id": "ihlEbmTBTWFH"
      },
      "outputs": [],
      "source": [
        "start_time = time.time()"
      ]
    },
    {
      "cell_type": "code",
      "execution_count": null,
      "metadata": {
        "id": "Yng4_rAKlQVt"
      },
      "outputs": [],
      "source": [
        "os.environ['PYTHONHASHSEED']=str(456)\n",
        "np.random.seed(456)\n",
        "random.seed(456)"
      ]
    },
    {
      "cell_type": "code",
      "execution_count": null,
      "metadata": {
        "colab": {
          "base_uri": "https://localhost:8080/"
        },
        "id": "NBdQcTvQX62M",
        "outputId": "12ffe2c7-aef1-4e8c-e4e7-c3188bf742e7"
      },
      "outputs": [
        {
          "name": "stderr",
          "output_type": "stream",
          "text": [
            "100%|██████████| 4881/4881 [00:00<00:00, 9794.00it/s] \n"
          ]
        }
      ],
      "source": [
        "images = []\n",
        "\n",
        "for fileName in tqdm(os.listdir('dataset/')):\n",
        "  img = Image.open('dataset/' + fileName)\n",
        "  images.append(img)"
      ]
    },
    {
      "cell_type": "code",
      "execution_count": null,
      "metadata": {
        "colab": {
          "base_uri": "https://localhost:8080/"
        },
        "id": "pD5554oINODi",
        "outputId": "317ef43a-061d-413f-e898-12bb97a52bb5"
      },
      "outputs": [
        {
          "data": {
            "text/plain": [
              "4881"
            ]
          },
          "execution_count": 7,
          "metadata": {},
          "output_type": "execute_result"
        }
      ],
      "source": [
        "len(images)"
      ]
    },
    {
      "cell_type": "code",
      "execution_count": null,
      "metadata": {
        "colab": {
          "base_uri": "https://localhost:8080/"
        },
        "id": "2Tu1tw6sX_oN",
        "outputId": "3acb48a3-d10f-4e1d-a8e7-114e408f7cb3"
      },
      "outputs": [
        {
          "name": "stderr",
          "output_type": "stream",
          "text": [
            "100%|██████████| 4881/4881 [00:01<00:00, 3604.80it/s]\n"
          ]
        }
      ],
      "source": [
        "imagesYCbCr = []\n",
        "\n",
        "for img in tqdm(images):\n",
        "  imgYCbCr = img.convert('YCbCr')\n",
        "  imagesYCbCr.append(imgYCbCr)"
      ]
    },
    {
      "cell_type": "code",
      "execution_count": null,
      "metadata": {
        "colab": {
          "base_uri": "https://localhost:8080/"
        },
        "id": "620wYzKYYCXa",
        "outputId": "0df3d9e1-db1c-4363-fa0d-815162bbae78"
      },
      "outputs": [
        {
          "name": "stderr",
          "output_type": "stream",
          "text": [
            "100%|██████████| 4881/4881 [00:00<00:00, 18571.75it/s]\n"
          ]
        }
      ],
      "source": [
        "imagesArray = []\n",
        "\n",
        "for imgYCbCr in tqdm(imagesYCbCr):\n",
        "  imgArray = np.asarray(imgYCbCr, dtype='int32')\n",
        "\n",
        "  if imgArray.shape[2] != 3:\n",
        "    continue\n",
        "\n",
        "  imagesArray.append(imgArray)"
      ]
    },
    {
      "cell_type": "code",
      "execution_count": null,
      "metadata": {
        "colab": {
          "base_uri": "https://localhost:8080/"
        },
        "id": "fsPVbs83YEhg",
        "outputId": "106e6ed0-a2ab-416f-fdc0-038a2789b793"
      },
      "outputs": [
        {
          "name": "stderr",
          "output_type": "stream",
          "text": [
            "100%|██████████| 4881/4881 [00:00<00:00, 8648.77it/s]\n"
          ]
        }
      ],
      "source": [
        "imagesArrayPad = []\n",
        "\n",
        "for imgArray in tqdm(imagesArray):\n",
        "  dimX = imgArray.shape[0]\n",
        "  dimY = imgArray.shape[1]\n",
        "  nCanais = imgArray.shape[2]\n",
        "\n",
        "  padX = (8 - (dimX % 8)) % 8\n",
        "  padY = (8 - (dimY % 8)) % 8\n",
        "\n",
        "  imgArrayPad = np.pad(imgArray, ((0, padX), (0, padY), (0, 0)), 'edge')\n",
        "  imagesArrayPad.append(imgArrayPad)"
      ]
    },
    {
      "cell_type": "code",
      "execution_count": null,
      "metadata": {
        "colab": {
          "base_uri": "https://localhost:8080/"
        },
        "id": "t8yLgSEZ0yK_",
        "outputId": "29fef431-429d-4500-b38c-54b5af631868"
      },
      "outputs": [
        {
          "name": "stderr",
          "output_type": "stream",
          "text": [
            "100%|██████████| 4881/4881 [00:00<00:00, 843005.88it/s]\n"
          ]
        }
      ],
      "source": [
        "bytes_por_imagem = []\n",
        "espaco_bits_mensagem_secreta = []\n",
        "espaco_bytes_mensagem_secreta = []\n",
        "\n",
        "for imgArrayPad in tqdm(imagesArrayPad):\n",
        "  x1 = imgArrayPad.shape[0] * imgArrayPad.shape[1]\n",
        "  x2 = x1 // 64\n",
        "\n",
        "  bytes_por_imagem.append(x1)\n",
        "  espaco_bits_mensagem_secreta.append(x2)\n",
        "  espaco_bytes_mensagem_secreta.append(x2 // 8)"
      ]
    },
    {
      "cell_type": "code",
      "execution_count": null,
      "metadata": {
        "colab": {
          "base_uri": "https://localhost:8080/"
        },
        "id": "7op3AP9y00e3",
        "outputId": "0febdbf0-a458-476d-c7f3-6f7902fc1923"
      },
      "outputs": [
        {
          "name": "stderr",
          "output_type": "stream",
          "text": [
            "100%|██████████| 4881/4881 [00:00<00:00, 89396.77it/s]\n"
          ]
        }
      ],
      "source": [
        "mensagens_secreta = []\n",
        "\n",
        "for tamanho in tqdm(espaco_bytes_mensagem_secreta):\n",
        "  mensagem = ''.join(random.choice(string.ascii_uppercase + string.ascii_lowercase + string.digits) for _ in range(tamanho))\n",
        "  mensagens_secreta.append(mensagem)"
      ]
    },
    {
      "cell_type": "code",
      "execution_count": null,
      "metadata": {
        "colab": {
          "base_uri": "https://localhost:8080/"
        },
        "id": "Xtx-mvvc00mc",
        "outputId": "222374f1-c540-4d51-a44c-3454022ae315"
      },
      "outputs": [
        {
          "name": "stderr",
          "output_type": "stream",
          "text": [
            "100%|██████████| 4881/4881 [00:00<00:00, 36042.00it/s]\n"
          ]
        }
      ],
      "source": [
        "lista_bitarray_mensagem = []\n",
        "\n",
        "for mensagem in tqdm(mensagens_secreta):\n",
        "  bitarray_mensagem = bitarray()\n",
        "  \n",
        "  for caracter in mensagem:\n",
        "    bitarray_mensagem += int2ba(ord(caracter), length=8)\n",
        "\n",
        "  lista_bitarray_mensagem.append(bitarray_mensagem)"
      ]
    },
    {
      "cell_type": "code",
      "execution_count": null,
      "metadata": {
        "colab": {
          "base_uri": "https://localhost:8080/"
        },
        "id": "aIowbrLuYL0V",
        "outputId": "da3f6be0-fd02-4cba-9a36-29563b51ebde"
      },
      "outputs": [
        {
          "name": "stderr",
          "output_type": "stream",
          "text": [
            "100%|██████████| 4881/4881 [00:00<00:00, 91300.48it/s]\n"
          ]
        }
      ],
      "source": [
        "for i in tqdm(range(len(imagesArrayPad))):\n",
        "  imagesArrayPad[i] -= 128"
      ]
    },
    {
      "cell_type": "code",
      "execution_count": null,
      "metadata": {
        "colab": {
          "base_uri": "https://localhost:8080/"
        },
        "id": "z-GKjzspYN9A",
        "outputId": "0b7cb177-2704-4644-9ccf-65ae9fcf2b48"
      },
      "outputs": [
        {
          "name": "stderr",
          "output_type": "stream",
          "text": [
            "100%|██████████| 4881/4881 [00:00<00:00, 1226847.12it/s]\n"
          ]
        }
      ],
      "source": [
        "comprimentoX = []\n",
        "comprimentoY = []\n",
        "\n",
        "for imgArrayPad in tqdm(imagesArrayPad):\n",
        "  comprimentoX.append(imgArrayPad.shape[0])\n",
        "  comprimentoY.append(imgArrayPad.shape[1])"
      ]
    },
    {
      "cell_type": "code",
      "execution_count": null,
      "metadata": {
        "colab": {
          "base_uri": "https://localhost:8080/"
        },
        "id": "OcteHr_VYQjB",
        "outputId": "eb9ddc1f-cecf-48f5-cdee-c2b0bd1b2aa1"
      },
      "outputs": [
        {
          "name": "stderr",
          "output_type": "stream",
          "text": [
            "100%|██████████| 4881/4881 [00:00<00:00, 514007.33it/s]\n"
          ]
        }
      ],
      "source": [
        "listaMatY = []\n",
        "listaMatCb = []\n",
        "listaMatCr = []\n",
        "\n",
        "for imgArrayPad in tqdm(imagesArrayPad):\n",
        "  matY, matCb, matCr  = imgArrayPad[:,:,0], imgArrayPad[:,:,1], imgArrayPad[:,:,2]\n",
        "\n",
        "  listaMatY.append(matY)\n",
        "  listaMatCb.append(matCb)\n",
        "  listaMatCr.append(matCr)"
      ]
    },
    {
      "cell_type": "code",
      "execution_count": null,
      "metadata": {
        "colab": {
          "base_uri": "https://localhost:8080/"
        },
        "id": "uZWoH8KcYSyW",
        "outputId": "b864d448-2e9a-4288-8f3d-d38176dfe30d"
      },
      "outputs": [
        {
          "name": "stderr",
          "output_type": "stream",
          "text": [
            "100%|██████████| 4881/4881 [00:01<00:00, 3786.13it/s]\n"
          ]
        }
      ],
      "source": [
        "listaBlocosY = []\n",
        "listaBlocosCb = []\n",
        "listaBlocosCr = []\n",
        "\n",
        "for z in tqdm(range(len(listaMatY))):\n",
        "  blocosY = []\n",
        "  blocosCb = []\n",
        "  blocosCr = []\n",
        "\n",
        "  for i in range(0, comprimentoX[z], 8):\n",
        "      for j in range(0, comprimentoY[z], 8):\n",
        "          blocosY.append(listaMatY[z][i:i+8, j:j+8])\n",
        "          blocosCb.append(listaMatCb[z][i:i+8, j:j+8])\n",
        "          blocosCr.append(listaMatCr[z][i:i+8, j:j+8])\n",
        "          \n",
        "  blocosY = np.array(blocosY)\n",
        "  blocosCb = np.array(blocosCb)\n",
        "  blocosCr = np.array(blocosCr)\n",
        "\n",
        "  listaBlocosY.append(blocosY)\n",
        "  listaBlocosCb.append(blocosCb)\n",
        "  listaBlocosCr.append(blocosCr)"
      ]
    },
    {
      "cell_type": "code",
      "execution_count": null,
      "metadata": {
        "id": "HW0tQYNIYU7W"
      },
      "outputs": [],
      "source": [
        "def dct2(x):\n",
        "    m0 = 2.0 * math.cos(1.0 / 16.0 * 2.0 * math.pi)\n",
        "    m1 = 2.0 * math.cos(2.0 / 16.0 * 2.0 * math.pi)\n",
        "    m3 = 2.0 * math.cos(2.0 / 16.0 * 2.0 * math.pi)\n",
        "    m5 = 2.0 * math.cos(3.0 / 16.0 * 2.0 * math.pi)\n",
        "    m2 = m0 - m5\n",
        "    m4 = m0 + m5\n",
        "    \n",
        "    s0 = math.cos(0.0 / 16.0 * math.pi) / math.sqrt(8)\n",
        "    s1 = math.cos(1.0 / 16.0 * math.pi) / 2.0\n",
        "    s2 = math.cos(2.0 / 16.0 * math.pi) / 2.0\n",
        "    s3 = math.cos(3.0 / 16.0 * math.pi) / 2.0\n",
        "    s4 = math.cos(4.0 / 16.0 * math.pi) / 2.0\n",
        "    s5 = math.cos(5.0 / 16.0 * math.pi) / 2.0\n",
        "    s6 = math.cos(6.0 / 16.0 * math.pi) / 2.0\n",
        "    s7 = math.cos(7.0 / 16.0 * math.pi) / 2.0\n",
        "    \n",
        "    for i in range(8):\n",
        "        a0 = x[0][i]\n",
        "        a1 = x[1][i]\n",
        "        a2 = x[2][i]\n",
        "        a3 = x[3][i]\n",
        "        a4 = x[4][i]\n",
        "        a5 = x[5][i]\n",
        "        a6 = x[6][i]\n",
        "        a7 = x[7][i]\n",
        "\n",
        "        b0 = a0 + a7\n",
        "        b1 = a1 + a6\n",
        "        b2 = a2 + a5\n",
        "        b3 = a3 + a4\n",
        "        b4 = a3 - a4\n",
        "        b5 = a2 - a5\n",
        "        b6 = a1 - a6\n",
        "        b7 = a0 - a7\n",
        "\n",
        "        c0 = b0 + b3\n",
        "        c1 = b1 + b2\n",
        "        c2 = b1 - b2\n",
        "        c3 = b0 - b3\n",
        "        c4 = b4\n",
        "        c5 = b5 - b4\n",
        "        c6 = b6 - c5\n",
        "        c7 = b7 - b6\n",
        "\n",
        "        d0 = c0 + c1\n",
        "        d1 = c0 - c1\n",
        "        d2 = c2\n",
        "        d3 = c3 - c2\n",
        "        d4 = c4\n",
        "        d5 = c5\n",
        "        d6 = c6\n",
        "        d7 = c5 + c7\n",
        "        d8 = c4 - c6\n",
        "\n",
        "        e0 = d0\n",
        "        e1 = d1\n",
        "        e2 = d2 * m1\n",
        "        e3 = d3\n",
        "        e4 = d4 * m2\n",
        "        e5 = d5 * m3\n",
        "        e6 = d6 * m4\n",
        "        e7 = d7\n",
        "        e8 = d8 * m5\n",
        "\n",
        "        f0 = e0\n",
        "        f1 = e1\n",
        "        f2 = e2 + e3\n",
        "        f3 = e3 - e2\n",
        "        f4 = e4 + e8\n",
        "        f5 = e5 + e7\n",
        "        f6 = e6 + e8\n",
        "        f7 = e7 - e5\n",
        "\n",
        "        g0 = f0\n",
        "        g1 = f1\n",
        "        g2 = f2\n",
        "        g3 = f3\n",
        "        g4 = f4 + f7\n",
        "        g5 = f5 + f6\n",
        "        g6 = f5 - f6\n",
        "        g7 = f7 - f4\n",
        "\n",
        "        x[0][i] = g0 * s0\n",
        "        x[4][i] = g1 * s4\n",
        "        x[2][i] = g2 * s2\n",
        "        x[6][i] = g3 * s6\n",
        "        x[5][i] = g4 * s5\n",
        "        x[1][i] = g5 * s1\n",
        "        x[7][i] = g6 * s7\n",
        "        x[3][i] = g7 * s3\n",
        "        \n",
        "    for i in range(8):\n",
        "        a0 = x[i][0]\n",
        "        a1 = x[i][1]\n",
        "        a2 = x[i][2]\n",
        "        a3 = x[i][3]\n",
        "        a4 = x[i][4]\n",
        "        a5 = x[i][5]\n",
        "        a6 = x[i][6]\n",
        "        a7 = x[i][7]\n",
        "\n",
        "        b0 = a0 + a7\n",
        "        b1 = a1 + a6\n",
        "        b2 = a2 + a5\n",
        "        b3 = a3 + a4\n",
        "        b4 = a3 - a4\n",
        "        b5 = a2 - a5\n",
        "        b6 = a1 - a6\n",
        "        b7 = a0 - a7\n",
        "\n",
        "        c0 = b0 + b3\n",
        "        c1 = b1 + b2\n",
        "        c2 = b1 - b2\n",
        "        c3 = b0 - b3\n",
        "        c4 = b4\n",
        "        c5 = b5 - b4\n",
        "        c6 = b6 - c5\n",
        "        c7 = b7 - b6\n",
        "\n",
        "        d0 = c0 + c1\n",
        "        d1 = c0 - c1\n",
        "        d2 = c2\n",
        "        d3 = c3 - c2\n",
        "        d4 = c4\n",
        "        d5 = c5\n",
        "        d6 = c6\n",
        "        d7 = c5 + c7\n",
        "        d8 = c4 - c6\n",
        "\n",
        "        e0 = d0\n",
        "        e1 = d1\n",
        "        e2 = d2 * m1\n",
        "        e3 = d3\n",
        "        e4 = d4 * m2\n",
        "        e5 = d5 * m3\n",
        "        e6 = d6 * m4\n",
        "        e7 = d7\n",
        "        e8 = d8 * m5\n",
        "\n",
        "        f0 = e0\n",
        "        f1 = e1\n",
        "        f2 = e2 + e3\n",
        "        f3 = e3 - e2\n",
        "        f4 = e4 + e8\n",
        "        f5 = e5 + e7\n",
        "        f6 = e6 + e8\n",
        "        f7 = e7 - e5\n",
        "\n",
        "        g0 = f0\n",
        "        g1 = f1\n",
        "        g2 = f2\n",
        "        g3 = f3\n",
        "        g4 = f4 + f7\n",
        "        g5 = f5 + f6\n",
        "        g6 = f5 - f6\n",
        "        g7 = f7 - f4\n",
        "\n",
        "        x[i][0] = g0 * s0\n",
        "        x[i][4] = g1 * s4\n",
        "        x[i][2] = g2 * s2\n",
        "        x[i][6] = g3 * s6\n",
        "        x[i][5] = g4 * s5\n",
        "        x[i][1] = g5 * s1\n",
        "        x[i][7] = g6 * s7\n",
        "        x[i][3] = g7 * s3\n",
        "        \n",
        "    return x"
      ]
    },
    {
      "cell_type": "code",
      "execution_count": null,
      "metadata": {
        "colab": {
          "background_save": true,
          "base_uri": "https://localhost:8080/"
        },
        "id": "RPCnpP1BYXb-",
        "outputId": "889a4e06-caf8-438b-c1e8-e4e9c65707a1"
      },
      "outputs": [
        {
          "name": "stderr",
          "output_type": "stream",
          "text": [
            "100%|██████████| 4881/4881 [07:13<00:00, 11.26it/s]\n"
          ]
        }
      ],
      "source": [
        "listaDctsY = []\n",
        "listaDctsCb = []\n",
        "listaDctsCr = []\n",
        "\n",
        "for z in tqdm(range(len(listaBlocosY))):\n",
        "  dctsY = []\n",
        "  dctsCb = []\n",
        "  dctsCr = []\n",
        "\n",
        "  for i in range(listaBlocosY[z].shape[0]):\n",
        "      dctsY.append(dct2(listaBlocosY[z][i]))\n",
        "      dctsCb.append(dct2(listaBlocosCb[z][i]))\n",
        "      dctsCr.append(dct2(listaBlocosCr[z][i]))\n",
        "      \n",
        "  dctsY = np.array(dctsY)\n",
        "  dctsCb = np.array(dctsCb)\n",
        "  dctsCr = np.array(dctsCr)\n",
        "\n",
        "  listaDctsY.append(dctsY)\n",
        "  listaDctsCb.append(dctsCb)\n",
        "  listaDctsCr.append(dctsCr)"
      ]
    },
    {
      "cell_type": "code",
      "execution_count": null,
      "metadata": {
        "colab": {
          "background_save": true
        },
        "id": "l2piQvbXYaIf"
      },
      "outputs": [],
      "source": [
        "fatorDeQualidade = 90\n",
        "\n",
        "s = 5000 / fatorDeQualidade\n",
        "\n",
        "if fatorDeQualidade >= 50:\n",
        "    s = 200 - (2 * fatorDeQualidade)"
      ]
    },
    {
      "cell_type": "code",
      "execution_count": null,
      "metadata": {
        "colab": {
          "background_save": true
        },
        "id": "JB0ru9dEYcQj"
      },
      "outputs": [],
      "source": [
        "matrizQuantizacaoPredefinidaLuminancia = np.array(\n",
        "    [\n",
        "        [16, 11, 10, 16, 24, 40, 51, 61],\n",
        "        [12, 12, 14, 19, 26, 58, 60, 55],\n",
        "        [14, 13, 16, 24, 40, 57, 69, 56],\n",
        "        [14, 17, 22, 29, 51, 87, 80, 62],\n",
        "        [18, 22, 37, 56, 68, 109, 103, 77],\n",
        "        [24, 35, 55, 64, 81, 104, 113, 92],\n",
        "        [49, 64, 78, 87, 103, 121, 120, 101],\n",
        "        [72, 92, 95, 98, 112, 100, 103, 99]\n",
        "    ]\n",
        ")\n",
        "\n",
        "matrizQuantizacaoPredefinidaCrominancia = np.array(\n",
        "    [\n",
        "        [17, 18, 24, 47, 99, 99, 99, 99],\n",
        "        [18, 21, 26, 66, 99, 99, 99, 99],\n",
        "        [24, 26, 56, 99, 99, 99, 99, 99],\n",
        "        [47, 66, 99, 99, 99, 99, 99, 99],\n",
        "        [99, 99, 99, 99, 99, 99, 99, 99],\n",
        "        [99, 99, 99, 99, 99, 99, 99, 99],\n",
        "        [99, 99, 99, 99, 99, 99, 99, 99],\n",
        "        [99, 99, 99, 99, 99, 99, 99, 99]\n",
        "    ]\n",
        ")"
      ]
    },
    {
      "cell_type": "code",
      "execution_count": null,
      "metadata": {
        "colab": {
          "background_save": true
        },
        "id": "IHcP94_jYdzN"
      },
      "outputs": [],
      "source": [
        "matrizQuantizacaoLuminancia = np.ones((8, 8))\n",
        "matrizQuantizacaoCrominancia = np.ones((8, 8))"
      ]
    },
    {
      "cell_type": "code",
      "execution_count": null,
      "metadata": {
        "colab": {
          "background_save": true
        },
        "id": "sdBr-YntYfsa"
      },
      "outputs": [],
      "source": [
        "for i in range(8):\n",
        "    for j in range(8):\n",
        "        matrizQuantizacaoLuminancia[i][j] = math.floor((s * matrizQuantizacaoPredefinidaLuminancia[i][j] + 50) / 100)\n",
        "        matrizQuantizacaoCrominancia[i][j] = math.floor((s * matrizQuantizacaoPredefinidaCrominancia[i][j] + 50) / 100)"
      ]
    },
    {
      "cell_type": "code",
      "execution_count": null,
      "metadata": {
        "colab": {
          "background_save": true
        },
        "id": "LJwOd9HKYhdG",
        "outputId": "711271f9-ce13-4109-e495-0bd587997ab9"
      },
      "outputs": [
        {
          "name": "stderr",
          "output_type": "stream",
          "text": [
            "100%|██████████| 4881/4881 [00:04<00:00, 1066.03it/s]\n"
          ]
        }
      ],
      "source": [
        "listaCoeficientesQuantizadosY = []\n",
        "listaCoeficientesQuantizadosCb = []\n",
        "listaCoeficientesQuantizadosCr = []\n",
        "\n",
        "for z in tqdm(range(len(listaDctsY))):\n",
        "  coeficientesQuatizadosY = []\n",
        "  coeficientesQuatizadosCb = []\n",
        "  coeficientesQuatizadosCr = []\n",
        "\n",
        "  for i in range(listaDctsY[z].shape[0]):\n",
        "      coeficientesQuatizadosY.append(listaDctsY[z][i] // matrizQuantizacaoLuminancia)\n",
        "      coeficientesQuatizadosCb.append(listaDctsCb[z][i] // matrizQuantizacaoCrominancia)\n",
        "      coeficientesQuatizadosCr.append(listaDctsCr[z][i] // matrizQuantizacaoCrominancia)\n",
        "      \n",
        "  coeficientesQuatizadosY = np.array(coeficientesQuatizadosY)\n",
        "  coeficientesQuatizadosCb = np.array(coeficientesQuatizadosCb)\n",
        "  coeficientesQuatizadosCr = np.array(coeficientesQuatizadosCr)\n",
        "\n",
        "  listaCoeficientesQuantizadosY.append(coeficientesQuatizadosY)\n",
        "  listaCoeficientesQuantizadosCb.append(coeficientesQuatizadosCb)\n",
        "  listaCoeficientesQuantizadosCr.append(coeficientesQuatizadosCr)"
      ]
    },
    {
      "cell_type": "code",
      "execution_count": null,
      "metadata": {
        "colab": {
          "background_save": true
        },
        "id": "8GIQ_ikrYjcI"
      },
      "outputs": [],
      "source": [
        "matrizZigzag = [\n",
        "            [0, 1, 5, 6, 14, 15, 27, 28],\n",
        "            [2, 4, 7, 13, 16, 26, 29, 42],\n",
        "            [3, 8, 12, 17, 25, 30, 41, 43],\n",
        "            [9, 11, 18, 24, 31, 40, 44, 53],\n",
        "            [10, 19, 23, 32, 39, 45, 52, 54],\n",
        "            [20, 22, 33, 38, 46, 51, 55, 60],\n",
        "            [21, 34, 37, 47, 50, 56, 59, 61],\n",
        "            [35, 36, 48, 49, 57, 58, 62, 63],\n",
        "        ]"
      ]
    },
    {
      "cell_type": "code",
      "execution_count": null,
      "metadata": {
        "colab": {
          "background_save": true
        },
        "id": "q5e5BVS0YlRG",
        "outputId": "14b4f906-a501-4880-9a52-d479eba78af1"
      },
      "outputs": [
        {
          "name": "stderr",
          "output_type": "stream",
          "text": [
            "100%|██████████| 4881/4881 [00:43<00:00, 111.84it/s]\n"
          ]
        }
      ],
      "source": [
        "listaArrayY = []\n",
        "listaArrayCb = []\n",
        "listaArrayCr = []\n",
        "\n",
        "for z in tqdm(range(len(listaCoeficientesQuantizadosY))):\n",
        "  arrayY = []\n",
        "  arrayCb = []\n",
        "  arrayCr = []\n",
        "\n",
        "  for k in range(listaCoeficientesQuantizadosY[z].shape[0]):\n",
        "      tY = np.zeros(64)\n",
        "      tCb = np.zeros(64)\n",
        "      tCr = np.zeros(64)\n",
        "      \n",
        "      for i in range(8):\n",
        "          for j in range(8):\n",
        "              tY[matrizZigzag[i][j]] = listaCoeficientesQuantizadosY[z][k][i][j]\n",
        "              tCb[matrizZigzag[i][j]] = listaCoeficientesQuantizadosCb[z][k][i][j]\n",
        "              tCr[matrizZigzag[i][j]] = listaCoeficientesQuantizadosCr[z][k][i][j]\n",
        "      \n",
        "      arrayY.append(tY)\n",
        "      arrayCb.append(tCb)\n",
        "      arrayCr.append(tCr)\n",
        "      \n",
        "  arrayY = np.array(arrayY)\n",
        "  arrayCb = np.array(arrayCb)\n",
        "  arrayCr = np.array(arrayCr)\n",
        "\n",
        "  listaArrayY.append(arrayY)\n",
        "  listaArrayCb.append(arrayCb)\n",
        "  listaArrayCr.append(arrayCr)"
      ]
    },
    {
      "cell_type": "code",
      "execution_count": null,
      "metadata": {
        "colab": {
          "background_save": true
        },
        "id": "WycdLGBTYm_w",
        "outputId": "941f24fb-6209-4b09-8d40-097d9c0ad60e"
      },
      "outputs": [
        {
          "name": "stderr",
          "output_type": "stream",
          "text": [
            "100%|██████████| 4881/4881 [00:00<00:00, 5918.43it/s]\n"
          ]
        }
      ],
      "source": [
        "for z in tqdm(range(len(listaArrayY))):\n",
        "  for i in reversed(range(1, listaArrayY[z].shape[0])):\n",
        "      listaArrayY[z][i][0] -= listaArrayY[z][i-1][0]\n",
        "      listaArrayCb[z][i][0] -= listaArrayCb[z][i-1][0]\n",
        "      listaArrayCr[z][i][0] -= listaArrayCr[z][i-1][0]"
      ]
    },
    {
      "cell_type": "code",
      "execution_count": null,
      "metadata": {
        "colab": {
          "background_save": true
        },
        "id": "d1M34jonnfIZ"
      },
      "outputs": [],
      "source": [
        "def armazena_steganografia_no_byte(valor_byte, valor_stegano1):\n",
        "  valor_byte = int(valor_byte)\n",
        "\n",
        "  if valor_stegano1 == 1:\n",
        "    valor_byte |= 1\n",
        "  else:\n",
        "    valor_byte &= (~1)\n",
        "\n",
        "  return valor_byte"
      ]
    },
    {
      "cell_type": "code",
      "execution_count": null,
      "metadata": {
        "colab": {
          "background_save": true
        },
        "id": "VKCiAJhmt9s7",
        "outputId": "1446684f-68f9-4db7-f2a4-780325949cc5"
      },
      "outputs": [
        {
          "name": "stderr",
          "output_type": "stream",
          "text": [
            "100%|██████████| 4881/4881 [00:00<00:00, 10717.28it/s]\n"
          ]
        }
      ],
      "source": [
        "for z in tqdm(range(len(listaArrayY))):\n",
        "  contador_bit_esteganografia = 0\n",
        "\n",
        "  for i in range(listaArrayY[z].shape[0]):\n",
        "      if contador_bit_esteganografia < len(lista_bitarray_mensagem[z]):\n",
        "        listaArrayCb[z][i][1] = armazena_steganografia_no_byte(listaArrayCb[z][i][1], lista_bitarray_mensagem[z][contador_bit_esteganografia])\n",
        "\n",
        "      contador_bit_esteganografia += 1"
      ]
    },
    {
      "cell_type": "code",
      "execution_count": null,
      "metadata": {
        "colab": {
          "background_save": true
        },
        "id": "x1gSWvpeYowx"
      },
      "outputs": [],
      "source": [
        "huffmanDCLuminancia = {\n",
        "    \"tamanho\": [0, 1, 5, 1, 1, 1, 1, 1, 1, 0, 0, 0, 0, 0, 0, 0],\n",
        "    \"valores\": [0x00, 0x01, 0x02, 0x03, 0x04, 0x05, 0x06, 0x07, 0x08, 0x09, 0x0a, 0x0b]\n",
        "}"
      ]
    },
    {
      "cell_type": "code",
      "execution_count": null,
      "metadata": {
        "colab": {
          "background_save": true
        },
        "id": "drW1eGL0Yqrl"
      },
      "outputs": [],
      "source": [
        "huffmanDCCrominancia = {\n",
        "    \"tamanho\": [0, 3, 1, 1, 1, 1, 1, 1, 1, 1, 1, 0, 0, 0, 0, 0],\n",
        "    \"valores\": [0x00, 0x01, 0x02, 0x03, 0x04, 0x05, 0x06, 0x07, 0x08, 0x09, 0x0a, 0x0b]\n",
        "}"
      ]
    },
    {
      "cell_type": "code",
      "execution_count": null,
      "metadata": {
        "colab": {
          "background_save": true
        },
        "id": "MujN8xKaYsWa"
      },
      "outputs": [],
      "source": [
        "huffmanACLuminancia = {\n",
        "    \"tamanho\": [0, 2, 1, 3, 3, 2, 4, 3, 5, 5, 4, 4, 0, 0, 1, 125],\n",
        "    \"valores\": [0x01, 0x02, 0x03, 0x00, 0x04, 0x11, 0x05, 0x12,\n",
        "        0x21, 0x31, 0x41, 0x06, 0x13, 0x51, 0x61, 0x07,\n",
        "        0x22, 0x71, 0x14, 0x32, 0x81, 0x91, 0xa1, 0x08,\n",
        "        0x23, 0x42, 0xb1, 0xc1, 0x15, 0x52, 0xd1, 0xf0,\n",
        "        0x24, 0x33, 0x62, 0x72, 0x82, 0x09, 0x0a, 0x16,\n",
        "        0x17, 0x18, 0x19, 0x1a, 0x25, 0x26, 0x27, 0x28,\n",
        "        0x29, 0x2a, 0x34, 0x35, 0x36, 0x37, 0x38, 0x39,\n",
        "        0x3a, 0x43, 0x44, 0x45, 0x46, 0x47, 0x48, 0x49,\n",
        "        0x4a, 0x53, 0x54, 0x55, 0x56, 0x57, 0x58, 0x59,\n",
        "        0x5a, 0x63, 0x64, 0x65, 0x66, 0x67, 0x68, 0x69,\n",
        "        0x6a, 0x73, 0x74, 0x75, 0x76, 0x77, 0x78, 0x79,\n",
        "        0x7a, 0x83, 0x84, 0x85, 0x86, 0x87, 0x88, 0x89,\n",
        "        0x8a, 0x92, 0x93, 0x94, 0x95, 0x96, 0x97, 0x98,\n",
        "        0x99, 0x9a, 0xa2, 0xa3, 0xa4, 0xa5, 0xa6, 0xa7,\n",
        "        0xa8, 0xa9, 0xaa, 0xb2, 0xb3, 0xb4, 0xb5, 0xb6,\n",
        "        0xb7, 0xb8, 0xb9, 0xba, 0xc2, 0xc3, 0xc4, 0xc5,\n",
        "        0xc6, 0xc7, 0xc8, 0xc9, 0xca, 0xd2, 0xd3, 0xd4,\n",
        "        0xd5, 0xd6, 0xd7, 0xd8, 0xd9, 0xda, 0xe1, 0xe2,\n",
        "        0xe3, 0xe4, 0xe5, 0xe6, 0xe7, 0xe8, 0xe9, 0xea,\n",
        "        0xf1, 0xf2, 0xf3, 0xf4, 0xf5, 0xf6, 0xf7, 0xf8,\n",
        "        0xf9, 0xfa]\n",
        "}"
      ]
    },
    {
      "cell_type": "code",
      "execution_count": null,
      "metadata": {
        "colab": {
          "background_save": true
        },
        "id": "d-KBNmuBYuA0"
      },
      "outputs": [],
      "source": [
        "huffmanACCrominancia = {\n",
        "    \"tamanho\": [0, 2, 1, 2, 4, 4, 3, 4, 7, 5, 4, 4, 0, 1, 2, 119],\n",
        "    \"valores\": [0x00, 0x01, 0x02, 0x03, 0x11, 0x04, 0x05, 0x21,\n",
        "        0x31, 0x06, 0x12, 0x41, 0x51, 0x07, 0x61, 0x71,\n",
        "        0x13, 0x22, 0x32, 0x81, 0x08, 0x14, 0x42, 0x91,\n",
        "        0xa1, 0xb1, 0xc1, 0x09, 0x23, 0x33, 0x52, 0xf0,\n",
        "        0x15, 0x62, 0x72, 0xd1, 0x0a, 0x16, 0x24, 0x34,\n",
        "        0xe1, 0x25, 0xf1, 0x17, 0x18, 0x19, 0x1a, 0x26,\n",
        "        0x27, 0x28, 0x29, 0x2a, 0x35, 0x36, 0x37, 0x38,\n",
        "        0x39, 0x3a, 0x43, 0x44, 0x45, 0x46, 0x47, 0x48,\n",
        "        0x49, 0x4a, 0x53, 0x54, 0x55, 0x56, 0x57, 0x58,\n",
        "        0x59, 0x5a, 0x63, 0x64, 0x65, 0x66, 0x67, 0x68,\n",
        "        0x69, 0x6a, 0x73, 0x74, 0x75, 0x76, 0x77, 0x78,\n",
        "        0x79, 0x7a, 0x82, 0x83, 0x84, 0x85, 0x86, 0x87,\n",
        "        0x88, 0x89, 0x8a, 0x92, 0x93, 0x94, 0x95, 0x96,\n",
        "        0x97, 0x98, 0x99, 0x9a, 0xa2, 0xa3, 0xa4, 0xa5,\n",
        "        0xa6, 0xa7, 0xa8, 0xa9, 0xaa, 0xb2, 0xb3, 0xb4,\n",
        "        0xb5, 0xb6, 0xb7, 0xb8, 0xb9, 0xba, 0xc2, 0xc3,\n",
        "        0xc4, 0xc5, 0xc6, 0xc7, 0xc8, 0xc9, 0xca, 0xd2,\n",
        "        0xd3, 0xd4, 0xd5, 0xd6, 0xd7, 0xd8, 0xd9, 0xda,\n",
        "        0xe2, 0xe3, 0xe4, 0xe5, 0xe6, 0xe7, 0xe8, 0xe9,\n",
        "        0xea, 0xf2, 0xf3, 0xf4, 0xf5, 0xf6, 0xf7, 0xf8,\n",
        "        0xf9, 0xfa]\n",
        "}"
      ]
    },
    {
      "cell_type": "code",
      "execution_count": null,
      "metadata": {
        "colab": {
          "background_save": true
        },
        "id": "BI9NOBzpYvtQ"
      },
      "outputs": [],
      "source": [
        "def intParaStringBits(x, length):\n",
        "    ret = \"\"\n",
        "    \n",
        "    flag = False\n",
        "    \n",
        "    if x < 0:\n",
        "        x *= -1\n",
        "        flag = True\n",
        "    \n",
        "    for i in range(length):\n",
        "        if x & 1 == 1:\n",
        "            if flag == True:\n",
        "                ret += \"0\"\n",
        "            else:\n",
        "                ret += \"1\"\n",
        "        else:\n",
        "            if flag == True:\n",
        "                ret += \"1\"\n",
        "            else:\n",
        "                ret += \"0\"\n",
        "            \n",
        "        x = x >> 1\n",
        "        \n",
        "    return ret[::-1]"
      ]
    },
    {
      "cell_type": "code",
      "execution_count": null,
      "metadata": {
        "colab": {
          "background_save": true
        },
        "id": "ngXkOCl_Yxfe"
      },
      "outputs": [],
      "source": [
        "def somaUm(x):\n",
        "    x = x[::-1]\n",
        "    \n",
        "    y = \"\"\n",
        "    flag = False\n",
        "    \n",
        "    for i in range(len(x)):\n",
        "        if flag == False:\n",
        "            if x[i] == \"0\":\n",
        "                y += \"1\"\n",
        "                flag = True\n",
        "            else:\n",
        "                y += \"0\"\n",
        "        else:\n",
        "            y += x[i]\n",
        "        \n",
        "    y = y[::-1]\n",
        "    \n",
        "    return y"
      ]
    },
    {
      "cell_type": "code",
      "execution_count": null,
      "metadata": {
        "colab": {
          "background_save": true
        },
        "id": "vLU6LSXXeOyu"
      },
      "outputs": [],
      "source": [
        "def geraCodificacaoHuffman(huffman):\n",
        "  k = 0\n",
        "  n = \"0\"\n",
        "\n",
        "  ret  = {}\n",
        "\n",
        "  for i in huffman[\"tamanho\"]:\n",
        "      for j in range(i):\n",
        "          ret[huffman[\"valores\"][k]] = n\n",
        "          n = somaUm(n)\n",
        "          k += 1\n",
        "      n += \"0\"\n",
        "\n",
        "  return ret"
      ]
    },
    {
      "cell_type": "code",
      "execution_count": null,
      "metadata": {
        "colab": {
          "background_save": true
        },
        "id": "ifeE9MhXYzZ8"
      },
      "outputs": [],
      "source": [
        "mapaDCLuminancia2 = geraCodificacaoHuffman(huffmanDCLuminancia)\n",
        "mapaACLuminancia2 = geraCodificacaoHuffman(huffmanACLuminancia)\n",
        "mapaDCCrominancia2 = geraCodificacaoHuffman(huffmanDCCrominancia)\n",
        "mapaACCrominancia2 = geraCodificacaoHuffman(huffmanACCrominancia)"
      ]
    },
    {
      "cell_type": "code",
      "execution_count": null,
      "metadata": {
        "colab": {
          "background_save": true
        },
        "id": "WrUkRk8EY1Rk"
      },
      "outputs": [],
      "source": [
        "def contaBitsNescessarios(x):\n",
        "    total = 0\n",
        "    \n",
        "    if x < 0:\n",
        "        x *= -1\n",
        "    \n",
        "    while x > 0 :\n",
        "        total += 1\n",
        "        x >>= 1\n",
        "        \n",
        "    return total"
      ]
    },
    {
      "cell_type": "code",
      "execution_count": null,
      "metadata": {
        "colab": {
          "background_save": true
        },
        "id": "1TQtArjlY3HM",
        "outputId": "9e834b85-5671-4ead-f1f8-c948245fe993"
      },
      "outputs": [
        {
          "name": "stderr",
          "output_type": "stream",
          "text": [
            "100%|██████████| 4881/4881 [00:00<00:00, 52432.02it/s]\n"
          ]
        }
      ],
      "source": [
        "for z in tqdm(range(len(listaArrayY))):\n",
        "  listaArrayY[z] = listaArrayY[z].astype('int')\n",
        "  listaArrayCb[z] = listaArrayCb[z].astype('int')\n",
        "  listaArrayCr[z] = listaArrayCr[z].astype('int')"
      ]
    },
    {
      "cell_type": "code",
      "execution_count": null,
      "metadata": {
        "colab": {
          "background_save": true
        },
        "id": "ZQ51vY2agICp"
      },
      "outputs": [],
      "source": [
        "def codificaBlocoHuffman(bloco, mapaDC, mapaAC):\n",
        "\n",
        "  stringBits = \"\"\n",
        "  zeroPad = 0\n",
        "\n",
        "  nBits = contaBitsNescessarios(bloco[0])\n",
        "    \n",
        "  stringBits += mapaDC[nBits]\n",
        "  stringBits += intParaStringBits(bloco[0], nBits)\n",
        "  \n",
        "  zeroPad = 0\n",
        "  \n",
        "  for j in range(1, 64):\n",
        "      if bloco[j] == 0:\n",
        "          zeroPad += 1\n",
        "      else:\n",
        "          while zeroPad > 15:\n",
        "              stringBits += mapaAC[(15 << 4) + 0]\n",
        "              zeroPad -= 16\n",
        "          \n",
        "          nBits = contaBitsNescessarios(bloco[j])\n",
        "          \n",
        "          stringBits += mapaAC[(zeroPad << 4) + nBits]\n",
        "          stringBits += intParaStringBits(bloco[j], nBits)\n",
        "  \n",
        "          zeroPad = 0\n",
        "  \n",
        "  if zeroPad > 0:\n",
        "      stringBits += mapaAC[0]\n",
        "\n",
        "  return stringBits"
      ]
    },
    {
      "cell_type": "code",
      "execution_count": null,
      "metadata": {
        "colab": {
          "background_save": true
        },
        "id": "vpUqosi7Y41K",
        "outputId": "79eece6f-53fa-4b9b-ff87-6bcf09955716"
      },
      "outputs": [
        {
          "name": "stderr",
          "output_type": "stream",
          "text": [
            "100%|██████████| 4881/4881 [01:50<00:00, 44.09it/s]\n"
          ]
        }
      ],
      "source": [
        "listaStringBits = []\n",
        "\n",
        "for z in tqdm(range(len(listaArrayY))):\n",
        "  stringBits = \"\"\n",
        "\n",
        "  for i in range(listaArrayY[z].shape[0]):\n",
        "    stringBits += codificaBlocoHuffman(listaArrayY[z][i], mapaDCLuminancia2, mapaACLuminancia2)\n",
        "    stringBits += codificaBlocoHuffman(listaArrayCb[z][i], mapaDCCrominancia2, mapaACCrominancia2)\n",
        "    stringBits += codificaBlocoHuffman(listaArrayCr[z][i], mapaDCCrominancia2, mapaACCrominancia2)\n",
        "\n",
        "  listaStringBits.append(stringBits)"
      ]
    },
    {
      "cell_type": "code",
      "execution_count": null,
      "metadata": {
        "colab": {
          "background_save": true
        },
        "id": "P03xQPv6Y6db",
        "outputId": "221b9a9c-6b31-4b36-a929-dba21b562597"
      },
      "outputs": [
        {
          "name": "stderr",
          "output_type": "stream",
          "text": [
            "100%|██████████| 4881/4881 [00:00<00:00, 64509.25it/s]\n"
          ]
        }
      ],
      "source": [
        "for z in tqdm(range(len(listaStringBits))):\n",
        "  while len(listaStringBits[z]) % 8 != 0:\n",
        "      listaStringBits[z] += \"0\""
      ]
    },
    {
      "cell_type": "code",
      "execution_count": null,
      "metadata": {
        "colab": {
          "background_save": true
        },
        "id": "vkfsRyhtY8X8",
        "outputId": "47cf26f0-4283-411f-e15f-57d595fcf2a2"
      },
      "outputs": [
        {
          "name": "stderr",
          "output_type": "stream",
          "text": [
            "100%|██████████| 4881/4881 [00:00<00:00, 1374078.65it/s]\n"
          ]
        }
      ],
      "source": [
        "listaImgJpeg = []\n",
        "\n",
        "for z in tqdm(range(len(listaStringBits))):\n",
        "  imgJpeg = bytearray()\n",
        "  listaImgJpeg.append(imgJpeg)"
      ]
    },
    {
      "cell_type": "code",
      "execution_count": null,
      "metadata": {
        "colab": {
          "background_save": true
        },
        "id": "6MqPhWKbaTQS",
        "outputId": "cd15b621-063a-45af-80b2-1a2a05d791c2"
      },
      "outputs": [
        {
          "name": "stderr",
          "output_type": "stream",
          "text": [
            "100%|██████████| 4881/4881 [00:00<00:00, 2095649.28it/s]\n"
          ]
        }
      ],
      "source": [
        "for imgJpeg in tqdm(listaImgJpeg):\n",
        "  imgJpeg += b'\\xff\\xd8'"
      ]
    },
    {
      "cell_type": "code",
      "execution_count": null,
      "metadata": {
        "colab": {
          "background_save": true
        },
        "id": "5GF5IGImY_zI",
        "outputId": "565aea82-1aa5-459b-abea-5943e0342ab2"
      },
      "outputs": [
        {
          "name": "stderr",
          "output_type": "stream",
          "text": [
            "100%|██████████| 4881/4881 [00:00<00:00, 1006014.64it/s]\n"
          ]
        }
      ],
      "source": [
        "for imgJpeg in tqdm(listaImgJpeg):\n",
        "  imgJpeg += b'\\xff\\xe0' # marker\n",
        "  imgJpeg += b'\\x00\\x10' # lenght\n",
        "  imgJpeg += b'\\x4a\\x46\\x49\\x46\\x00' # identifier JFIF\\0\n",
        "  imgJpeg += b'\\x01\\x02' # version 1.2\n",
        "  imgJpeg += b'\\x00' # units (dpi)\n",
        "  imgJpeg += b'\\x00\\x64\\x00\\x64' #density\n",
        "  imgJpeg += b'\\x00\\x00' # thumbnail"
      ]
    },
    {
      "cell_type": "code",
      "execution_count": null,
      "metadata": {
        "colab": {
          "background_save": true
        },
        "id": "FOxmIy9pZBX7",
        "outputId": "5c3ffaf9-f899-4538-f24e-fa4e68f97012"
      },
      "outputs": [
        {
          "name": "stderr",
          "output_type": "stream",
          "text": [
            "100%|██████████| 4881/4881 [00:00<00:00, 672482.93it/s]\n"
          ]
        }
      ],
      "source": [
        "for imgJpeg in tqdm(listaImgJpeg):\n",
        "  comentario = \"JPEG Stegano Encoder.\"\n",
        "\n",
        "  comprimento = len(comentario)\n",
        "\n",
        "  imgJpeg += b'\\xff\\xfe' # marker\n",
        "  imgJpeg += (comprimento + 2).to_bytes(2, byteorder='big') # length\n",
        "  imgJpeg += comentario.encode('ascii') # comentário"
      ]
    },
    {
      "cell_type": "code",
      "execution_count": null,
      "metadata": {
        "colab": {
          "background_save": true
        },
        "id": "MLBlcz2oZDTX",
        "outputId": "94382957-20f9-4f9d-fb40-10cf098ebc12"
      },
      "outputs": [
        {
          "name": "stderr",
          "output_type": "stream",
          "text": [
            "100%|██████████| 4881/4881 [00:00<00:00, 14070.43it/s]\n"
          ]
        }
      ],
      "source": [
        "for imgJpeg in tqdm(listaImgJpeg):\n",
        "  qtL = np.zeros(64)\n",
        "  qtC = np.zeros(64)\n",
        "\n",
        "  for i in range(8):\n",
        "      for j in range(8):\n",
        "          qtL[matrizZigzag[i][j]] = matrizQuantizacaoLuminancia[i][j]\n",
        "          qtC[matrizZigzag[i][j]] = matrizQuantizacaoCrominancia[i][j]"
      ]
    },
    {
      "cell_type": "code",
      "execution_count": null,
      "metadata": {
        "colab": {
          "background_save": true
        },
        "id": "tGa_ngKYZFP_",
        "outputId": "cce7ffd6-c859-4e49-e633-3d34c3af5f52"
      },
      "outputs": [
        {
          "name": "stderr",
          "output_type": "stream",
          "text": [
            "100%|██████████| 4881/4881 [00:00<00:00, 22579.10it/s]\n"
          ]
        }
      ],
      "source": [
        "for imgJpeg in tqdm(listaImgJpeg):\n",
        "  imgJpeg += b'\\xff\\xdb' # marker\n",
        "  imgJpeg += b'\\x00\\x43' # length\n",
        "  imgJpeg += b'\\x00' # destination luminance (0)\n",
        "\n",
        "  for i in qtL.astype('uint8'):\n",
        "      imgJpeg += i.tobytes() # table"
      ]
    },
    {
      "cell_type": "code",
      "execution_count": null,
      "metadata": {
        "colab": {
          "background_save": true
        },
        "id": "mazqUOO3ZHKJ",
        "outputId": "c24f0e9d-daa1-4b36-dc8e-1cd821fdc545"
      },
      "outputs": [
        {
          "name": "stderr",
          "output_type": "stream",
          "text": [
            "100%|██████████| 4881/4881 [00:00<00:00, 22843.76it/s]\n"
          ]
        }
      ],
      "source": [
        "for imgJpeg in tqdm(listaImgJpeg):\n",
        "  imgJpeg += b'\\xff\\xdb' # marker\n",
        "  imgJpeg += b'\\x00\\x43' # length\n",
        "  imgJpeg += b'\\x01' # destination chrominance (1)\n",
        "\n",
        "  for i in qtC.astype('uint8'):\n",
        "      imgJpeg += i.tobytes() # table"
      ]
    },
    {
      "cell_type": "code",
      "execution_count": null,
      "metadata": {
        "colab": {
          "background_save": true
        },
        "id": "jHipUmHLZItw",
        "outputId": "03767c3a-ac66-4439-db99-b02217c80f97"
      },
      "outputs": [
        {
          "name": "stderr",
          "output_type": "stream",
          "text": [
            "100%|██████████| 4881/4881 [00:00<00:00, 60559.01it/s]\n"
          ]
        }
      ],
      "source": [
        "for imgJpeg in tqdm(listaImgJpeg):\n",
        "  sh = np.asarray(img).shape\n",
        "\n",
        "  imgJpeg += b'\\xff\\xc0' # marker\n",
        "  imgJpeg += b'\\x00\\x11' # length\n",
        "  imgJpeg += b'\\x08' # precision\n",
        "  imgJpeg += (sh[0]).to_bytes(2, byteorder='big') # image height\n",
        "  imgJpeg += (sh[1]).to_bytes(2, byteorder='big') # image width\n",
        "  imgJpeg += b'\\x03' # components (Y, Cb, Cr)\n",
        "  imgJpeg += b'\\x01\\x11\\x00' # id factor table (LumY)\n",
        "  imgJpeg += b'\\x02\\x11\\x01' # id factor table (ChromCb)\n",
        "  imgJpeg += b'\\x03\\x11\\x01' # id factor table (ChromCr)"
      ]
    },
    {
      "cell_type": "code",
      "execution_count": null,
      "metadata": {
        "colab": {
          "background_save": true
        },
        "id": "yE0cocp3ZKaX",
        "outputId": "b6af28a1-7ef5-4603-aa3b-062eb588322f"
      },
      "outputs": [
        {
          "name": "stderr",
          "output_type": "stream",
          "text": [
            "100%|██████████| 4881/4881 [00:00<00:00, 17486.98it/s]\n"
          ]
        }
      ],
      "source": [
        "for imgJpeg in tqdm(listaImgJpeg):\n",
        "  leng = 19 + len(mapaDCLuminancia2)\n",
        "\n",
        "  mapaOrdenado = mapaDCLuminancia2.items()\n",
        "\n",
        "  comprimentoMapa = np.zeros(16).astype('int8')\n",
        "\n",
        "  for i in mapaOrdenado:\n",
        "      comprimentoMapa[len(i[1]) - 1] += 1\n",
        "\n",
        "  imgJpeg += b'\\xff\\xc4' # marker\n",
        "  imgJpeg += (leng).to_bytes(2, byteorder='big') # length\n",
        "  imgJpeg += b'\\x00' # class (DC) destination\n",
        "\n",
        "  for i in comprimentoMapa:\n",
        "      imgJpeg += (int(i)).to_bytes(1, byteorder='big')\n",
        "      \n",
        "  for i in mapaOrdenado:\n",
        "      imgJpeg += (i[0]).to_bytes(1, byteorder='big') # code of bit"
      ]
    },
    {
      "cell_type": "code",
      "execution_count": null,
      "metadata": {
        "colab": {
          "background_save": true
        },
        "id": "7M70TpHSZMJ-",
        "outputId": "2a181775-262a-4bfa-e8f1-091bf6f20210"
      },
      "outputs": [
        {
          "name": "stderr",
          "output_type": "stream",
          "text": [
            "100%|██████████| 4881/4881 [00:00<00:00, 17299.20it/s]\n"
          ]
        }
      ],
      "source": [
        "for imgJpeg in tqdm(listaImgJpeg):\n",
        "  leng = 19 + len(mapaDCCrominancia2)\n",
        "\n",
        "  mapaOrdenado = mapaDCCrominancia2.items()\n",
        "\n",
        "  comprimentoMapa = np.zeros(16).astype('int8')\n",
        "\n",
        "  for i in mapaOrdenado:\n",
        "      comprimentoMapa[len(i[1]) - 1] += 1\n",
        "\n",
        "  imgJpeg += b'\\xff\\xc4' # marker\n",
        "  imgJpeg += (leng).to_bytes(2, byteorder='big') # length\n",
        "  imgJpeg += b'\\x01' # class (DC) destination\n",
        "\n",
        "  for i in comprimentoMapa:\n",
        "      imgJpeg += (int(i)).to_bytes(1, byteorder='big')\n",
        "      \n",
        "  for i in mapaOrdenado:\n",
        "      imgJpeg += (i[0]).to_bytes(1, byteorder='big') # code of bit"
      ]
    },
    {
      "cell_type": "code",
      "execution_count": null,
      "metadata": {
        "colab": {
          "background_save": true
        },
        "id": "K_4Uo6dJZNwR",
        "outputId": "07dac819-a5ce-48f6-95ec-74cc7acf101e"
      },
      "outputs": [
        {
          "name": "stderr",
          "output_type": "stream",
          "text": [
            "100%|██████████| 4881/4881 [00:02<00:00, 1989.45it/s]\n"
          ]
        }
      ],
      "source": [
        "for imgJpeg in tqdm(listaImgJpeg):\n",
        "  leng = 19 + len(mapaACLuminancia2)\n",
        "\n",
        "  mapaOrdenado = mapaACLuminancia2.items()\n",
        "\n",
        "  comprimentoMapa = np.zeros(16).astype('int8')\n",
        "\n",
        "  for i in mapaOrdenado:\n",
        "      comprimentoMapa[len(i[1]) - 1] += 1\n",
        "\n",
        "  imgJpeg += b'\\xff\\xc4' # marker\n",
        "  imgJpeg += (leng).to_bytes(2, byteorder='big') # length\n",
        "  imgJpeg += b'\\x10' # class (AC) destination\n",
        "\n",
        "  for i in comprimentoMapa:\n",
        "      imgJpeg += (int(i)).to_bytes(1, byteorder='big')\n",
        "      \n",
        "  for i in mapaOrdenado:\n",
        "      imgJpeg += (i[0]).to_bytes(1, byteorder='big') # code of bit"
      ]
    },
    {
      "cell_type": "code",
      "execution_count": null,
      "metadata": {
        "colab": {
          "background_save": true
        },
        "id": "PWd17IKbZPks",
        "outputId": "337e9f00-e272-4eb8-adac-0e37db7375ec"
      },
      "outputs": [
        {
          "name": "stderr",
          "output_type": "stream",
          "text": [
            "100%|██████████| 4881/4881 [00:02<00:00, 1986.95it/s]\n"
          ]
        }
      ],
      "source": [
        "for imgJpeg in tqdm(listaImgJpeg):\n",
        "  leng = 19 + len(mapaACCrominancia2)\n",
        "\n",
        "  mapaOrdenado = mapaACCrominancia2.items()\n",
        "\n",
        "  comprimentoMapa = np.zeros(16).astype('int8')\n",
        "\n",
        "  for i in mapaOrdenado:\n",
        "      comprimentoMapa[len(i[1]) - 1] += 1\n",
        "\n",
        "  imgJpeg += b'\\xff\\xc4' # marker\n",
        "  imgJpeg += (leng).to_bytes(2, byteorder='big') # length\n",
        "  imgJpeg += b'\\x11' # class (AC) destination\n",
        "\n",
        "  for i in comprimentoMapa:\n",
        "      imgJpeg += (int(i)).to_bytes(1, byteorder='big')\n",
        "      \n",
        "  for i in mapaOrdenado:\n",
        "      imgJpeg += (i[0]).to_bytes(1, byteorder='big') # code of bit"
      ]
    },
    {
      "cell_type": "code",
      "execution_count": null,
      "metadata": {
        "colab": {
          "background_save": true
        },
        "id": "p9a0wpYfZROK",
        "outputId": "4b116661-a38d-4ca9-ccf4-fd94b95c5236"
      },
      "outputs": [
        {
          "name": "stderr",
          "output_type": "stream",
          "text": [
            "100%|██████████| 4881/4881 [00:00<00:00, 859462.55it/s]\n"
          ]
        }
      ],
      "source": [
        "for imgJpeg in tqdm(listaImgJpeg):\n",
        "  imgJpeg += b'\\xff\\xda' # marker\n",
        "  imgJpeg += b'\\x00\\x0c' # length\n",
        "  imgJpeg += b'\\x03' # components\n",
        "  imgJpeg += b'\\x01\\x00' # selector dc ac\n",
        "  imgJpeg += b'\\x02\\x11' # selector dc ac\n",
        "  imgJpeg += b'\\x03\\x11' # selector dc ac\n",
        "  imgJpeg += b'\\x00\\x3f' # spectral interval\n",
        "  imgJpeg += b'\\x00' # sucessive aproximation"
      ]
    },
    {
      "cell_type": "code",
      "execution_count": null,
      "metadata": {
        "colab": {
          "background_save": true
        },
        "id": "1c1feiykZSq8",
        "outputId": "4100e2ec-302e-4de3-853e-19fffb4dd176"
      },
      "outputs": [
        {
          "name": "stderr",
          "output_type": "stream",
          "text": [
            "100%|██████████| 4881/4881 [00:29<00:00, 168.27it/s]\n"
          ]
        }
      ],
      "source": [
        "nStringBits = 0\n",
        "\n",
        "for imgJpeg in tqdm(listaImgJpeg):\n",
        "  z = 0\n",
        "\n",
        "  for i in range(0, len(listaStringBits[nStringBits]), 8):\n",
        "      x = int(listaStringBits[nStringBits][i:i+8], 2)\n",
        "      \n",
        "      y = -1\n",
        "      \n",
        "      if i + 16 < len(listaStringBits[nStringBits]):\n",
        "          y = int(listaStringBits[nStringBits][i+8:i+16], 2)\n",
        "      \n",
        "      imgJpeg += (x).to_bytes(1, byteorder='big')\n",
        "      \n",
        "      if x == 255 and y != 255:\n",
        "          imgJpeg += (0).to_bytes(1, byteorder='big')\n",
        "          z += 1\n",
        "\n",
        "  nStringBits += 1"
      ]
    },
    {
      "cell_type": "code",
      "execution_count": null,
      "metadata": {
        "colab": {
          "background_save": true
        },
        "id": "DEd3ejupZUXN",
        "outputId": "97f0be0b-8550-4625-a25b-e04ae64a6442"
      },
      "outputs": [
        {
          "name": "stderr",
          "output_type": "stream",
          "text": [
            "100%|██████████| 4881/4881 [00:00<00:00, 1721671.67it/s]\n"
          ]
        }
      ],
      "source": [
        "for imgJpeg in tqdm(listaImgJpeg):\n",
        "  imgJpeg += b'\\xff\\xd9' # marker"
      ]
    },
    {
      "cell_type": "code",
      "execution_count": null,
      "metadata": {
        "colab": {
          "background_save": true
        },
        "id": "jKYDzp0vbezG"
      },
      "outputs": [],
      "source": [
        "os.mkdir('dataset_esteganografia')"
      ]
    },
    {
      "cell_type": "code",
      "execution_count": null,
      "metadata": {
        "colab": {
          "background_save": true
        },
        "id": "6DshD837ZWQR",
        "outputId": "3663de3a-3f7f-46fc-f88d-35357bd03a09"
      },
      "outputs": [
        {
          "name": "stderr",
          "output_type": "stream",
          "text": [
            "100%|██████████| 4881/4881 [00:00<00:00, 18228.23it/s]\n"
          ]
        }
      ],
      "source": [
        "nImagem = 0\n",
        "\n",
        "for imgJpeg in tqdm(listaImgJpeg):\n",
        "  fileJpeg = open('dataset_esteganografia/' + str(nImagem).zfill(5) + '.jpeg', 'wb')\n",
        "  fileJpeg.write(imgJpeg)\n",
        "  fileJpeg.close()\n",
        "\n",
        "  nImagem += 1"
      ]
    },
    {
      "cell_type": "markdown",
      "metadata": {
        "id": "OFcDA7ovqFCZ"
      },
      "source": [
        "<hr/>"
      ]
    },
    {
      "cell_type": "code",
      "execution_count": null,
      "metadata": {
        "colab": {
          "background_save": true
        },
        "id": "QcvH0R2nZX7Q",
        "outputId": "0a12f1d0-72e5-44c1-82c8-f5e56395675a"
      },
      "outputs": [
        {
          "name": "stderr",
          "output_type": "stream",
          "text": [
            "100%|██████████| 4881/4881 [00:00<00:00, 85788.51it/s]\n"
          ]
        }
      ],
      "source": [
        "steganoImagesList = []\n",
        "\n",
        "listaFileName = os.listdir('dataset_esteganografia')\n",
        "listaFileName.sort()\n",
        "\n",
        "for fileName in tqdm(listaFileName):\n",
        "  img = open('dataset_esteganografia/' + fileName, 'rb')\n",
        "  steganoImagesList.append(img)"
      ]
    },
    {
      "cell_type": "code",
      "execution_count": null,
      "metadata": {
        "colab": {
          "background_save": true
        },
        "id": "AyJYavS2qPQg",
        "outputId": "96487a26-2c8f-4c8e-f02e-7f6f7120e2e2"
      },
      "outputs": [
        {
          "name": "stderr",
          "output_type": "stream",
          "text": [
            "100%|██████████| 4881/4881 [00:00<00:00, 82259.10it/s]\n"
          ]
        }
      ],
      "source": [
        "listaFileContent = []\n",
        "\n",
        "for img in tqdm(steganoImagesList):\n",
        "  fileContent = img.read()\n",
        "  listaFileContent.append(fileContent)"
      ]
    },
    {
      "cell_type": "code",
      "execution_count": null,
      "metadata": {
        "colab": {
          "background_save": true
        },
        "id": "iel5IuWZqRcu",
        "outputId": "17ea9750-a695-4198-d2b1-133fd04d98f0"
      },
      "outputs": [
        {
          "name": "stderr",
          "output_type": "stream",
          "text": [
            "100%|██████████| 4881/4881 [00:00<00:00, 1561586.41it/s]\n"
          ]
        }
      ],
      "source": [
        "listaImageData = []\n",
        "\n",
        "for z in tqdm(range(len(listaFileContent))):\n",
        "  listaImageData.append(bytearray())"
      ]
    },
    {
      "cell_type": "code",
      "execution_count": null,
      "metadata": {
        "colab": {
          "background_save": true
        },
        "id": "4qs6sZt3qTmO",
        "outputId": "c9042ef2-ec8a-42c5-be4a-decc3a3248bd"
      },
      "outputs": [
        {
          "name": "stderr",
          "output_type": "stream",
          "text": [
            "100%|██████████| 4881/4881 [00:11<00:00, 434.76it/s]\n"
          ]
        }
      ],
      "source": [
        "for z in tqdm(range(len(listaFileContent))):\n",
        "  segmentStartOfScan = False\n",
        "  nBytesStartOfScan = 0\n",
        "\n",
        "  for i in range(len(listaFileContent[z]) - 2):\n",
        "      if listaFileContent[z][i] == ord(b'\\xff') and listaFileContent[z][i+1] == ord(b'\\xda'):\n",
        "          segmentStartOfScan = True\n",
        "          \n",
        "      if segmentStartOfScan:\n",
        "          nBytesStartOfScan += 1\n",
        "          \n",
        "          if nBytesStartOfScan > 14:\n",
        "              listaImageData[z].append(listaFileContent[z][i])"
      ]
    },
    {
      "cell_type": "code",
      "execution_count": null,
      "metadata": {
        "colab": {
          "background_save": true
        },
        "id": "2F3_Ir7UqYCf",
        "outputId": "7e2f254b-23ba-4126-b341-65b58f3beeae"
      },
      "outputs": [
        {
          "name": "stderr",
          "output_type": "stream",
          "text": [
            "100%|██████████| 4881/4881 [00:00<00:00, 1386830.91it/s]\n"
          ]
        }
      ],
      "source": [
        "listaBa = []\n",
        "\n",
        "for z in tqdm(range(len(listaFileContent))):\n",
        "  ba = bitarray()\n",
        "  listaBa.append(ba)"
      ]
    },
    {
      "cell_type": "code",
      "execution_count": null,
      "metadata": {
        "colab": {
          "background_save": true
        },
        "id": "TkB1aMHbqasi",
        "outputId": "6e373f6a-eab8-40b6-b699-234f67d169e0"
      },
      "outputs": [
        {
          "name": "stderr",
          "output_type": "stream",
          "text": [
            "100%|██████████| 4881/4881 [00:00<00:00, 250666.05it/s]\n"
          ]
        }
      ],
      "source": [
        "for z in tqdm(range(len(listaBa))):\n",
        "  listaBa[z].frombytes(bytes(listaImageData[z]))"
      ]
    },
    {
      "cell_type": "code",
      "execution_count": null,
      "metadata": {
        "colab": {
          "background_save": true
        },
        "id": "1-pXTGphqc9I",
        "outputId": "638728dd-00a7-489c-d92f-e8f60ddd8dd0"
      },
      "outputs": [
        {
          "name": "stderr",
          "output_type": "stream",
          "text": [
            "100%|██████████| 4881/4881 [00:00<00:00, 1448962.97it/s]\n"
          ]
        }
      ],
      "source": [
        "listaBa2 = []\n",
        "\n",
        "for z in tqdm(range(len(listaBa))):\n",
        "  ba2 = bitarray()\n",
        "  listaBa2.append(ba2)"
      ]
    },
    {
      "cell_type": "code",
      "execution_count": null,
      "metadata": {
        "colab": {
          "background_save": true
        },
        "id": "-39Py1UCqez9",
        "outputId": "111a29c5-404a-4033-c475-2ce221ac2aff"
      },
      "outputs": [
        {
          "name": "stderr",
          "output_type": "stream",
          "text": [
            "100%|██████████| 4881/4881 [01:18<00:00, 61.91it/s]\n"
          ]
        }
      ],
      "source": [
        "for z in tqdm(range(len(listaBa))):\n",
        "  bitTemp = ''\n",
        "\n",
        "  for bit in listaBa[z]:\n",
        "      bitTemp += str(bit)\n",
        "      \n",
        "      if len(bitTemp) == 16:\n",
        "          if bitTemp == '1111111100000000':\n",
        "              listaBa2[z] += bitarray('11111111')\n",
        "              bitTemp = ''\n",
        "          else:\n",
        "              listaBa2[z] += bitarray(bitTemp[0:8])\n",
        "              bitTemp = bitTemp[8:16]"
      ]
    },
    {
      "cell_type": "code",
      "execution_count": null,
      "metadata": {
        "colab": {
          "background_save": true
        },
        "id": "PfaEaXAXqg_8"
      },
      "outputs": [],
      "source": [
        "def ba_to_int(bitsStr):\n",
        "    negative = True if bitsStr[0] == '0' else False\n",
        "    \n",
        "    if negative:\n",
        "        tempStr = ''\n",
        "        \n",
        "        for i in bitsStr:\n",
        "            if i == '0':\n",
        "                tempStr += '1'\n",
        "            else:\n",
        "                tempStr += '0'\n",
        "        \n",
        "        return -1 * int(tempStr, 2)\n",
        "    else:\n",
        "        return int(bitsStr, 2)"
      ]
    },
    {
      "cell_type": "code",
      "execution_count": null,
      "metadata": {
        "colab": {
          "background_save": true
        },
        "id": "tglMgu01q_90"
      },
      "outputs": [],
      "source": [
        "def geraDecodificacaoHuffman(huffman):\n",
        "  ret  = {}\n",
        "\n",
        "  k = 0\n",
        "  n = 1\n",
        "  x = 0\n",
        "\n",
        "  for i in huffman[\"tamanho\"]:\n",
        "      for j in range(i):\n",
        "          ret[int2ba(x, length=n).to01()] = huffman[\"valores\"][k]\n",
        "          x += 1\n",
        "          k += 1\n",
        "      x <<= 1\n",
        "      n += 1\n",
        "\n",
        "  return ret"
      ]
    },
    {
      "cell_type": "code",
      "execution_count": null,
      "metadata": {
        "colab": {
          "background_save": true
        },
        "id": "ZO4L6Vg8rAB9"
      },
      "outputs": [],
      "source": [
        "mapaDCLuminancia2 = geraDecodificacaoHuffman(huffmanDCLuminancia)\n",
        "mapaACLuminancia2 = geraDecodificacaoHuffman(huffmanACLuminancia)\n",
        "mapaDCCrominancia2 = geraDecodificacaoHuffman(huffmanDCCrominancia)\n",
        "mapaACCrominancia2 = geraDecodificacaoHuffman(huffmanACCrominancia)"
      ]
    },
    {
      "cell_type": "code",
      "execution_count": null,
      "metadata": {
        "colab": {
          "background_save": true
        },
        "id": "vSW2ZaeiqsCy",
        "outputId": "eeaec730-328d-40a5-e7aa-e4f18b1fe9b0"
      },
      "outputs": [
        {
          "name": "stderr",
          "output_type": "stream",
          "text": [
            "100%|██████████| 4881/4881 [02:12<00:00, 36.96it/s]\n"
          ]
        }
      ],
      "source": [
        "listaBlockArray = []\n",
        "\n",
        "for z in tqdm(range(len(listaBa2))):\n",
        "  tempBit = ''\n",
        "  nBits = -1\n",
        "  nCoeff = 0\n",
        "\n",
        "  block = []\n",
        "  blockArray = [[] for i in range(3)]\n",
        "\n",
        "  channel = 0\n",
        "\n",
        "  for bit in listaBa2[z]:\n",
        "      tempBit += str(bit)\n",
        "      \n",
        "      if nBits > 0:\n",
        "          nBits -= 1\n",
        "          \n",
        "          if nBits == 0:\n",
        "              coeff = ba_to_int(tempBit)\n",
        "              block.append(coeff)\n",
        "              nCoeff += 1\n",
        "              tempBit = ''\n",
        "              \n",
        "              if nCoeff == 64:\n",
        "                  blockArray[channel].append(block)\n",
        "                  block = []\n",
        "                  nCoeff = 0\n",
        "                  channel = (channel + 1) % 3\n",
        "      else:\n",
        "          if nCoeff == 0:\n",
        "              mapa = mapaDCLuminancia2 if channel == 0 else mapaDCCrominancia2\n",
        "              \n",
        "              if tempBit in mapa:\n",
        "                  coeff = mapa[tempBit]\n",
        "                  \n",
        "                  if coeff == 0:\n",
        "                      block.append(0)\n",
        "                      nCoeff += 1\n",
        "                  \n",
        "                  tempBit = ''\n",
        "                  nBits = coeff\n",
        "          else:\n",
        "              mapa = mapaACLuminancia2 if channel == 0 else mapaACCrominancia2\n",
        "              \n",
        "              if tempBit in mapa:\n",
        "                  coeff = mapa[tempBit]\n",
        "                  \n",
        "                  if coeff == 0:\n",
        "                      while nCoeff < 64:\n",
        "                          block.append(0)\n",
        "                          nCoeff += 1\n",
        "                      \n",
        "                      blockArray[channel].append(block)\n",
        "                      block = []\n",
        "                      tempBit = ''\n",
        "                      nCoeff = 0\n",
        "                      channel = (channel + 1) % 3\n",
        "                      continue\n",
        "                          \n",
        "                  coeffA = coeff >> 4\n",
        "                  coeffB = coeff & 15\n",
        "\n",
        "                  nBits = coeffB\n",
        "                  \n",
        "                  for i in range(coeffA):\n",
        "                      block.append(0)\n",
        "                      nCoeff += 1\n",
        "                  \n",
        "                  tempBit = ''\n",
        "\n",
        "  listaBlockArray.append(blockArray)"
      ]
    },
    {
      "cell_type": "code",
      "execution_count": null,
      "metadata": {
        "colab": {
          "background_save": true
        },
        "id": "8Oo9g2yIrYwb"
      },
      "outputs": [],
      "source": [
        "def readStegano(value):\n",
        "    return value & 1"
      ]
    },
    {
      "cell_type": "code",
      "execution_count": null,
      "metadata": {
        "colab": {
          "background_save": true
        },
        "id": "nfdoVP49rceW",
        "outputId": "ac3af4f0-99cf-40be-9a4a-50dd92bed35c"
      },
      "outputs": [
        {
          "name": "stderr",
          "output_type": "stream",
          "text": [
            "100%|██████████| 4881/4881 [00:00<00:00, 15455.28it/s]\n"
          ]
        }
      ],
      "source": [
        "listaText = []\n",
        "\n",
        "for blockArray in tqdm(listaBlockArray):\n",
        "  text = ''\n",
        "  bits = ''\n",
        "  j = 0\n",
        "\n",
        "  for i in blockArray[1]:\n",
        "      bit = readStegano(i[1])\n",
        "      bits += str(bit)\n",
        "      j += 1\n",
        "      \n",
        "      if len(bits) == 8:\n",
        "          value = int(bits, 2)\n",
        "          bits = ''\n",
        "          \n",
        "          if value == 0:\n",
        "              break\n",
        "          else:\n",
        "              text += chr(value)\n",
        "\n",
        "  listaText.append(text)"
      ]
    },
    {
      "cell_type": "markdown",
      "metadata": {
        "id": "7lMrUnz2rmWL"
      },
      "source": [
        "<hr/>"
      ]
    },
    {
      "cell_type": "code",
      "execution_count": null,
      "metadata": {
        "colab": {
          "background_save": true
        },
        "id": "xRSmp3uLrhQR",
        "outputId": "20d600ba-75e6-4c37-f747-a6a7933dc4be"
      },
      "outputs": [
        {
          "name": "stderr",
          "output_type": "stream",
          "text": [
            "100%|██████████| 4881/4881 [00:00<00:00, 1447221.68it/s]\n"
          ]
        }
      ],
      "source": [
        "totalCorreto = 0\n",
        "total = len(listaText)\n",
        "\n",
        "for z in tqdm(range(len(listaText))):\n",
        "  if listaText[z] == mensagens_secreta[z]:\n",
        "    totalCorreto += 1"
      ]
    },
    {
      "cell_type": "code",
      "execution_count": null,
      "metadata": {
        "colab": {
          "background_save": true
        },
        "id": "K-5TID9Tq9Ua",
        "outputId": "f3442da5-2d31-48a5-feed-18fe006a7129"
      },
      "outputs": [
        {
          "name": "stdout",
          "output_type": "stream",
          "text": [
            "Percentual Correto: 93.56689203032165%\n"
          ]
        }
      ],
      "source": [
        "print('Percentual Correto: ' + str((totalCorreto / total) * 100) + '%')"
      ]
    },
    {
      "cell_type": "markdown",
      "metadata": {
        "id": "z3cMY-z3kj3Q"
      },
      "source": [
        "<hr/>"
      ]
    },
    {
      "cell_type": "markdown",
      "metadata": {
        "id": "m32gmPM7kwT3"
      },
      "source": [
        "**Calcula as metricas de qualidade da imagem visando comparar as imagens originais com as imagens contendo esteganografia**"
      ]
    },
    {
      "cell_type": "code",
      "execution_count": null,
      "metadata": {
        "colab": {
          "background_save": true
        },
        "id": "zd41XWhdjQoi"
      },
      "outputs": [],
      "source": [
        "def mean_squared_error(a, b):\n",
        "  t = 0\n",
        "  n = 0\n",
        "  \n",
        "  for i in range(a.shape[0]):\n",
        "    for j in range(a.shape[1]):\n",
        "      for k in range(a.shape[2]):\n",
        "        t += (a[i][j][k] - b[i][j][k])**2\n",
        "        n += 1\n",
        "  \n",
        "  t /= n\n",
        "\n",
        "  return t"
      ]
    },
    {
      "cell_type": "code",
      "execution_count": null,
      "metadata": {
        "colab": {
          "background_save": true
        },
        "id": "LBlKgFySkzSL"
      },
      "outputs": [],
      "source": [
        "def peak_signal_to_noise_ratio(mse):\n",
        "  return 10 * math.log10((255**2)/(mse))"
      ]
    },
    {
      "cell_type": "code",
      "execution_count": null,
      "metadata": {
        "colab": {
          "background_save": true
        },
        "id": "1XY9_ee9mk1u",
        "outputId": "e0cc27e1-a8a6-4861-f1e5-2a92a125e58a"
      },
      "outputs": [
        {
          "name": "stderr",
          "output_type": "stream",
          "text": [
            "100%|██████████| 4881/4881 [00:00<00:00, 13254.06it/s]\n"
          ]
        }
      ],
      "source": [
        "images = []\n",
        "\n",
        "for fileName in tqdm(os.listdir('dataset/')):\n",
        "  img = Image.open('dataset/' + fileName)\n",
        "  images.append(img)"
      ]
    },
    {
      "cell_type": "code",
      "execution_count": null,
      "metadata": {
        "colab": {
          "background_save": true
        },
        "id": "wTCnH-Spk3l6"
      },
      "outputs": [],
      "source": [
        "dataset_imagens_originais = []\n",
        "\n",
        "for img in images:\n",
        "  arr = np.asarray(img, dtype='int')\n",
        "\n",
        "  if len(arr.shape) == 3:\n",
        "    dataset_imagens_originais.append(arr)\n",
        "\n",
        "dataset_imagens_originais = np.array(dataset_imagens_originais)"
      ]
    },
    {
      "cell_type": "code",
      "execution_count": null,
      "metadata": {
        "colab": {
          "background_save": true
        },
        "id": "02H8dXO5mOWd",
        "outputId": "280cfea9-7d5f-453c-a179-7818ef83948a"
      },
      "outputs": [
        {
          "name": "stderr",
          "output_type": "stream",
          "text": [
            "100%|██████████| 4881/4881 [00:02<00:00, 2063.57it/s]\n"
          ]
        }
      ],
      "source": [
        "images_stegano = []\n",
        "\n",
        "listaFileName = os.listdir('dataset_esteganografia/')\n",
        "listaFileName.sort()\n",
        "\n",
        "for fileName in tqdm(listaFileName):\n",
        "  img = Image.open('dataset_esteganografia/' + fileName)\n",
        "  images_stegano.append(img)"
      ]
    },
    {
      "cell_type": "code",
      "execution_count": null,
      "metadata": {
        "colab": {
          "background_save": true
        },
        "id": "0T2K63HHl3YP"
      },
      "outputs": [],
      "source": [
        "dataset_imagens_esteganografia = []\n",
        "\n",
        "for img in images_stegano:\n",
        "  arr = np.asarray(img, dtype='int')\n",
        "\n",
        "  if len(arr.shape) == 3:\n",
        "    dataset_imagens_esteganografia.append(arr)\n",
        "\n",
        "dataset_imagens_esteganografia = np.array(dataset_imagens_esteganografia)"
      ]
    },
    {
      "cell_type": "code",
      "execution_count": null,
      "metadata": {
        "colab": {
          "background_save": true
        },
        "id": "ocTJWvICmdZS"
      },
      "outputs": [],
      "source": [
        "diff = np.abs(dataset_imagens_originais - dataset_imagens_esteganografia)"
      ]
    },
    {
      "cell_type": "code",
      "execution_count": null,
      "metadata": {
        "colab": {
          "background_save": true
        },
        "id": "-gpmvf8emfcC",
        "outputId": "cf376825-0723-4327-fa82-2406672838ab"
      },
      "outputs": [
        {
          "name": "stderr",
          "output_type": "stream",
          "text": [
            "Clipping input data to the valid range for imshow with RGB data ([0..1] for floats or [0..255] for integers).\n",
            "Clipping input data to the valid range for imshow with RGB data ([0..1] for floats or [0..255] for integers).\n",
            "Clipping input data to the valid range for imshow with RGB data ([0..1] for floats or [0..255] for integers).\n",
            "Clipping input data to the valid range for imshow with RGB data ([0..1] for floats or [0..255] for integers).\n",
            "Clipping input data to the valid range for imshow with RGB data ([0..1] for floats or [0..255] for integers).\n"
          ]
        },
        {
          "data": {
            "image/png": "[encoded data removed]",
            "text/plain": [
              "<Figure size 1080x432 with 15 Axes>"
            ]
          },
          "metadata": {},
          "output_type": "display_data"
        }
      ],
      "source": [
        "n = 5\n",
        "plt.figure(figsize=(15, 6))\n",
        "for i in range(n):\n",
        "  ax = plt.subplot(3, n, i + 1)\n",
        "  plt.imshow(dataset_imagens_originais[i])\n",
        "  plt.title(\"original\")\n",
        "  plt.gray()\n",
        "  ax.get_xaxis().set_visible(False)\n",
        "  ax.get_yaxis().set_visible(False)\n",
        "\n",
        "  ax = plt.subplot(3, n, i + 1 + n)\n",
        "  plt.imshow(dataset_imagens_esteganografia[i])\n",
        "  plt.title(\"Codificada\")\n",
        "  plt.gray()\n",
        "  ax.get_xaxis().set_visible(False)\n",
        "  ax.get_yaxis().set_visible(False)\n",
        "    \n",
        "  ax = plt.subplot(3, n, i + 1 + n + n)\n",
        "  plt.imshow(diff[i] * 10)\n",
        "  plt.title(\"Diferença\")\n",
        "  plt.gray()\n",
        "  ax.get_xaxis().set_visible(False)\n",
        "  ax.get_yaxis().set_visible(False)\n",
        "\n",
        "plt.savefig('dieferença_imagens.png')\n",
        "plt.show()"
      ]
    },
    {
      "cell_type": "code",
      "execution_count": null,
      "metadata": {
        "colab": {
          "background_save": true
        },
        "id": "IXulAebam9r5",
        "outputId": "20afca91-d406-4d0a-c2b1-1bc5f4fb2ff5"
      },
      "outputs": [
        {
          "name": "stdout",
          "output_type": "stream",
          "text": [
            "Quantidade de imagens com erro de codificação:  80\n",
            "\n",
            "MSE Médio: 139.52315554533865\n",
            "PSNR Médio: 26.485530382203454\n",
            "SSIM Médio: 0.9836099160008195\n"
          ]
        }
      ],
      "source": [
        "mseMedio = 0\n",
        "psnrMedio = 0\n",
        "ssimMedio = 0\n",
        "\n",
        "mseVet = []\n",
        "psnrVet = []\n",
        "ssimVet = []\n",
        "\n",
        "imagensComErroDeCodificacao = []\n",
        "\n",
        "for i in range(dataset_imagens_originais.shape[0]):\n",
        "  mse = mean_squared_error(dataset_imagens_originais[i], dataset_imagens_esteganografia[i])\n",
        "  mseMedio += mse\n",
        "\n",
        "  if mse >= 200:\n",
        "    imagensComErroDeCodificacao.append(mse)\n",
        "    continue\n",
        "\n",
        "  mseVet.append(mse)\n",
        "\n",
        "  psnr = peak_signal_to_noise_ratio(mse)\n",
        "  psnrMedio += psnr\n",
        "  psnrVet.append(psnr)\n",
        "\n",
        "  ssim = structural_similarity(dataset_imagens_originais[i], dataset_imagens_esteganografia[i], multichannel=True)\n",
        "  ssimMedio += ssim\n",
        "  ssimVet.append(ssim)\n",
        "\n",
        "mseMedio /= dataset_imagens_originais.shape[0]\n",
        "psnrMedio /= dataset_imagens_originais.shape[0]\n",
        "ssimMedio /= dataset_imagens_originais.shape[0]\n",
        "\n",
        "print('Quantidade de imagens com erro de codificação: ', str(len(imagensComErroDeCodificacao)))\n",
        "\n",
        "print()\n",
        "\n",
        "print('MSE Médio:', mseMedio)\n",
        "print('PSNR Médio:', psnrMedio)\n",
        "print('SSIM Médio:', ssimMedio)"
      ]
    },
    {
      "cell_type": "code",
      "execution_count": null,
      "metadata": {
        "colab": {
          "background_save": true,
          "referenced_widgets": [
            "f45a8fa95339458cb1f5955685ef6be6",
            "bd692ecf92844feaa245280f3babc4b6"
          ]
        },
        "id": "pPa_qPPpnj01",
        "outputId": "e095b2bb-8f24-426f-f655-ac66b21bd6db"
      },
      "outputs": [
        {
          "name": "stdout",
          "output_type": "stream",
          "text": [
            "Setting up [LPIPS] perceptual loss: trunk [alex], v[0.1], spatial [off]\n"
          ]
        },
        {
          "name": "stderr",
          "output_type": "stream",
          "text": [
            "Downloading: \"https://download.pytorch.org/models/alexnet-owt-7be5be79.pth\" to /root/.cache/torch/hub/checkpoints/alexnet-owt-7be5be79.pth\n"
          ]
        },
        {
          "data": {
            "application/vnd.jupyter.widget-view+json": {
              "model_id": "f45a8fa95339458cb1f5955685ef6be6",
              "version_major": 2,
              "version_minor": 0
            },
            "text/plain": [
              "  0%|          | 0.00/233M [00:00<?, ?B/s]"
            ]
          },
          "metadata": {},
          "output_type": "display_data"
        },
        {
          "name": "stdout",
          "output_type": "stream",
          "text": [
            "Loading model from: /usr/local/lib/python3.7/dist-packages/lpips/weights/v0.1/alex.pth\n",
            "Setting up [LPIPS] perceptual loss: trunk [vgg], v[0.1], spatial [off]\n"
          ]
        },
        {
          "name": "stderr",
          "output_type": "stream",
          "text": [
            "Downloading: \"https://download.pytorch.org/models/vgg16-397923af.pth\" to /root/.cache/torch/hub/checkpoints/vgg16-397923af.pth\n"
          ]
        },
        {
          "data": {
            "application/vnd.jupyter.widget-view+json": {
              "model_id": "bd692ecf92844feaa245280f3babc4b6",
              "version_major": 2,
              "version_minor": 0
            },
            "text/plain": [
              "  0%|          | 0.00/528M [00:00<?, ?B/s]"
            ]
          },
          "metadata": {},
          "output_type": "display_data"
        },
        {
          "name": "stdout",
          "output_type": "stream",
          "text": [
            "Loading model from: /usr/local/lib/python3.7/dist-packages/lpips/weights/v0.1/vgg.pth\n"
          ]
        }
      ],
      "source": [
        "loss_fn_alex = lpips.LPIPS(net='alex') # best forward scores\n",
        "loss_fn_vgg = lpips.LPIPS(net='vgg') # closer to \"traditional\" perceptual loss, when used for optimization"
      ]
    },
    {
      "cell_type": "code",
      "execution_count": null,
      "metadata": {
        "colab": {
          "background_save": true
        },
        "id": "ozxaW5BonpHK"
      },
      "outputs": [],
      "source": [
        "dataset_imagens_originais = (dataset_imagens_originais - 127.5) / 127.5\n",
        "dataset_imagens_esteganografia = (dataset_imagens_esteganografia - 127.5) / 127.5"
      ]
    },
    {
      "cell_type": "code",
      "execution_count": null,
      "metadata": {
        "colab": {
          "background_save": true
        },
        "id": "CYS4xUa0oNbh"
      },
      "outputs": [],
      "source": [
        "dataset_imagens_originais_t = []\n",
        "dataset_imagens_esteganografia_t = []\n",
        "\n",
        "for idx, i in enumerate(dataset_imagens_originais):\n",
        "  \n",
        "  if idx in imagensComErroDeCodificacao:\n",
        "    continue\n",
        "\n",
        "  dataset_imagens_originais_t.append(i.T)\n",
        "\n",
        "for idx, i in enumerate(dataset_imagens_esteganografia):\n",
        "\n",
        "  if idx in imagensComErroDeCodificacao:\n",
        "    continue\n",
        "\n",
        "  dataset_imagens_esteganografia_t.append(i.T)\n",
        "\n",
        "dataset_imagens_originais_t = np.array(dataset_imagens_originais_t)\n",
        "dataset_imagens_esteganografia_t = np.array(dataset_imagens_esteganografia_t)"
      ]
    },
    {
      "cell_type": "code",
      "execution_count": null,
      "metadata": {
        "colab": {
          "background_save": true
        },
        "id": "btxVYjuXoPvZ"
      },
      "outputs": [],
      "source": [
        "alex = []\n",
        "leng = len(dataset_imagens_originais_t)\n",
        "\n",
        "for i in range(0, leng, 500):\n",
        "  alex.append(loss_fn_alex(torch.from_numpy(dataset_imagens_originais_t[i:min(i+500, leng)]).float(), torch.from_numpy(dataset_imagens_esteganografia_t[i:min(i+500, leng)]).float()))"
      ]
    },
    {
      "cell_type": "code",
      "execution_count": null,
      "metadata": {
        "colab": {
          "background_save": true
        },
        "id": "l28a8dqVoR2u"
      },
      "outputs": [],
      "source": [
        "vgg = []\n",
        "leng = len(dataset_imagens_originais_t)\n",
        "\n",
        "for i in range(0, leng, 500):\n",
        "  vgg.append(loss_fn_vgg(torch.from_numpy(dataset_imagens_originais_t[i:min(i+500, leng)]).float(), torch.from_numpy(dataset_imagens_esteganografia_t[i:min(i+500, leng)]).float()))"
      ]
    },
    {
      "cell_type": "code",
      "execution_count": null,
      "metadata": {
        "colab": {
          "background_save": true
        },
        "id": "L5EZNmqKod_C"
      },
      "outputs": [],
      "source": [
        "alexNp = []\n",
        "vggNp = []\n",
        "\n",
        "for i in alex:\n",
        "  alexNp.append(i.cpu().detach().numpy())\n",
        "\n",
        "for i in vgg:\n",
        "  vggNp.append(i.cpu().detach().numpy())"
      ]
    },
    {
      "cell_type": "code",
      "execution_count": null,
      "metadata": {
        "colab": {
          "background_save": true
        },
        "id": "GprSOA6zogDC"
      },
      "outputs": [],
      "source": [
        "alexVet = []\n",
        "vggVet = []\n",
        "\n",
        "for i in range(len(alexNp)):\n",
        "  for j in range(alexNp[i].shape[0]):\n",
        "    alexVet.append(alexNp[i][j][0][0][0])\n",
        "    vggVet.append(vggNp[i][j][0][0][0])\n",
        "\n",
        "alexVet = np.array(alexVet)\n",
        "vggVet = np.array(vggVet)"
      ]
    },
    {
      "cell_type": "code",
      "execution_count": null,
      "metadata": {
        "colab": {
          "background_save": true
        },
        "id": "_LEChir_oiCj",
        "outputId": "bb51a1b1-4092-4076-a49f-4fe39ae18ae1"
      },
      "outputs": [
        {
          "name": "stdout",
          "output_type": "stream",
          "text": [
            "Alex Médio: 0.005857221\n",
            "VGG Médio: 0.09575837\n"
          ]
        }
      ],
      "source": [
        "print('Alex Médio:', alexVet.mean())\n",
        "print('VGG Médio:', vggVet.mean())"
      ]
    },
    {
      "cell_type": "code",
      "execution_count": null,
      "metadata": {
        "colab": {
          "background_save": true
        },
        "id": "gWnctN_2oj4k",
        "outputId": "953b8f68-07b4-401b-afab-23e0a0e1d76a"
      },
      "outputs": [
        {
          "data": {
            "image/png": "[encoded data removed]",
            "text/plain": [
              "<Figure size 432x288 with 1 Axes>"
            ]
          },
          "metadata": {},
          "output_type": "display_data"
        }
      ],
      "source": [
        "legend = []\n",
        "\n",
        "plt.plot(mseVet)\n",
        "legend.append('MSE')\n",
        "plt.plot(psnrVet)\n",
        "legend.append('PSNR')\n",
        "plt.title('Medida de semelhança por imagem')\n",
        "plt.ylabel('Medida de semelhança')\n",
        "plt.xlabel('Imagem')\n",
        "plt.legend(legend, loc='upper left')\n",
        "plt.savefig('medida_de_semelhança_por_imagem_1.png')\n",
        "plt.show()"
      ]
    },
    {
      "cell_type": "code",
      "execution_count": null,
      "metadata": {
        "colab": {
          "background_save": true
        },
        "id": "ENdFrHfLomV3",
        "outputId": "81550654-a82f-40d4-a654-0ea6e21aacc4"
      },
      "outputs": [
        {
          "data": {
            "image/png": "[encoded data removed]",
            "text/plain": [
              "<Figure size 432x288 with 1 Axes>"
            ]
          },
          "metadata": {},
          "output_type": "display_data"
        }
      ],
      "source": [
        "legend = []\n",
        "\n",
        "plt.plot(ssimVet)\n",
        "legend.append('SSIM')\n",
        "plt.plot(alexVet)\n",
        "legend.append('ALEX')\n",
        "plt.plot(vggVet)\n",
        "legend.append('VGG')\n",
        "plt.title('Medida de semelhança por imagem')\n",
        "plt.ylabel('Medida de semelhança')\n",
        "plt.xlabel('Imagem')\n",
        "plt.legend(legend, loc='upper left')\n",
        "plt.savefig('medida_de_semelhança_por_imagem_2.png')\n",
        "plt.show()"
      ]
    },
    {
      "cell_type": "code",
      "execution_count": null,
      "metadata": {
        "colab": {
          "background_save": true
        },
        "id": "i4xGFs9EGqNt",
        "outputId": "a9c60bda-d6b3-4cad-f10e-ee7734ab537a"
      },
      "outputs": [
        {
          "name": "stdout",
          "output_type": "stream",
          "text": [
            "--- Execution time: 1091.1689505577087 seconds ---\n"
          ]
        }
      ],
      "source": [
        "print(\"--- Execution time: %s seconds ---\" % (time.time() - start_time))"
      ]
    },
    {
      "cell_type": "code",
      "execution_count": null,
      "metadata": {
        "colab": {
          "background_save": true
        },
        "id": "8YpdRRdBTdz7"
      },
      "outputs": [],
      "source": [
        ""
      ]
    }
  ],
  "metadata": {
    "colab": {
      "background_execution": "on",
      "collapsed_sections": [],
      "machine_shape": "hm",
      "name": "DCT - JPEG - Pokemon.ipynb",
      "provenance": []
    },
    "kernelspec": {
      "display_name": "Python 3",
      "name": "python3"
    },
    "language_info": {
      "name": "python"
    }
  },
  "nbformat": 4,
  "nbformat_minor": 0
}